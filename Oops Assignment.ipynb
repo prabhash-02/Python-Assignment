{
 "cells": [
  {
   "cell_type": "markdown",
   "id": "1dc4bccb-7451-4952-96f9-f894b0e9c907",
   "metadata": {},
   "source": [
    " # Theroitical Questions"
   ]
  },
  {
   "cell_type": "markdown",
   "id": "1c827d94-d511-473d-90a0-f10db533a545",
   "metadata": {},
   "source": [
    "1. What is Object-Oriented Programming (OOP)?"
   ]
  },
  {
   "cell_type": "markdown",
   "id": "62e47225-4cc1-45ab-b34b-e79aa794114c",
   "metadata": {},
   "source": [
    "Object-Oriented Programming (OOP) is a programming paradigm that revolves around the concept of \"objects,\" which can contain 1  both data (attributes) and code (methods) that operate on that data. Think of it like modeling real-world things in your code.\n",
    "\n",
    "Key Concepts of OOP:\n",
    "Objects: The fundamental building blocks of OOP. An object is an instance of a class and has state (data) and behavior (methods). For example, a \"car\" object might have attributes like color, model, and speed, and methods like accelerate, brake, and turn.\n",
    "Classes: Blueprints for creating objects. A class defines the attributes and methods that objects of that class will have. In the car example, the \"Car\" class would define the general properties of all cars.\n",
    "Encapsulation: Bundling data and the methods that operate on that data within a class, and controlling access to that data. This helps protect data from unintended modification.\n",
    "Inheritance: Creating new classes based on existing classes. This promotes code reuse and establishes relationships between classes. For example, a \"SportsCar\" class could inherit from the \"Car\" class, inheriting its basic properties but adding specific features like a spoiler or turbocharger.\n",
    "Polymorphism: The ability of objects of different classes to respond to the same method call in their own specific ways. This allows for flexibility and adaptability in code. For example, both a \"Car\" and a \"Bicycle\" object might have a \"move\" method, but they would implement it differently.\n",
    "Benefits of OOP:\n",
    "\n",
    "Modularity: Code is organized into reusable objects, making it easier to manage and maintain.\n",
    "Code Reusability: Inheritance allows for reusing existing code, reducing development time and effort.\n",
    "Maintainability: Changes to one part of the code are less likely to affect other parts, making it easier to update and debug.\n",
    "Flexibility: Polymorphism allows for writing code that can work with objects of different classes in a generic way.\n",
    "Popular OOP Languages:\n",
    "Java\n",
    "C++\n",
    "Python\n",
    "C#\n",
    "JavaScript\n",
    "OOP is a powerful and widely used programming paradigm that helps in developing complex and maintainable software systems.\n",
    "\n",
    "\n",
    "\n",
    "\n",
    "\n",
    "\n",
    "\n",
    "\n",
    "\n",
    "\n",
    "\n"
   ]
  },
  {
   "cell_type": "markdown",
   "id": "2fbcca22-b306-4913-b57a-5992ad9e22b8",
   "metadata": {},
   "source": [
    "2. What is a class in OOP?"
   ]
  },
  {
   "cell_type": "markdown",
   "id": "b8bfc121-7822-48d0-9ae8-acf20cbccd61",
   "metadata": {},
   "source": [
    "In object-oriented programming (OOP), a class is a blueprint for creating objects. It defines the properties (attributes) and actions (methods) that objects of that class will have.   \n",
    "\n",
    "Here's a breakdown:\n",
    "\n",
    "Blueprint: A class is like a template or a cookie cutter. It doesn't represent a specific object itself, but it defines the structure and behavior that objects created from it will follow.   \n",
    "Objects: Objects are instances of a class. They are concrete entities that have specific values for the properties defined by the class.   \n",
    "Properties (Attributes): These are the data that an object holds. For example, if you have a class called \"Car,\" properties might include \"color,\" \"make,\" \"model,\" and \"year.\"   \n",
    "Actions (Methods): These are the things that an object can do. For the \"Car\" class, methods might include \"start,\" \"accelerate,\" \"brake,\" and \"honk.\"   \n",
    "Analogy:\n",
    "\n",
    "Imagine you have a blueprint for a house. The blueprint is the class. It specifies things like the number of rooms, the layout, and the materials to be used. Each house built from that blueprint is an object. They all share the same basic structure defined by the blueprint, but they might have different paint colors, furniture, and landscaping.   \n",
    "\n",
    "Benefits of using classes:\n",
    "\n",
    "Organization: Classes help to organize code by grouping related data and actions together.   \n",
    "Reusability: Once a class is defined, it can be used to create multiple objects, saving time and effort.   \n",
    "Modularity: Classes can be developed and tested independently, making it easier to build complex systems.\n",
    "Abstraction: Classes hide the internal details of how an object works, exposing only the necessary information to the user.   \n"
   ]
  },
  {
   "cell_type": "markdown",
   "id": "6bba3008-0933-407f-98d4-c3ba4d8c1552",
   "metadata": {},
   "source": [
    "3. What is an object in OOP?"
   ]
  },
  {
   "cell_type": "markdown",
   "id": "55b6a007-f8d3-49b3-8bf9-a4fc3a7ac659",
   "metadata": {},
   "source": [
    "In Object-Oriented Programming (OOP), an object is a self-contained entity that consists of both data (attributes or properties) and behavior (methods or functions). It is an instance of a class, which serves as a blueprint for creating objects.\n",
    "\n",
    "Key Points about Objects:\n",
    "State (Attributes/Properties): The state of an object is represented by its attributes, which are variables that store data. For example, in a Car class, attributes might include color, make, model, and speed.\n",
    "\n",
    "Behavior (Methods/Functions): The behavior of an object is defined by its methods, which are functions that operate on the object's data. These methods allow the object to perform actions or interact with other objects. For instance, the Car class might have methods like accelerate(), brake(), or honk().\n",
    "\n",
    "Identity: Each object has a unique identity, meaning that even if two objects have the same attributes, they are distinct instances. This identity allows each object to be individually referenced and manipulated.\n",
    "\n",
    "Encapsulation: Objects in OOP promote the concept of encapsulation, which means that an object's internal state is protected from direct access. Instead, interaction with the object is done through its public methods, ensuring that data is modified only in controlled ways."
   ]
  },
  {
   "cell_type": "markdown",
   "id": "629809f6-ff14-4381-9016-32f66a245a4f",
   "metadata": {},
   "source": [
    "4. What is the difference between abstraction and encapsulation?"
   ]
  },
  {
   "cell_type": "markdown",
   "id": "b5dd4174-976e-4533-9ec2-016d68cf40ed",
   "metadata": {},
   "source": [
    "Abstraction and encapsulation are two fundamental concepts in object-oriented programming (OOP) that are often confused with each other. While they are related, they serve different purposes:\n",
    "\n",
    "Abstraction\n",
    "\n",
    "Abstraction is the process of exposing only the necessary information about an object or system while hiding its internal details. It involves defining an interface or a contract that specifies how to interact with the object or system without revealing its underlying implementation.\n",
    "\n",
    "Example\n",
    "\n",
    "A car's transmission system is a complex mechanism, but you don't need to know the details to drive the car. You only need to know how to use the gearshift and accelerator pedal. This is an example of abstraction, where the complexity of the transmission system is hidden, and only the necessary information is exposed.\n",
    "\n",
    "Encapsulation\n",
    "\n",
    "Encapsulation is the process of bundling data and methods that operate on that data within a single unit, making it harder for other parts of the program to access or modify the data directly. Encapsulation helps to protect the data from external interference and misuse.\n",
    "\n",
    "Example\n",
    "\n",
    "A bank account object can encapsulate the account balance and methods to deposit, withdraw, and check the balance. The account balance is not directly accessible from outside the object, and the methods provide a controlled interface to interact with the balance. This is an example of encapsulation, where the data (account balance) is bundled with the methods that operate on it.\n",
    "\n",
    "Key differences\n",
    "\n",
    "1. Purpose: Abstraction is about exposing only the necessary information, while encapsulation is about bundling data and methods to protect the data.\n",
    "2. Focus: Abstraction focuses on the interface or contract, while encapsulation focuses on the implementation details.\n",
    "3. Scope: Abstraction can be applied to a single object or an entire system, while encapsulation is typically applied to a single object or a small group of objects.\n",
    "\n",
    "In summary, abstraction is about hiding complexity and exposing only the necessary information, while encapsulation is about bundling data and methods to protect the data and provide a controlled interface."
   ]
  },
  {
   "cell_type": "markdown",
   "id": "57d7aac3-20e3-434f-b994-f5a2734711e8",
   "metadata": {},
   "source": [
    "5. What are dunder methods in Python?"
   ]
  },
  {
   "cell_type": "markdown",
   "id": "245d4eba-3f28-4f06-bb98-31c98c452273",
   "metadata": {},
   "source": [
    "In Python, \"dunder\" methods are special methods that are surrounded by double underscores (i.e., __) on either side of the method name. These methods are also known as \"magic methods\" or \"special methods.\"\n",
    "\n",
    "Dunder methods are used to emulate the behavior of built-in types, such as integers, strings, or lists. They allow you to customize the behavior of your objects, making them more Pythonic and easier to use.\n",
    "\n",
    "Here are some examples of dunder methods:\n",
    "\n",
    "1. __init__: Initializes an object when it's created.\n",
    "2. __str__: Returns a string representation of an object.\n",
    "3. __repr__: Returns a string representation of an object, used for debugging.\n",
    "4. __add__: Implements the addition operator (+) for an object.\n",
    "5. __len__: Returns the length of an object, used with the len() function.\n",
    "6. __getitem__: Implements indexing for an object, used with the [] operator.\n",
    "7. __setitem__: Implements assignment to an indexed element, used with the [] operator.\n",
    "\n",
    "By implementing dunder methods, you can make your objects more intuitive and easier to use. For example, you can create a Vector class that supports addition and scalar multiplication using the + and * operators."
   ]
  },
  {
   "cell_type": "markdown",
   "id": "95017834-f99f-4499-8dfe-bd3fba567ba2",
   "metadata": {},
   "source": [
    "6. Explain the concept of inheritance in OOP."
   ]
  },
  {
   "cell_type": "code",
   "execution_count": 6,
   "id": "b486fe7b-6c12-402d-a236-119fe476ca96",
   "metadata": {},
   "outputs": [
    {
     "name": "stdout",
     "output_type": "stream",
     "text": [
      "Engine started\n",
      "Accelerating\n",
      "Trunk opened\n"
     ]
    }
   ],
   "source": [
    "'''\n",
    "Inheritance is a fundamental concept in Object-Oriented Programming (OOP) that allows one class to inherit the properties and behavior of another class. This enables code reuse, facilitates the creation of a hierarchy of related classes, and promotes modularity.\n",
    "\n",
    "Key Concepts:\n",
    "1. Parent Class (Superclass): The class from which another class inherits its properties and behavior.\n",
    "2. Child Class (Subclass): The class that inherits the properties and behavior of the parent class.\n",
    "3. Inheritance: The process of creating a new class based on an existing class.\n",
    "Types of Inheritance:\n",
    "4. Single Inheritance: A child class inherits from a single parent class.\n",
    "5. Multiple Inheritance: A child class inherits from multiple parent classes.\n",
    "6. Multilevel Inheritance: A child class inherits from a parent class, which in turn inherits from another parent class.\n",
    "7. Hierarchical Inheritance: A parent class has multiple child classes.\n",
    "Benefits of Inheritance:\n",
    "8. Code Reusability: Inheritance allows child classes to reuse the code of the parent class.\n",
    "9. Modularity: Inheritance promotes modularity by breaking down complex systems into smaller, more manageable components.\n",
    "10. Easier Maintenance: Changes to the parent class automatically propagate to child classes.\n",
    "Example:\n",
    "'''\n",
    "#Suppose we have a Vehicle class with attributes like color, maxSpeed, and methods like startEngine(), accelerate(). We can create child classes like Car, Truck, Motorcycle that inherit the common attributes and methods from Vehicle.\n",
    "\n",
    "class Vehicle:\n",
    "    def __init__(self, color, maxSpeed):\n",
    "        self.color = color\n",
    "        self.maxSpeed = maxSpeed\n",
    "\n",
    "    def startEngine(self):\n",
    "        print(\"Engine started\")\n",
    "\n",
    "    def accelerate(self):\n",
    "        print(\"Accelerating\")\n",
    "\n",
    "class Car(Vehicle):\n",
    "    def __init__(self, color, maxSpeed, numDoors):\n",
    "        super().__init__(color, maxSpeed)\n",
    "        self.numDoors = numDoors\n",
    "\n",
    "    def openTrunk(self):\n",
    "        print(\"Trunk opened\")\n",
    "\n",
    "myCar = Car(\"Red\", 120, 4)\n",
    "myCar.startEngine()  # Output: Engine started\n",
    "myCar.accelerate()  # Output: Accelerating\n",
    "myCar.openTrunk()  # Output: Trunk opened\n",
    "\n",
    "#In this example, the Car class inherits the color, maxSpeed, startEngine(), and accelerate() attributes and methods from the Vehicle class. The Car class also adds its own attribute numDoors and method openTrunk()."
   ]
  },
  {
   "cell_type": "markdown",
   "id": "a5f47211-c1f3-4429-a94a-ebace804394e",
   "metadata": {},
   "source": [
    "7. What is polymorphism in OOP?"
   ]
  },
  {
   "cell_type": "code",
   "execution_count": 7,
   "id": "d9af0753-94ae-4c98-9b43-98fce72a6737",
   "metadata": {},
   "outputs": [
    {
     "name": "stdout",
     "output_type": "stream",
     "text": [
      "78.5\n",
      "24\n"
     ]
    }
   ],
   "source": [
    "'''\n",
    "Polymorphism is a fundamental concept in Object-Oriented Programming (OOP) that allows objects of different classes to be treated as objects of a common superclass. This enables you to write code that can work with different types of objects without knowing their specific class type.\n",
    "\n",
    "Key Concepts:\n",
    "1. Method Overloading: Multiple methods with the same name but different parameters.\n",
    "2. Method Overriding: A subclass provides a different implementation of a method that is already defined in its superclass.\n",
    "3. Operator Overloading: Redefining the behavior of operators such as +, -, *, /, etc. for user-defined classes.\n",
    "4. Function Polymorphism: A function can take arguments of different types.\n",
    "Types of Polymorphism:\n",
    "5. Compile-time Polymorphism: Method overloading is resolved at compile-time.\n",
    "6. Runtime Polymorphism: Method overriding is resolved at runtime.\n",
    "Benefits of Polymorphism:\n",
    "7. Increased Flexibility: Polymorphism allows you to write code that can work with different types of objects.\n",
    "8. Improved Code Reusability: Polymorphism enables code reuse by allowing you to write methods that can work with different classes.\n",
    "9. Easier Maintenance: Polymorphism makes it easier to modify code by allowing you to add new classes without changing existing code.\n",
    "Example:\n",
    "'''\n",
    "#Suppose we have a Shape class with a calculateArea() method. We can create subclasses like Circle, Rectangle, and Triangle that override the calculateArea() method.\n",
    "\n",
    "class Shape:\n",
    "    def calculateArea(self):\n",
    "        pass\n",
    "\n",
    "class Circle(Shape):\n",
    "    def __init__(self, radius):\n",
    "        self.radius = radius\n",
    "\n",
    "    def calculateArea(self):\n",
    "        return 3.14 * self.radius ** 2\n",
    "\n",
    "class Rectangle(Shape):\n",
    "    def __init__(self, width, height):\n",
    "        self.width = width\n",
    "        self.height = height\n",
    "\n",
    "    def calculateArea(self):\n",
    "        return self.width * self.height\n",
    "\n",
    "shapes = [Circle(5), Rectangle(4, 6)]\n",
    "\n",
    "for shape in shapes:\n",
    "    print(shape.calculateArea())\n",
    "\n",
    "#In this example, the Circle and Rectangle classes override the calculateArea() method of the Shape class. The shapes list contains objects of different classes, but we can iterate over the list and call the calculateArea() method on each object without knowing its specific class type."
   ]
  },
  {
   "cell_type": "markdown",
   "id": "03516834-9de9-45e1-bd36-b6d3f2ce277d",
   "metadata": {},
   "source": [
    "8. How is encapsulation achieved in Python?"
   ]
  },
  {
   "cell_type": "code",
   "execution_count": 8,
   "id": "d08b917a-4be7-409f-a5ee-d4dcc0a52bc6",
   "metadata": {},
   "outputs": [
    {
     "name": "stdout",
     "output_type": "stream",
     "text": [
      "1500\n",
      "Error: cannot access private attribute\n",
      "123456789\n",
      "123456789\n",
      "1000\n",
      "Balance cannot be negative\n"
     ]
    }
   ],
   "source": [
    "#Encapsulation is a fundamental concept in object-oriented programming (OOP) that binds together data and methods that manipulate that data. In Python, encapsulation is achieved through the use of classes and objects.\n",
    "\n",
    "#Ways to Achieve Encapsulation in Python\n",
    "\n",
    "#1. Using Classes and Objects\n",
    "\n",
    "#In Python, classes are used to define custom data types. Classes encapsulate data and methods that operate on that data.\n",
    "\n",
    "\n",
    "class BankAccount:\n",
    "    def __init__(self, account_number, balance):\n",
    "        self.__account_number = account_number\n",
    "        self.__balance = balance\n",
    "\n",
    "    def deposit(self, amount):\n",
    "        self.__balance += amount\n",
    "\n",
    "    def get_balance(self):\n",
    "        return self.__balance\n",
    "\n",
    "account = BankAccount(\"123456789\", 1000)\n",
    "account.deposit(500)\n",
    "print(account.get_balance())  # Output: 1500\n",
    "\n",
    "\n",
    "#In this example, the BankAccount class encapsulates the account_number and balance data, as well as the deposit and get_balance methods.\n",
    "\n",
    "#2. Using Access Modifiers\n",
    "\n",
    "#Python provides access modifiers to control access to class attributes and methods. The access modifiers are:\n",
    "\n",
    "#- public: No underscore prefix. Accessible from anywhere.\n",
    "#- protected: Single underscore prefix (_). Intended to be private, but can be accessed from outside the class if needed.\n",
    "#- private: Double underscore prefix (__). Not directly accessible from outside the class.\n",
    "\n",
    "\n",
    "class BankAccount:\n",
    "    def __init__(self, account_number, balance):\n",
    "        self.__account_number = account_number\n",
    "        self.__balance = balance\n",
    "\n",
    "    def deposit(self, amount):\n",
    "        self.__balance += amount\n",
    "\n",
    "    def get_balance(self):\n",
    "        return self.__balance\n",
    "\n",
    "account = BankAccount(\"123456789\", 1000)\n",
    "# Trying to access private attributes directly will raise an AttributeError\n",
    "try:\n",
    "    print(account.__account_number)\n",
    "except AttributeError:\n",
    "    print(\"Error: cannot access private attribute\")\n",
    "\n",
    "# However, you can still access private attributes using name mangling\n",
    "print(account._BankAccount__account_number)  # Output: 123456789\n",
    "\n",
    "\n",
    "#In this example, the BankAccount class uses private attributes (__account_number and __balance) to encapsulate the data. The deposit and get_balance methods provide controlled access to the private attributes.\n",
    "\n",
    "#3. Using Properties\n",
    "\n",
    "#Python provides the @property decorator to implement getters, setters, and deleters for class attributes. This allows you to control access to attributes and provide additional logic when getting or setting attribute values.\n",
    "\n",
    "\n",
    "class BankAccount:\n",
    "    def __init__(self, account_number, balance):\n",
    "        self.__account_number = account_number\n",
    "        self.__balance = balance\n",
    "\n",
    "    @property\n",
    "    def account_number(self):\n",
    "        return self.__account_number\n",
    "\n",
    "    @property\n",
    "    def balance(self):\n",
    "        return self.__balance\n",
    "\n",
    "    @balance.setter\n",
    "    def balance(self, value):\n",
    "        if value < 0:\n",
    "            raise ValueError(\"Balance cannot be negative\")\n",
    "        self.__balance = value\n",
    "\n",
    "account = BankAccount(\"123456789\", 1000)\n",
    "print(account.account_number)  # Output: 123456789\n",
    "print(account.balance)  # Output: 1000\n",
    "\n",
    "try:\n",
    "    account.balance = -500\n",
    "except ValueError as e:\n",
    "    print(e)  # Output: Balance cannot be negative\n",
    "\n",
    "\n",
    "#In this example, the BankAccount class uses properties to control access to the account_number and balance attributes. The balance property has a setter that validates the value before assigning it to the private attribute."
   ]
  },
  {
   "cell_type": "markdown",
   "id": "3708695c-6b8e-458e-bf8d-b4e7f215652d",
   "metadata": {},
   "source": [
    "9. What is a constructor in Python?"
   ]
  },
  {
   "cell_type": "code",
   "execution_count": 9,
   "id": "e4c5af15-025b-4abb-b093-5a0505c60176",
   "metadata": {},
   "outputs": [
    {
     "name": "stdout",
     "output_type": "stream",
     "text": [
      "John Doe\n",
      "30\n"
     ]
    }
   ],
   "source": [
    "'''\n",
    "In Python, a constructor is a special method that is automatically called when an object of a class is instantiated (created). The constructor is used to initialize the attributes of the class and set up the object's initial state.\n",
    "\n",
    "Key Characteristics of a Constructor in Python:\n",
    "1. Name: The constructor method is always named __init__.\n",
    "2. Parameters: The constructor method takes at least one parameter, self, which refers to the instance of the class.\n",
    "3. Return Value: The constructor method does not return any value (or returns None implicitly).\n",
    "4. Initialization: The constructor method is responsible for initializing the attributes of the class.\n",
    "'''\n",
    "#Example of a Constructor in Python:\n",
    "\n",
    "class Person:\n",
    "    def __init__(self, name, age):\n",
    "        self.name = name\n",
    "        self.age = age\n",
    "\n",
    "# Create an instance of the Person class\n",
    "person = Person(\"John Doe\", 30)\n",
    "\n",
    "# Access the attributes of the person object\n",
    "print(person.name)  # Output: John Doe\n",
    "print(person.age)   # Output: 30\n",
    "\n",
    "#In this example, the Person class has a constructor method __init__ that takes two parameters, name and age. The constructor method initializes the name and age attributes of the class. When an instance of the Person class is created, the constructor method is automatically called to initialize the attributes of the object.\n",
    "\n",
    "#Benefits of Constructors in Python:\n",
    "#1. Initialization: Constructors ensure that objects are properly initialized before they are used.\n",
    "#2. Encapsulation: Constructors help encapsulate the internal state of an object by initializing attributes that are not directly accessible from outside the class.\n",
    "#3. Code Reusability: Constructors promote code reusability by allowing you to create multiple instances of a class with different initial states."
   ]
  },
  {
   "cell_type": "markdown",
   "id": "f73c2e36-8f28-47de-9d2e-1971eb988b65",
   "metadata": {},
   "source": [
    "10. What are class and static methods in Python?"
   ]
  },
  {
   "cell_type": "code",
   "execution_count": 10,
   "id": "2f8a7b2f-4f5a-40bf-9bf0-c816bdd2eaa8",
   "metadata": {},
   "outputs": [
    {
     "name": "stdout",
     "output_type": "stream",
     "text": [
      "2\n",
      "5\n"
     ]
    }
   ],
   "source": [
    "'''\n",
    "In Python, class methods and static methods are two types of methods that can be defined inside a class.\n",
    "\n",
    "Class Methods\n",
    "\n",
    "A class method is a method that is bound to the class rather than the instance of the class. It can access or modify class state, i.e., class variables. A class method is defined using the @classmethod decorator.\n",
    "\n",
    "Key characteristics of class methods:\n",
    "1. Bound to the class: Class methods are bound to the class rather than the instance of the class.\n",
    "2. Access class state: Class methods can access or modify class variables.\n",
    "3. First parameter is the class: The first parameter of a class method is the class itself, conventionally referred to as cls.\n",
    "'''\n",
    "#Example of a class method:\n",
    "\n",
    "class MyClass:\n",
    "    count = 0\n",
    "\n",
    "    def __init__(self):\n",
    "        MyClass.count += 1\n",
    "\n",
    "    @classmethod\n",
    "    def get_count(cls):\n",
    "        return cls.count\n",
    "\n",
    "obj1 = MyClass()\n",
    "obj2 = MyClass()\n",
    "\n",
    "print(MyClass.get_count())  # Output: 2\n",
    "\n",
    "#In this example, the get_count class method returns the value of the count class variable.\n",
    "\n",
    "#Static Methods\n",
    "\n",
    "''' A static method is a method that belongs to a class rather than an instance of the class. It can't access or modify class state or instance state. A static method is defined using the @staticmethod decorator.\n",
    "\n",
    "Key characteristics of static methods:\n",
    "1. Belongs to the class: Static methods belong to the class rather than an instance of the class.\n",
    "2. Can't access class or instance state: Static methods can't access or modify class variables or instance variables.\n",
    "3. No implicit parameters: Static methods don't have any implicit parameters like self or cls.\n",
    "Example of a static method:\n",
    "'''\n",
    "class MyClass:\n",
    "    @staticmethod\n",
    "    def add(a, b):\n",
    "        return a + b\n",
    "\n",
    "print(MyClass.add(2, 3))  # Output: 5\n",
    "\n",
    "#In this example, the add static method takes two parameters and returns their sum."
   ]
  },
  {
   "cell_type": "markdown",
   "id": "8d46df27-6482-4be5-8464-af2863493382",
   "metadata": {},
   "source": [
    "11. What is method overloading in Python?"
   ]
  },
  {
   "cell_type": "code",
   "execution_count": 12,
   "id": "69f8f935-c24c-46f4-989f-bd1a79304c30",
   "metadata": {},
   "outputs": [
    {
     "name": "stdout",
     "output_type": "stream",
     "text": [
      "Hello, John!\n",
      "Hi, Jane!\n",
      "6\n",
      "15\n",
      "10\n",
      "HELLO\n"
     ]
    }
   ],
   "source": [
    "'''\n",
    "Method overloading is a feature in some programming languages that allows multiple methods with the same name to be defined, as long as they have different parameter lists. However, Python does not support method overloading in the classical sense.\n",
    "\n",
    "Why Python doesn't support method overloading:\n",
    "\n",
    "Python's dynamic typing and lack of explicit type definitions make it difficult to implement method overloading in the same way as statically-typed languages like Java or C++.\n",
    "\n",
    "Alternatives to method overloading in Python:\n",
    "\n",
    "While Python doesn't support method overloading in the classical sense, there are alternative ways to achieve similar behavior:\n",
    "\n",
    "1. Default argument values: You can define a method with default argument values, which allows you to call the method with different numbers of arguments.\n",
    "2. Variable-length argument lists: You can define a method that takes a variable number of arguments using the *args or **kwargs syntax.\n",
    "3. Single dispatch: Python 3.4 and later versions provide the @singledispatch decorator from the functools module, which allows you to define a single function that can be called with different types of arguments.\n",
    "'''\n",
    "#Example of using default argument values:\n",
    "\n",
    "def greet(name, message=\"Hello\"):\n",
    "    print(f\"{message}, {name}!\")\n",
    "\n",
    "greet(\"John\")  # Output: Hello, John!\n",
    "greet(\"Jane\", \"Hi\")  # Output: Hi, Jane!\n",
    "\n",
    "#Example of using variable-length argument lists:\n",
    "\n",
    "def sum_numbers(*numbers):\n",
    "    return sum(numbers)\n",
    "\n",
    "print(sum_numbers(1, 2, 3))  # Output: 6\n",
    "print(sum_numbers(1, 2, 3, 4, 5))  # Output: 15\n",
    "\n",
    "#Example of using single dispatch:\n",
    "\n",
    "from functools import singledispatch\n",
    "\n",
    "@singledispatch\n",
    "def fun(arg):\n",
    "    return arg\n",
    "\n",
    "@fun.register\n",
    "def _(arg: int):\n",
    "    return arg * 2\n",
    "\n",
    "@fun.register\n",
    "def _(arg: str):\n",
    "    return arg.upper()\n",
    "\n",
    "print(fun(5))  # Output: 10\n",
    "print(fun(\"hello\"))  # Output: HELLO\n"
   ]
  },
  {
   "cell_type": "markdown",
   "id": "df1b4c9a-4342-4b99-8546-cb9919e72aa4",
   "metadata": {},
   "source": [
    "12. What is method overriding in OOP?"
   ]
  },
  {
   "cell_type": "code",
   "execution_count": 13,
   "id": "1774963d-d23d-4a7e-ae15-8b62f951d12d",
   "metadata": {},
   "outputs": [
    {
     "name": "stdout",
     "output_type": "stream",
     "text": [
      "20\n",
      "28.26\n"
     ]
    }
   ],
   "source": [
    "'''\n",
    "Method overriding is a fundamental concept in Object-Oriented Programming (OOP) that allows a subclass to provide a different implementation of a method that is already defined in its superclass. This enables the subclass to specialize or customize the behavior of the method to suit its specific needs.\n",
    "\n",
    "Key Characteristics of Method Overriding:\n",
    "\n",
    "1. Method Name and Signature: The method name and signature (i.e., the number and types of parameters) must be identical in both the superclass and subclass.\n",
    "2. Return Type: The return type of the overridden method in the subclass can be the same as or a subtype of the return type in the superclass.\n",
    "3. Access Modifier: The access modifier (e.g., public, private, protected) of the overridden method in the subclass must be the same as or more accessible than the access modifier in the superclass.\n",
    "\n",
    "Benefits of Method Overriding:\n",
    "\n",
    "1. Customization: Method overriding allows subclasses to customize the behavior of methods inherited from their superclasses.\n",
    "2. Specialization: Subclasses can use method overriding to specialize the behavior of methods to suit their specific needs.\n",
    "3. Increased Flexibility: Method overriding promotes flexibility in programming by enabling subclasses to adapt to changing requirements.\n",
    "'''\n",
    "#Example of Method Overriding in Python:\n",
    "\n",
    "\n",
    "class Shape:\n",
    "    def area(self):\n",
    "        pass\n",
    "\n",
    "class Rectangle(Shape):\n",
    "    def __init__(self, width, height):\n",
    "        self.width = width\n",
    "        self.height = height\n",
    "\n",
    "    def area(self):\n",
    "        return self.width * self.height\n",
    "\n",
    "class Circle(Shape):\n",
    "    def __init__(self, radius):\n",
    "        self.radius = radius\n",
    "\n",
    "    def area(self):\n",
    "        return 3.14 * self.radius ** 2\n",
    "\n",
    "rectangle = Rectangle(4, 5)\n",
    "circle = Circle(3)\n",
    "\n",
    "print(rectangle.area())  # Output: 20\n",
    "print(circle.area())      # Output: 28.26\n",
    "\n",
    "\n",
    "#In this example, the Rectangle and Circle classes override the area method of the Shape class to provide their specific implementations."
   ]
  },
  {
   "cell_type": "markdown",
   "id": "81805e9e-e609-4802-9ed6-c337fe3dbd64",
   "metadata": {},
   "source": [
    "13. What is a property decorator in Python?"
   ]
  },
  {
   "cell_type": "code",
   "execution_count": 14,
   "id": "d29d8d14-a53d-43e0-bcb3-6da75b84209c",
   "metadata": {},
   "outputs": [
    {
     "name": "stdout",
     "output_type": "stream",
     "text": [
      "John Doe\n",
      "John\n",
      "Jane Doe\n",
      "First name must be a string.\n"
     ]
    }
   ],
   "source": [
    "'''\n",
    "In Python, the @property decorator is a built-in decorator that allows you to customize access to instance data. It provides a way to implement getters, setters, and deleters for instance attributes, enabling you to control how these attributes are accessed and modified.\n",
    "\n",
    "_Benefits of using the @property decorator:_\n",
    "\n",
    "1. Encapsulation: By using the @property decorator, you can hide the internal implementation details of an attribute and expose only a controlled interface to access and modify it.\n",
    "2. Validation and Error Handling: You can add validation logic and error handling in the setter method to ensure that the attribute is assigned a valid value.\n",
    "3. Computed Attributes: The @property decorator enables you to create computed attributes, which are attributes that are calculated on the fly when accessed.\n",
    "'''\n",
    "#Example usage of the @property decorator:_\n",
    "\n",
    "class Person:\n",
    "    def __init__(self, first_name, last_name):\n",
    "        self._first_name = first_name\n",
    "        self._last_name = last_name\n",
    "\n",
    "    @property\n",
    "    def full_name(self):\n",
    "        return f\"{self._first_name} {self._last_name}\"\n",
    "\n",
    "    @property\n",
    "    def first_name(self):\n",
    "        return self._first_name\n",
    "\n",
    "    @first_name.setter\n",
    "    def first_name(self, value):\n",
    "        if not isinstance(value, str):\n",
    "            raise TypeError(\"First name must be a string.\")\n",
    "        self._first_name = value\n",
    "\n",
    "person = Person(\"John\", \"Doe\")\n",
    "print(person.full_name)  # Output: John Doe\n",
    "print(person.first_name)  # Output: John\n",
    "\n",
    "person.first_name = \"Jane\"\n",
    "print(person.full_name)  # Output: Jane Doe\n",
    "\n",
    "try:\n",
    "    person.first_name = 123\n",
    "except TypeError as e:\n",
    "    print(e)  # Output: First name must be a string.\n",
    "\n",
    "\n",
    "#In this example, the Person class uses the @property decorator to define the full_name, first_name, and last_name attributes. The first_name attribute has a setter method that validates the input value to ensure it's a string."
   ]
  },
  {
   "cell_type": "markdown",
   "id": "a36ad06b-b381-454c-a900-3411425aaefc",
   "metadata": {},
   "source": [
    "14. Why is polymorphism important in OOP?"
   ]
  },
  {
   "cell_type": "markdown",
   "id": "3aee9ff1-d62a-4dda-91cf-42c5dea0863e",
   "metadata": {},
   "source": [
    "Polymorphism is a fundamental concept in Object-Oriented Programming (OOP) that plays a crucial role in designing flexible, reusable, and maintainable software systems. Here are some reasons why polymorphism is important in OOP:\n",
    "\n",
    "1. Increased Flexibility\n",
    "\n",
    "Polymorphism allows objects of different classes to be treated as objects of a common superclass, enabling more flexibility in programming. This flexibility is essential in real-world applications where requirements can change rapidly.\n",
    "\n",
    "2. Code Reusability\n",
    "\n",
    "Polymorphism promotes code reusability by enabling you to write methods that can work with different types of objects. This reduces code duplication and makes maintenance easier.\n",
    "\n",
    "3. Easier Maintenance\n",
    "\n",
    "Polymorphism makes it easier to modify or extend existing code without affecting other parts of the program. By adding new subclasses or modifying existing ones, you can change the behavior of a program without altering its underlying structure.\n",
    "\n",
    "4. Improved Readability\n",
    "\n",
    "Polymorphism can improve code readability by allowing you to write more generic code that is easier to understand. By using polymorphic methods, you can avoid explicit type checking and casting, making your code more concise and readable.\n",
    "\n",
    "5. Enhanced Extensibility\n",
    "\n",
    "Polymorphism enables you to add new functionality to existing code without modifying its underlying structure. By creating new subclasses or overriding existing methods, you can extend the behavior of a program without affecting its existing functionality.\n",
    "\n",
    "6. Reduced Coupling\n",
    "\n",
    "Polymorphism helps reduce coupling between objects by allowing them to interact with each other without knowing their specific class types. This reduces dependencies between objects and makes the system more modular and easier to maintain.\n",
    "\n",
    "7. Improved Testability\n",
    "\n",
    "Polymorphism can improve testability by allowing you to write tests that are more generic and reusable. By using polymorphic methods, you can test different types of objects without writing separate tests for each type.\n",
    "\n",
    "In summary, polymorphism is essential in OOP because it enables flexibility, code reusability, easier maintenance, improved readability, enhanced extensibility, reduced coupling, and improved testability. By leveraging polymorphism, developers can create more robust, scalable, and maintainable software systems."
   ]
  },
  {
   "cell_type": "markdown",
   "id": "14faa5a7-de6f-4c3d-a249-b5e3b2306f61",
   "metadata": {},
   "source": [
    "15. What is an abstract class in Python?"
   ]
  },
  {
   "cell_type": "code",
   "execution_count": 15,
   "id": "4d444b6c-ebab-4d78-9877-3e87ace7d04a",
   "metadata": {},
   "outputs": [
    {
     "name": "stdout",
     "output_type": "stream",
     "text": [
      "Can't instantiate abstract class Shape without an implementation for abstract methods 'area', 'perimeter'\n",
      "78.5\n",
      "31.400000000000002\n",
      "20\n",
      "18\n"
     ]
    }
   ],
   "source": [
    "'''\n",
    "In Python, an abstract class is a class that cannot be instantiated on its own and is designed to be inherited by other classes. Abstract classes are used to provide a blueprint for other classes to follow, and they can define both abstract methods (i.e., methods without an implementation) and concrete methods (i.e., methods with an implementation).\n",
    "\n",
    "Key Characteristics of Abstract Classes in Python:\n",
    "\n",
    "1. Cannot be instantiated: Abstract classes cannot be instantiated directly, and attempting to do so will result in a TypeError.\n",
    "2. Define abstract methods: Abstract classes can define abstract methods, which are methods without an implementation.\n",
    "3. Can define concrete methods: Abstract classes can also define concrete methods, which are methods with an implementation.\n",
    "4. Intended to be inherited: Abstract classes are designed to be inherited by other classes, which must provide an implementation for any abstract methods.\n",
    "\n",
    "Benefits of Abstract Classes in Python:\n",
    "\n",
    "1. Provide a blueprint: Abstract classes provide a blueprint for other classes to follow, ensuring consistency and structure.\n",
    "2. Encapsulate common functionality: Abstract classes can encapsulate common functionality that can be shared by multiple classes.\n",
    "3. Promote code reuse: Abstract classes promote code reuse by providing a common base class for multiple classes.\n",
    "'''\n",
    "#Example of an Abstract Class in Python:\n",
    "\n",
    "from abc import ABC, abstractmethod\n",
    "\n",
    "class Shape(ABC):\n",
    "    @abstractmethod\n",
    "    def area(self):\n",
    "        pass\n",
    "\n",
    "    @abstractmethod\n",
    "    def perimeter(self):\n",
    "        pass\n",
    "\n",
    "class Circle(Shape):\n",
    "    def __init__(self, radius):\n",
    "        self.radius = radius\n",
    "\n",
    "    def area(self):\n",
    "        return 3.14 * self.radius ** 2\n",
    "\n",
    "    def perimeter(self):\n",
    "        return 2 * 3.14 * self.radius\n",
    "\n",
    "class Rectangle(Shape):\n",
    "    def __init__(self, width, height):\n",
    "        self.width = width\n",
    "        self.height = height\n",
    "\n",
    "    def area(self):\n",
    "        return self.width * self.height\n",
    "\n",
    "    def perimeter(self):\n",
    "        return 2 * (self.width + self.height)\n",
    "\n",
    "# Attempting to instantiate the abstract class will result in a TypeError\n",
    "try:\n",
    "    shape = Shape()\n",
    "except TypeError as e:\n",
    "    print(e)\n",
    "\n",
    "circle = Circle(5)\n",
    "print(circle.area())  # Output: 78.5\n",
    "print(circle.perimeter())  # Output: 31.4\n",
    "\n",
    "rectangle = Rectangle(4, 5)\n",
    "print(rectangle.area())  # Output: 20\n",
    "print(rectangle.perimeter())  # Output: 18\n",
    "\n",
    "#In this example, the Shape abstract class defines two abstract methods, area and perimeter, which must be implemented by any concrete subclass. The Circle and Rectangle classes are concrete subclasses that provide an implementation for these abstract methods."
   ]
  },
  {
   "cell_type": "markdown",
   "id": "c9befc77-a224-4eac-8c1a-78c08abf67de",
   "metadata": {},
   "source": [
    "16. What are the advantages of OOP?"
   ]
  },
  {
   "cell_type": "markdown",
   "id": "e7876812-603b-4615-8290-9043af00b150",
   "metadata": {},
   "source": [
    "Object-Oriented Programming (OOP) offers several advantages that make it a popular and widely-used programming paradigm. Here are some of the key benefits of OOP:\n",
    "\n",
    "1. Modularity\n",
    "\n",
    "OOP allows you to break down a complex program into smaller, independent modules (classes) that can be developed, tested, and maintained separately.\n",
    "\n",
    "2. Code Reusability\n",
    "\n",
    "OOP enables code reusability through inheritance, polymorphism, and encapsulation. This reduces the amount of code that needs to be written and maintained.\n",
    "\n",
    "3. Easier Maintenance\n",
    "\n",
    "OOP's modular and reusable nature makes it easier to modify and maintain programs. Changes can be made at the class or object level without affecting other parts of the program.\n",
    "\n",
    "4. Improved Readability\n",
    "\n",
    "OOP's use of classes, objects, and inheritance makes code more readable and self-explanatory. This is especially true when working with complex systems.\n",
    "\n",
    "5. Enhanced Reliability\n",
    "\n",
    "OOP's encapsulation and data hiding features help protect data from external interference and misuse, making programs more reliable and less prone to errors.\n",
    "\n",
    "6. Better Organization\n",
    "\n",
    "OOP promotes a logical and organized approach to programming, making it easier to understand and manage complex systems.\n",
    "\n",
    "7. Improved Scalability\n",
    "\n",
    "OOP's modular and reusable nature makes it easier to scale programs up or down as needed, without affecting the overall structure of the code.\n",
    "\n",
    "8. Faster Development\n",
    "\n",
    "OOP's use of pre-built classes and objects can speed up the development process, as developers can focus on writing new code rather than reinventing the wheel.\n",
    "\n",
    "9. Easier Debugging\n",
    "\n",
    "OOP's modular nature makes it easier to identify and debug errors, as each module (class) can be tested and debugged independently.\n",
    "\n",
    "10. Improved Collaboration\n",
    "\n",
    "OOP promotes a collaborative approach to programming, as multiple developers can work on different classes and objects independently, without affecting the overall program.\n",
    "\n",
    "Overall, OOP's advantages make it a powerful and popular programming paradigm that can help developers create more efficient, effective, and maintainable software systems."
   ]
  },
  {
   "cell_type": "markdown",
   "id": "fefa7c79-b881-48fb-b4b1-7df9f9d317d8",
   "metadata": {},
   "source": [
    "17. What is the difference between a class variable and an instance variable?"
   ]
  },
  {
   "cell_type": "code",
   "execution_count": 17,
   "id": "9ddb8e5b-a482-4b33-9e28-cb79183529ce",
   "metadata": {},
   "outputs": [
    {
     "name": "stdout",
     "output_type": "stream",
     "text": [
      "4\n",
      "Number of wheels: 4\n",
      "Number of wheels: 4\n",
      "Color: Red\n",
      "Color: Blue\n"
     ]
    }
   ],
   "source": [
    "'''\n",
    "In object-oriented programming (OOP), a class variable and an instance variable are two types of variables that are used to store data in a class. The main difference between them is their scope and usage:\n",
    "\n",
    "Class Variables\n",
    "\n",
    "1. Shared by all instances: A class variable is a variable that is shared by all instances of a class.\n",
    "2. Defined inside the class: Class variables are defined inside the class definition, but outside any instance method.\n",
    "3. Same value for all instances: All instances of the class share the same value of the class variable.\n",
    "4. Can be accessed using the class name or instance name: Class variables can be accessed using the class name or an instance of the class.\n",
    "\n",
    "Instance Variables\n",
    "\n",
    "1. Unique to each instance: An instance variable is a variable that is unique to each instance of a class.\n",
    "2. Defined inside an instance method: Instance variables are defined inside an instance method, typically in the __init__ method.\n",
    "3. Different value for each instance: Each instance of the class has its own copy of the instance variable, with its own value.\n",
    "4. Can only be accessed using an instance name: Instance variables can only be accessed using an instance of the class.\n",
    "'''\n",
    "#Here's an example in Python to illustrate the difference:\n",
    "\n",
    "class Car:\n",
    "    wheels = 4  # class variable\n",
    "\n",
    "    def __init__(self, color):\n",
    "        self.color = color  # instance variable\n",
    "\n",
    "    def print_wheels(self):\n",
    "        print(f\"Number of wheels: {self.wheels}\")\n",
    "\n",
    "    def print_color(self):\n",
    "        print(f\"Color: {self.color}\")\n",
    "\n",
    "# create two instances of the Car class\n",
    "car1 = Car(\"Red\")\n",
    "car2 = Car(\"Blue\")\n",
    "\n",
    "# access class variable using class name\n",
    "print(Car.wheels)  # Output: 4\n",
    "\n",
    "# access class variable using instance name\n",
    "car1.print_wheels()  # Output: Number of wheels: 4\n",
    "car2.print_wheels()  # Output: Number of wheels: 4\n",
    "\n",
    "# access instance variable\n",
    "car1.print_color()  # Output: Color: Red\n",
    "car2.print_color()  # Output: Color: Blue\n",
    "\n",
    "#In this example, wheels is a class variable shared by all instances of the Car class, while color is an instance variable unique to each instance."
   ]
  },
  {
   "cell_type": "markdown",
   "id": "ad1f63fa-90c3-4d15-881a-8c76f55d80bc",
   "metadata": {},
   "source": [
    "18. What is multiple inheritance in Python?"
   ]
  },
  {
   "cell_type": "code",
   "execution_count": 24,
   "id": "0ed8e84a-cedb-4a7c-a950-eadd086c9d28",
   "metadata": {},
   "outputs": [
    {
     "name": "stdout",
     "output_type": "stream",
     "text": [
      "Rex is eating.\n",
      "Walking on four legs.\n",
      "Woof!\n",
      "[<class '__main__.Dog'>, <class '__main__.Animal'>, <class '__main__.Mammal'>, <class 'object'>]\n"
     ]
    }
   ],
   "source": [
    "'''\n",
    "Multiple inheritance in Python is a feature that allows a class to inherit properties and methods from multiple parent classes. This means that a child class can inherit attributes and methods from more than one parent class, allowing for greater flexibility and code reuse.\n",
    "\n",
    "Syntax for Multiple Inheritance:\n",
    "\n",
    "    class ChildClass(ParentClass1, ParentClass2, ...):\n",
    "        pass\n",
    "\n",
    "In this syntax, ChildClass is the name of the child class, and ParentClass1, ParentClass2, etc. are the names of the parent classes.\n",
    "'''\n",
    "#Example of Multiple Inheritance:\n",
    "\n",
    "\n",
    "class Animal:\n",
    "    def __init__(self, name):\n",
    "        self.name = name\n",
    "\n",
    "    def eat(self):\n",
    "        print(f\"{self.name} is eating.\")\n",
    "\n",
    "class Mammal:\n",
    "    def __init__(self, hair_color):\n",
    "        self.hair_color = hair_color\n",
    "\n",
    "    def walk(self):\n",
    "        print(\"Walking on four legs.\")\n",
    "\n",
    "class Dog(Animal, Mammal):\n",
    "    def __init__(self, name, hair_color):\n",
    "        Animal.__init__(self, name)\n",
    "        Mammal.__init__(self, hair_color)\n",
    "\n",
    "    def bark(self):\n",
    "        print(\"Woof!\")\n",
    "\n",
    "my_dog = Dog(\"Rex\", \"Brown\")\n",
    "my_dog.eat()       # Output: Rex is eating.\n",
    "my_dog.walk()      # Output: Walking on four legs.\n",
    "my_dog.bark()      # Output: Woof!\n",
    "\n",
    "\n",
    "#In this example, the Dog class inherits properties and methods from both the Animal and Mammal classes.\n",
    "\n",
    "\n",
    "'''\n",
    "Method Resolution Order (MRO):\n",
    "\n",
    "When a class inherits from multiple parent classes, Python uses a method resolution order (MRO) to resolve conflicts between methods with the same name. The MRO is a list of classes that Python searches in order to find a method or attribute.\n",
    "\n",
    "In Python 3.x, the MRO is based on the C3 linearization algorithm, which ensures that the MRO is consistent and predictable.\n",
    "#You can check the MRO of a class using the mro() method:\n",
    "'''\n",
    "\n",
    "print(Dog.mro())\n",
    "# Output: [<class '__main__.Dog'>, <class '__main__.Animal'>, <class '__main__.Mammal'>, <class 'object'>]\n",
    "\n",
    "\n",
    "#This output shows the MRO of the Dog class, which includes the Dog class itself, followed by its parent classes Animal and Mammal, and finally the object class."
   ]
  },
  {
   "cell_type": "markdown",
   "id": "b61b4fed-cbdc-48e7-9415-a97cc60a2c9b",
   "metadata": {},
   "source": [
    "19. Explain the purpose of ‘’__str__’ and ‘__repr__’ ‘ methods in Python"
   ]
  },
  {
   "cell_type": "code",
   "execution_count": 25,
   "id": "16a1b770-221e-411a-b289-1e41ce7fed29",
   "metadata": {},
   "outputs": [
    {
     "name": "stdout",
     "output_type": "stream",
     "text": [
      "John, 30 years old\n",
      "Person('John', 30)\n"
     ]
    }
   ],
   "source": [
    "'''\n",
    "In Python, the __str__ and __repr__ methods are special methods that are used to represent objects as strings. These methods are useful for providing a human-readable representation of an object, which can be helpful for debugging, logging, and other purposes.\n",
    "\n",
    "*__str__ method:*\n",
    "\n",
    "The __str__ method returns a string that is intended to be human-readable. It is called when you use the str() function or the print() function on an object. The purpose of __str__ is to provide a concise and informative string representation of the object.\n",
    "'''\n",
    "#Here's an example:\n",
    "\n",
    "class Person:\n",
    "    def __init__(self, name, age):\n",
    "        self.name = name\n",
    "        self.age = age\n",
    "\n",
    "    def __str__(self):\n",
    "        return f\"{self.name}, {self.age} years old\"\n",
    "\n",
    "person = Person(\"John\", 30)\n",
    "print(person)  # Output: John, 30 years old\n",
    "\n",
    "\n",
    "#*__repr__ method:*\n",
    "\n",
    "#The __repr__ method returns a string that is intended to be a valid Python expression. It is called when you use the repr() function on an object. The purpose of __repr__ is to provide a string representation of the object that could be used to recreate the object.\n",
    "\n",
    "#Here's an example:\n",
    "\n",
    "\n",
    "class Person:\n",
    "    def __init__(self, name, age):\n",
    "        self.name = name\n",
    "        self.age = age\n",
    "\n",
    "    def __repr__(self):\n",
    "        return f\"Person('{self.name}', {self.age})\"\n",
    "\n",
    "person = Person(\"John\", 30)\n",
    "print(repr(person))  # Output: Person('John', 30)\n",
    "\n",
    "\n",
    "#Key differences:\n",
    "#1. Purpose: __str__ is intended for human-readable representation, while __repr__ is intended for a valid Python expression.\n",
    "#2. Output: __str__ typically returns a concise and informative string, while __repr__ returns a string that could be used to recreate the object.\n",
    "#3. Usage: __str__ is called by str() and print(), while __repr__ is called by repr().\n",
    "\n",
    "#In summary, both __str__ and __repr__ are used to represent objects as strings, but they serve different purposes and are used in different contexts."
   ]
  },
  {
   "cell_type": "markdown",
   "id": "40dd90d4-e056-4006-8418-6e4bd92e3e81",
   "metadata": {},
   "source": [
    "20. What is the significance of the ‘super()’ function in Python?"
   ]
  },
  {
   "cell_type": "code",
   "execution_count": 26,
   "id": "691d26c7-42dd-4ddc-84b6-2197bf164054",
   "metadata": {},
   "outputs": [
    {
     "name": "stdout",
     "output_type": "stream",
     "text": [
      "The animal makes a sound.\n",
      "The dog barks.\n"
     ]
    }
   ],
   "source": [
    "'''\n",
    "In Python, the super() function is used to access the methods and properties of a parent or sibling class. It allows you to call methods from a parent class, even if the method has been overridden in the child class.\n",
    "\n",
    "_Significance of super():_\n",
    "\n",
    "1. Accessing parent class methods: super() allows you to access methods from a parent class, which can be useful when you want to build upon the functionality of the parent class.\n",
    "2. Method overriding: When you override a method in a child class, you can use super() to call the original method from the parent class.\n",
    "3. Multiple inheritance: In cases of multiple inheritance, super() helps to resolve the method resolution order (MRO) and ensures that methods are called from the correct parent class.\n",
    "4. Code reuse: By using super(), you can reuse code from parent classes and avoid duplicating code.\n",
    "'''\n",
    "#Example usage of super():_\n",
    "\n",
    "class Animal:\n",
    "    def __init__(self, name):\n",
    "        self.name = name\n",
    "\n",
    "    def sound(self):\n",
    "        print(\"The animal makes a sound.\")\n",
    "\n",
    "class Dog(Animal):\n",
    "    def __init__(self, name, breed):\n",
    "        super().__init__(name)  # Calls the __init__ method from the Animal class\n",
    "        self.breed = breed\n",
    "\n",
    "    def sound(self):\n",
    "        super().sound()  # Calls the sound method from the Animal class\n",
    "        print(\"The dog barks.\")\n",
    "\n",
    "my_dog = Dog(\"Rex\", \"Golden Retriever\")\n",
    "my_dog.sound()\n",
    "# Output:\n",
    "# The animal makes a sound.\n",
    "# The dog barks.\n",
    "\n",
    "#In this example, the Dog class uses super() to call the __init__ and sound methods from the Animal class. This allows the Dog class to build upon the functionality of the Animal class and provide its own implementation of the sound method."
   ]
  },
  {
   "cell_type": "markdown",
   "id": "035b2e8d-2b5c-4108-bde9-03a5885bfb91",
   "metadata": {},
   "source": [
    "21. What is the significance of the __del__ method in Python?"
   ]
  },
  {
   "cell_type": "code",
   "execution_count": 27,
   "id": "bfc3670e-c8e9-4278-be51-ab2daebc5587",
   "metadata": {},
   "outputs": [
    {
     "name": "stdout",
     "output_type": "stream",
     "text": [
      "Closing file example.txt\n"
     ]
    }
   ],
   "source": [
    "'''\n",
    "In Python, the __del__ method is a special method that is automatically called when an object is about to be destroyed. This method is also known as the destructor or finalizer.\n",
    "\n",
    "_Significance of the __del__ method:_\n",
    "\n",
    "1. Cleanup actions: The __del__ method provides a way to perform cleanup actions, such as releasing system resources, closing files, or terminating network connections.\n",
    "2. Memory management: Although Python's garbage collector automatically manages memory, the __del__ method can be used to release memory allocated by external libraries or to perform other memory-related cleanup tasks.\n",
    "3. Debugging and logging: The __del__ method can be used to log information or perform debugging actions when an object is destroyed.\n",
    "4. Resource management: The __del__ method can be used to manage resources, such as file handles, network connections, or database connections.\n",
    "'''\n",
    "#Example usage of the __del__ method:_\n",
    "\n",
    "class MyClass:\n",
    "    def __init__(self, filename):\n",
    "        self.filename = filename\n",
    "        self.file = open(filename, 'w')\n",
    "\n",
    "    def __del__(self):\n",
    "        print(f\"Closing file {self.filename}\")\n",
    "        self.file.close()\n",
    "\n",
    "obj = MyClass('example.txt')\n",
    "del obj\n",
    "# Output: Closing file example.txt\n",
    "\n",
    "\n",
    "#In this example, the MyClass class opens a file in its __init__ method and closes it in its __del__ method. When the obj object is deleted, the __del__ method is automatically called, closing the file.\n",
    "\n",
    "#Important notes:\n",
    "\n",
    "#1. Non-deterministic behavior: The __del__ method is not guaranteed to be called immediately when an object is deleted. Python's garbage collector may delay the destruction of objects.\n",
    "#2. Exceptions: If an exception occurs in the __del__ method, it may not be propagated to the caller, potentially leading to silent failures.\n",
    "#3. Resource leaks: If the __del__ method fails to release resources, it may lead to resource leaks.\n",
    "\n",
    "#In summary, the __del__ method provides a way to perform cleanup actions when an object is destroyed, but its behavior is non-deterministic, and exceptions may not be propagated."
   ]
  },
  {
   "cell_type": "markdown",
   "id": "910e8c71-296c-4049-9750-19160de2ed7d",
   "metadata": {},
   "source": [
    "22. What is the difference between @staticmethod and @classmethod in Python?"
   ]
  },
  {
   "cell_type": "code",
   "execution_count": 28,
   "id": "3ebb7dd5-ffdd-41d9-a16a-85ed20157fbf",
   "metadata": {},
   "outputs": [
    {
     "name": "stdout",
     "output_type": "stream",
     "text": [
      "5\n",
      "2\n"
     ]
    }
   ],
   "source": [
    "'''\n",
    "In Python, @staticmethod and @classmethod are two types of decorators that can be used to define methods within a class. The main difference between them lies in their purpose, behavior, and usage:\n",
    "\n",
    "Static Method (@staticmethod)\n",
    "\n",
    "A static method is a method that belongs to a class, rather than an instance of the class. It can't access or modify class state or instance state.\n",
    "\n",
    "Characteristics:\n",
    "\n",
    "- No implicit parameters (no self or cls)\n",
    "- Can't access class attributes or instance attributes\n",
    "- Can't modify class state or instance state\n",
    "- Typically used for utility functions or helper methods\n",
    "'''\n",
    "#Example:\n",
    "\n",
    "class MathUtils:\n",
    "    @staticmethod\n",
    "    def add(a, b):\n",
    "        return a + b\n",
    "\n",
    "result = MathUtils.add(2, 3)\n",
    "print(result)  # Output: 5\n",
    "\n",
    "\n",
    "'''\n",
    "Class Method (@classmethod)\n",
    "\n",
    "A class method is a method that's bound to the class, rather than an instance of the class. It can access or modify class state.\n",
    "\n",
    "Characteristics:\n",
    "\n",
    "- Implicit cls parameter (references the class)\n",
    "- Can access class attributes\n",
    "- Can modify class state\n",
    "- Typically used for alternative constructors, class-level operations, or caching\n",
    "'''\n",
    "#Example:\n",
    "\n",
    "class Person:\n",
    "    population = 0\n",
    "\n",
    "    def __init__(self, name):\n",
    "        self.name = name\n",
    "        Person.population += 1\n",
    "\n",
    "    @classmethod\n",
    "    def get_population(cls):\n",
    "        return cls.population\n",
    "\n",
    "person1 = Person(\"John\")\n",
    "person2 = Person(\"Jane\")\n",
    "\n",
    "print(Person.get_population())  # Output: 2\n",
    "\n",
    "\n",
    "#In summary:\n",
    "\n",
    "# @staticmethod is used for utility functions or helper methods that don't depend on class or instance state.\n",
    "# @classmethod is used for methods that need to access or modify class state, such as alternative constructors or class-level operations."
   ]
  },
  {
   "cell_type": "markdown",
   "id": "b7025e82-768a-404f-8a21-2bfce488ffdb",
   "metadata": {},
   "source": [
    "23.  How does polymorphism work in Python with inheritance?"
   ]
  },
  {
   "cell_type": "code",
   "execution_count": 29,
   "id": "0e326403-010f-4490-ab4e-54c8d0117f0c",
   "metadata": {},
   "outputs": [
    {
     "name": "stdout",
     "output_type": "stream",
     "text": [
      "The dog barks.\n",
      "25\n",
      "5\n",
      "The dog barks.\n",
      "The cat meows.\n"
     ]
    }
   ],
   "source": [
    "'''\n",
    "Polymorphism is a fundamental concept in object-oriented programming (OOP) that allows objects of different classes to be treated as objects of a common superclass. In Python, polymorphism works seamlessly with inheritance, enabling you to write more flexible and reusable code.\n",
    "\n",
    "Method Overriding\n",
    "\n",
    "In Python, when a subclass inherits from a superclass, it can override the superclass's methods. This means that the subclass provides its own implementation of the method, which can be different from the superclass's implementation.\n",
    "'''\n",
    "#Here's an example:\n",
    "\n",
    "class Animal:\n",
    "    def sound(self):\n",
    "        print(\"The animal makes a sound.\")\n",
    "\n",
    "class Dog(Animal):\n",
    "    def sound(self):\n",
    "        print(\"The dog barks.\")\n",
    "\n",
    "my_dog = Dog()\n",
    "my_dog.sound()  # Output: The dog barks.\n",
    "\n",
    "#In this example, the Dog class overrides the sound method of the Animal class. When we call the sound method on a Dog object, Python uses the overridden method implementation.\n",
    "\n",
    "#Method Overloading\n",
    "\n",
    "#Python does not support method overloading in the classical sense, where multiple methods with the same name can be defined with different parameter lists. However, you can achieve similar behavior using default argument values or variable-length argument lists.\n",
    "\n",
    "#Here's an example:\n",
    "\n",
    "class Calculator:\n",
    "    def calculate(self, *args):\n",
    "        if len(args) == 1:\n",
    "            return args[0] ** 2\n",
    "        elif len(args) == 2:\n",
    "            return args[0] + args[1]\n",
    "        else:\n",
    "            raise ValueError(\"Invalid number of arguments\")\n",
    "\n",
    "calculator = Calculator()\n",
    "print(calculator.calculate(5))  # Output: 25\n",
    "print(calculator.calculate(2, 3))  # Output: 5\n",
    "\n",
    "#In this example, the calculate method uses variable-length argument lists to support different calculation operations.\n",
    "\n",
    "#Polymorphic Method Calls\n",
    "\n",
    "#When you call a method on an object, Python uses the object's class to determine which method implementation to use. This is known as dynamic method dispatch. If the object's class does not provide an implementation for the method, Python searches the object's superclass chain to find a suitable implementation.\n",
    "\n",
    "#Here's an example:\n",
    "\n",
    "class Animal:\n",
    "    def sound(self):\n",
    "        print(\"The animal makes a sound.\")\n",
    "\n",
    "class Dog(Animal):\n",
    "    def sound(self):\n",
    "        print(\"The dog barks.\")\n",
    "\n",
    "class Cat(Animal):\n",
    "    def sound(self):\n",
    "        print(\"The cat meows.\")\n",
    "\n",
    "def make_sound(animal: Animal):\n",
    "    animal.sound()\n",
    "\n",
    "my_dog = Dog()\n",
    "my_cat = Cat()\n",
    "\n",
    "make_sound(my_dog)  # Output: The dog barks.\n",
    "make_sound(my_cat)  # Output: The cat meows.\n",
    "\n",
    "#In this example, the make_sound function takes an Animal object as an argument and calls the sound method on it. Because Dog and Cat are subclasses of Animal, we can pass instances of these classes to the make_sound function, and Python will use the correct method implementation based on the object's class.\n",
    "\n",
    "#In summary, polymorphism in Python with inheritance allows you to write flexible and reusable code by:\n",
    "\n",
    "# Overriding methods in subclasses\n",
    "# Using variable-length argument lists or default argument values to achieve method overloading-like behavior\n",
    "# Making polymorphic method calls using dynamic method dispatch"
   ]
  },
  {
   "cell_type": "markdown",
   "id": "889dd442-f2d1-4452-94fa-0c42f2e3b557",
   "metadata": {},
   "source": [
    "24. What is method chaining in Python OOP?"
   ]
  },
  {
   "cell_type": "code",
   "execution_count": 30,
   "id": "aa8cd656-0d69-43b3-94b8-46141297071d",
   "metadata": {},
   "outputs": [
    {
     "name": "stdout",
     "output_type": "stream",
     "text": [
      "Name: John\n",
      "Age: 30\n",
      "Address: 123 Main St\n"
     ]
    }
   ],
   "source": [
    "'''Method chaining is a technique in Python Object-Oriented Programming (OOP) that allows you to call multiple methods on an object in a single statement. This is achieved by having each method return the object itself, allowing you to chain multiple method calls together.\n",
    "\n",
    "Method chaining provides several benefits, including:\n",
    "\n",
    "1. Improved readability: Method chaining allows you to write more concise and readable code.\n",
    "2. Increased flexibility: Method chaining enables you to easily add or remove methods from the chain.\n",
    "3. Reduced boilerplate code: Method chaining eliminates the need for temporary variables or intermediate assignments.\n",
    "\n",
    "However, method chaining also has some potential drawbacks, including:\n",
    "\n",
    "1. Debugging challenges: Method chaining can make it more difficult to debug your code, as the chain of method calls can be hard to follow.\n",
    "2. Error handling complexities: Method chaining can introduce complexities when handling errors, as the error may occur at any point in the chain.\n",
    "\n",
    "To use method chaining effectively in Python, follow these best practices:\n",
    "\n",
    "1. Use it sparingly: Method chaining is most effective when used in moderation. Avoid chaining too many methods together, as this can make the code harder to read and debug.\n",
    "2. Keep methods simple: Ensure that each method in the chain performs a simple, well-defined task. This will make it easier to understand and debug the code.\n",
    "3. Use clear and descriptive method names: Choose method names that clearly describe the action being performed. This will make it easier to understand the code and follow the chain of method calls.\n",
    "'''\n",
    "#Here's a simple example of method chaining in Python:\n",
    "\n",
    "\n",
    "class Person:\n",
    "    def __init__(self, name):\n",
    "        self.name = name\n",
    "\n",
    "    def set_age(self, age):\n",
    "        self.age = age\n",
    "        return self\n",
    "\n",
    "    def set_address(self, address):\n",
    "        self.address = address\n",
    "        return self\n",
    "\n",
    "    def print_info(self):\n",
    "        print(f\"Name: {self.name}\")\n",
    "        print(f\"Age: {self.age}\")\n",
    "        print(f\"Address: {self.address}\")\n",
    "\n",
    "person = Person(\"John\")\n",
    "person.set_age(30).set_address(\"123 Main St\").print_info()\n",
    "\n",
    "\n",
    "#In this example, the set_age and set_address methods return the Person object itself, allowing you to chain multiple method calls together. The print_info method is then called to print out the person's information.\n"
   ]
  },
  {
   "cell_type": "markdown",
   "id": "d06b782a-5c1c-4839-976e-2fff233ac97d",
   "metadata": {},
   "source": [
    "25. What is the purpose of the __call__ method in Python?"
   ]
  },
  {
   "cell_type": "code",
   "execution_count": 34,
   "id": "096c2f5c-610a-4145-8afc-6861c6245380",
   "metadata": {},
   "outputs": [
    {
     "name": "stdout",
     "output_type": "stream",
     "text": [
      "15\n"
     ]
    }
   ],
   "source": [
    "'''In Python, the __call__ method is a special method that allows an object to be called as a function. When an object has a __call__ method, it can be invoked like a function, using the () syntax.\n",
    "\n",
    "_Purpose of the __call__ method:_\n",
    "\n",
    "1. Making objects callable: The __call__ method enables objects to be called like functions, which can be useful for creating objects that behave like functions.\n",
    "2. Implementing function-like behavior: The __call__ method allows objects to implement function-like behavior, such as taking arguments and returning values.\n",
    "3. Creating closures: The __call__ method can be used to create closures, which are objects that have access to their own scope and can be called like functions.\n",
    "\n",
    "_Benefits of using the __call__ method:_\n",
    "\n",
    "1. Increased flexibility: The __call__ method allows objects to behave like functions, which can be useful for creating flexible and reusable code.\n",
    "2. Improved readability: Using the __call__ method can make code more readable, as objects can be called like functions, reducing the need for explicit method calls.\n",
    "3. Easier debugging: The __call__ method can make debugging easier, as objects can be called like functions, allowing for more straightforward error handling.\n",
    "'''\n",
    "#Example usage of the __call__ method:_\n",
    "\n",
    "class Adder:\n",
    "    def __init__(self, value):\n",
    "        self.value = value\n",
    "\n",
    "    def __call__(self, x):\n",
    "        return self.value + x\n",
    "\n",
    "add_five = Adder(5)\n",
    "result = add_five(10)  # equivalent to calling a function\n",
    "print(result)  # Output: 15\n",
    "\n",
    "#In this example, the Adder class has a __call__ method that takes an argument x and returns the sum of x and the object's value attribute. The add_five object is created with a value of 5, and then called like a function with an argument of 10, returning a result of 15."
   ]
  },
  {
   "cell_type": "markdown",
   "id": "9056a32d-ead5-4796-a253-dc751e2cc6af",
   "metadata": {},
   "source": [
    "# Practical Questions"
   ]
  },
  {
   "cell_type": "markdown",
   "id": "ea460944-39eb-4b7a-b0bb-616b63e5fded",
   "metadata": {},
   "source": [
    "1. Create a parent class Animal with a method speak() that prints a generic message. Create a child class Dog \n",
    "that overrides the speak() method to print \"Bark!\"."
   ]
  },
  {
   "cell_type": "code",
   "execution_count": 36,
   "id": "fd58ca28-d80b-4b50-bb61-a357cde880f6",
   "metadata": {},
   "outputs": [
    {
     "name": "stdout",
     "output_type": "stream",
     "text": [
      "Bark!\n",
      "The animal makes a sound.\n"
     ]
    }
   ],
   "source": [
    "#Here is a Python code snippet that demonstrates the creation of a parent class Animal and a child class Dog that overrides the speak() method:\n",
    "\n",
    "# Define the parent class Animal\n",
    "class Animal:\n",
    "    def speak(self):\n",
    "        print(\"The animal makes a sound.\")\n",
    "\n",
    "# Define the child class Dog that inherits from Animal\n",
    "class Dog(Animal):\n",
    "    # Override the speak() method to provide a specific implementation for Dog\n",
    "    def speak(self):\n",
    "        print(\"Bark!\")\n",
    "\n",
    "# Create an instance of the Dog class\n",
    "my_dog = Dog()\n",
    "\n",
    "# Call the speak() method on the Dog instance\n",
    "my_dog.speak()  # Output: Bark!\n",
    "\n",
    "# Create an instance of the Animal class\n",
    "my_animal = Animal()\n",
    "\n",
    "# Call the speak() method on the Animal instance\n",
    "my_animal.speak()  # Output: The animal makes a sound.\n",
    "\n",
    "# In this code:\n",
    "# 1. We define the Animal class with a speak() method that prints a generic message.\n",
    "# 2. We define the Dog class, which inherits from the Animal class using inheritance (class Dog(Animal):).\n",
    "# 3. In the Dog class, we override the speak() method to provide a specific implementation that prints \"Bark!\".\n",
    "# 4. We create instances of both the Dog and Animal classes and call their respective speak() methods to demonstrate the overridden behavior."
   ]
  },
  {
   "cell_type": "markdown",
   "id": "403c498e-92fb-4e49-a887-128155342b4c",
   "metadata": {},
   "source": [
    "2. Write a program to create an abstract class Shape with a method area(). Derive classes Circle and Rectangle \n",
    "from it and implement the area() method in both."
   ]
  },
  {
   "cell_type": "code",
   "execution_count": 37,
   "id": "e84b912f-9b6b-44ff-acc2-d4da1375ec38",
   "metadata": {},
   "outputs": [
    {
     "name": "stdout",
     "output_type": "stream",
     "text": [
      "Circle area: 78.54\n",
      "Rectangle area: 24.00\n"
     ]
    }
   ],
   "source": [
    "#Here is a Python code snippet that demonstrates the creation of an abstract class Shape with a method area(), and two derived classes Circle and Rectangle that implement the area() method:\n",
    "\n",
    "\n",
    "from abc import ABC, abstractmethod\n",
    "import math\n",
    "\n",
    "# Define the abstract class Shape\n",
    "class Shape(ABC):\n",
    "    @abstractmethod\n",
    "    def area(self):\n",
    "        pass\n",
    "\n",
    "# Define the Circle class that inherits from Shape\n",
    "class Circle(Shape):\n",
    "    def __init__(self, radius):\n",
    "        self.radius = radius\n",
    "\n",
    "    # Implement the area() method for Circle\n",
    "    def area(self):\n",
    "        return math.pi * (self.radius ** 2)\n",
    "\n",
    "# Define the Rectangle class that inherits from Shape\n",
    "class Rectangle(Shape):\n",
    "    def __init__(self, length, width):\n",
    "        self.length = length\n",
    "        self.width = width\n",
    "\n",
    "    # Implement the area() method for Rectangle\n",
    "    def area(self):\n",
    "        return self.length * self.width\n",
    "\n",
    "# Create instances of Circle and Rectangle\n",
    "circle = Circle(5)\n",
    "rectangle = Rectangle(4, 6)\n",
    "\n",
    "# Calculate and print the areas of Circle and Rectangle\n",
    "print(f\"Circle area: {circle.area():.2f}\")\n",
    "print(f\"Rectangle area: {rectangle.area():.2f}\")\n",
    "\n",
    "# In this code:\n",
    "# 1. We define the abstract class Shape with an abstract method area() using the @abstractmethod decorator.\n",
    "# 2. We define two derived classes Circle and Rectangle that inherit from the Shape class.\n",
    "# 3. In both Circle and Rectangle classes, we implement the area() method with the respective formulas for calculating the area of a circle and a rectangle.\n",
    "# 4. We create instances of Circle and Rectangle and calculate their areas by calling the area() method.\n",
    "# 5. Finally, we print the calculated areas."
   ]
  },
  {
   "cell_type": "markdown",
   "id": "e3330531-88ab-4408-9c55-38372f726784",
   "metadata": {},
   "source": [
    "3. Implement a multi-level inheritance scenario where a class Vehicle has an attribute type. Derive a class Car \n",
    "and further derive a class ElectricCar that adds a battery attribute."
   ]
  },
  {
   "cell_type": "code",
   "execution_count": 38,
   "id": "d09e6b84-6b3c-43dc-a081-32baf4159e4c",
   "metadata": {},
   "outputs": [
    {
     "name": "stdout",
     "output_type": "stream",
     "text": [
      "Vehicle Type: Sedan\n",
      "Number of Doors: 4\n",
      "Battery Capacity: 75 kWh\n"
     ]
    }
   ],
   "source": [
    "#Here's an example implementation of a multi-level inheritance scenario in Python:\n",
    "\n",
    "\n",
    "# Define the base class Vehicle\n",
    "class Vehicle:\n",
    "    def __init__(self, type):\n",
    "        self.type = type\n",
    "\n",
    "    def display_vehicle_info(self):\n",
    "        print(f\"Vehicle Type: {self.type}\")\n",
    "\n",
    "# Derive a class Car from Vehicle\n",
    "class Car(Vehicle):\n",
    "    def __init__(self, type, num_doors):\n",
    "        super().__init__(type)\n",
    "        self.num_doors = num_doors\n",
    "\n",
    "    def display_car_info(self):\n",
    "        super().display_vehicle_info()\n",
    "        print(f\"Number of Doors: {self.num_doors}\")\n",
    "\n",
    "# Derive a class ElectricCar from Car\n",
    "class ElectricCar(Car):\n",
    "    def __init__(self, type, num_doors, battery_capacity):\n",
    "        super().__init__(type, num_doors)\n",
    "        self.battery_capacity = battery_capacity\n",
    "\n",
    "    def display_electric_car_info(self):\n",
    "        super().display_car_info()\n",
    "        print(f\"Battery Capacity: {self.battery_capacity} kWh\")\n",
    "\n",
    "# Create an instance of ElectricCar\n",
    "my_electric_car = ElectricCar(\"Sedan\", 4, 75)\n",
    "\n",
    "# Display information about the electric car\n",
    "my_electric_car.display_electric_car_info()\n",
    "\n",
    "#Output:\n",
    "#Vehicle Type: Sedan\n",
    "#Number of Doors: 4\n",
    "#Battery Capacity: 75 kWh\n",
    "\n",
    "# #In this example:\n",
    "# #1. We define a base class Vehicle with an attribute type and a method display_vehicle_info.\n",
    "# 2. We derive a class Car from Vehicle, adding an attribute num_doors and a method display_car_info.\n",
    "# 3. We further derive a class ElectricCar from Car, adding an attribute battery_capacity and a method display_electric_car_info.\n",
    "# 4. We create an instance of ElectricCar and demonstrate the multi-level inheritance by calling the display_electric_car_info method, which invokes the methods from the parent classes."
   ]
  },
  {
   "cell_type": "markdown",
   "id": "d53a92e2-310f-465a-b213-d8f47023b279",
   "metadata": {},
   "source": [
    "4. Implement a multi-level inheritance scenario where a class Vehicle has an attribute type. Derive a class Car \n",
    "and further derive a class ElectricCar that adds a battery attribute."
   ]
  },
  {
   "cell_type": "code",
   "execution_count": 63,
   "id": "e25ae1e0-bdb1-4828-ae7e-d09658f493ca",
   "metadata": {},
   "outputs": [
    {
     "name": "stdout",
     "output_type": "stream",
     "text": [
      "Vehicle Type: Sedan\n",
      "Brand: Tata\n",
      "Model: Curvv\n",
      "Battery Capacity: 75 kWh\n",
      "Range: 326 miles\n"
     ]
    }
   ],
   "source": [
    "#Here is an example implementation of a multi-level inheritance scenario in Python:\n",
    "\n",
    "\n",
    "# Define the base class Vehicle\n",
    "class Vehicle:\n",
    "    def __init__(self, type):\n",
    "        self.type = type\n",
    "\n",
    "    def display_vehicle_info(self):\n",
    "        print(f\"Vehicle Type: {self.type}\")\n",
    "\n",
    "# Derive a class Car from Vehicle\n",
    "class Car(Vehicle):\n",
    "    def __init__(self, type, brand, model):\n",
    "        super().__init__(type)\n",
    "        self.brand = brand\n",
    "        self.model = model\n",
    "\n",
    "    def display_car_info(self):\n",
    "        self.display_vehicle_info()\n",
    "        print(f\"Brand: {self.brand}\")\n",
    "        print(f\"Model: {self.model}\")\n",
    "\n",
    "# Derive a class ElectricCar from Car\n",
    "class ElectricCar(Car):\n",
    "    def __init__(self, type, brand, model, battery_capacity, range):\n",
    "        super().__init__(type, brand, model)\n",
    "        self.battery_capacity = battery_capacity\n",
    "        self.range = range\n",
    "\n",
    "    def display_electric_car_info(self):\n",
    "        self.display_car_info()\n",
    "        print(f\"Battery Capacity: {self.battery_capacity} kWh\")\n",
    "        print(f\"Range: {self.range} miles\")\n",
    "\n",
    "# Create an instance of ElectricCar\n",
    "my_electric_car = ElectricCar(\"Sedan\", \"Tata\", \"Curvv\", 75, 326)\n",
    "\n",
    "# Display information about the electric car\n",
    "my_electric_car.display_electric_car_info()\n",
    "\n",
    "# Output:\n",
    "# Vehicle Type: Sedan\n",
    "# Brand: Tata\n",
    "# Model: Curvv\n",
    "# Battery Capacity: 75 kWh\n",
    "# Range: 326 miles\n",
    "\n",
    "# This implementation demonstrates the following:\n",
    "# 1. Multi-level inheritance: The ElectricCar class inherits from the Car class, which in turn inherits from the Vehicle class.\n",
    "# 2. Attribute inheritance: The ElectricCar class inherits attributes from its parent classes, including type, brand, and model.\n",
    "# 3. Method overriding: The ElectricCar class overrides the display_car_info method from its parent class to provide additional information specific to electric cars.\n",
    "# 4. Method chaining: The display_electric_car_info method calls the display_car_info method, which in turn calls the display_vehicle_info method, demonstrating method chaining."
   ]
  },
  {
   "cell_type": "markdown",
   "id": "22ef589f-d809-4d33-afe1-e76720df1e63",
   "metadata": {},
   "source": [
    "5. Write a program to demonstrate encapsulation by creating a class BankAccount with private attributes \n",
    "balance and methods to deposit, withdraw, and check balance."
   ]
  },
  {
   "cell_type": "code",
   "execution_count": 44,
   "id": "d443d960-85b0-40e6-8b2f-42581e7a9552",
   "metadata": {},
   "outputs": [
    {
     "name": "stdout",
     "output_type": "stream",
     "text": [
      "Current balance: $1000\n",
      "Deposited $500. Current balance: $1500\n",
      "Withdrew $200. Current balance: $1300\n",
      "Current balance: $1300\n",
      "Error: Cannot access private attribute directly.\n"
     ]
    }
   ],
   "source": [
    "#Here's a Python program that demonstrates encapsulation by creating a BankAccount class with private attributes and methods:\n",
    "\n",
    "\n",
    "class Bank_Account:\n",
    "    def __init__(self, initial_balance=0):\n",
    "        self.__balance = initial_balance\n",
    "\n",
    "    def deposit(self, amount):\n",
    "        if amount > 0:\n",
    "            self.__balance += amount\n",
    "            print(f\"Deposited ${amount}. Current balance: ${self.__balance}\")\n",
    "        else:\n",
    "            print(\"Invalid deposit amount. Please enter a positive value.\")\n",
    "\n",
    "    def withdraw(self, amount):\n",
    "        if 0 < amount <= self.__balance:\n",
    "            self.__balance -= amount\n",
    "            print(f\"Withdrew ${amount}. Current balance: ${self.__balance}\")\n",
    "        elif amount <= 0:\n",
    "            print(\"Invalid withdrawal amount. Please enter a positive value.\")\n",
    "        else:\n",
    "            print(\"Insufficient funds for withdrawal.\")\n",
    "\n",
    "    def check_balance(self):\n",
    "        print(f\"Current balance: ${self.__balance}\")\n",
    "\n",
    "# Create a BankAccount object\n",
    "account = Bank_Account(1000)\n",
    "\n",
    "# Perform banking operations\n",
    "account.check_balance()\n",
    "account.deposit(500)\n",
    "account.withdraw(200)\n",
    "account.check_balance()\n",
    "\n",
    "# Attempt to access private attribute directly (will raise an AttributeError)\n",
    "try:\n",
    "    print(account.__balance)\n",
    "except AttributeError:\n",
    "    print(\"Error: Cannot access private attribute directly.\")\n",
    "\n",
    "# In this program:\n",
    "# 1. We define a BankAccount class with a private attribute __balance and methods to deposit, withdraw, and check the balance.\n",
    "# 2. The __balance attribute is private, meaning it can only be accessed within the class itself. This encapsulates the data and prevents direct external modification.\n",
    "# 3. The deposit, withdraw, and check_balance methods provide controlled access to the private __balance attribute, ensuring that the data remains consistent and secure.\n",
    "# 4. We create a BankAccount object and perform various banking operations to demonstrate the usage of the class.\n",
    "# 5. Finally, we attempt to access the private __balance attribute directly, which raises an AttributeError due to the attribute's private nature. This highlights the importance of encapsulation in protecting sensitive data."
   ]
  },
  {
   "cell_type": "markdown",
   "id": "6ddb515d-1bbb-4361-9a66-0e2b450dc7dc",
   "metadata": {},
   "source": [
    "6. Demonstrate runtime polymorphism using a method play() in a base class Instrument. Derive classes Guitar \n",
    "and Piano that implement their own version of play()."
   ]
  },
  {
   "cell_type": "code",
   "execution_count": null,
   "id": "7da974ef-6b6a-4210-87cb-4760c2752d51",
   "metadata": {},
   "outputs": [],
   "source": [
    "#Here's a Python code snippet that demonstrates runtime polymorphism using a method play() in a base class Instrument and its derived classes Guitar and Piano:\n",
    "\n",
    "\n",
    "# Define the base class Instrument\n",
    "class Instrument:\n",
    "    def play(self):\n",
    "        print(\"Playing a musical instrument.\")\n",
    "\n",
    "# Derive the Guitar class from Instrument\n",
    "class Guitar(Instrument):\n",
    "    def play(self):\n",
    "        print(\"Strumming the guitar.\")\n",
    "\n",
    "# Derive the Piano class from Instrument\n",
    "class Piano(Instrument):\n",
    "    def play(self):\n",
    "        print(\"Pressing the piano keys.\")\n",
    "\n",
    "# Create a list of Instrument objects\n",
    "instruments = [Guitar(), Piano(), Instrument()]\n",
    "\n",
    "# Iterate through the list and call the play() method on each instrument\n",
    "for instrument in instruments:\n",
    "    instrument.play()\n",
    "\n",
    "# Output:\n",
    "# Strumming the guitar.\n",
    "# Pressing the piano keys.\n",
    "# Playing a musical instrument.\n",
    "\n",
    "# In this code:\n",
    "# 1. We define a base class Instrument with a method play().\n",
    "# 2. We derive two classes Guitar and Piano from Instrument, each implementing its own version of the play() method.\n",
    "# 3. We create a list instruments containing objects of type Guitar, Piano, and Instrument.\n",
    "# 4. We iterate through the list and call the play() method on each instrument.\n",
    "\n",
    "# At runtime, Python determines which version of the play() method to call based on the actual object type, demonstrating runtime polymorphism. This allows us to treat objects of different classes uniformly, as long as they share a common base class and method signature."
   ]
  },
  {
   "cell_type": "markdown",
   "id": "b6108669-8597-40d3-85c1-b373bda013d4",
   "metadata": {},
   "source": [
    "7. Create a class MathOperations with a class method add_numbers() to add two numbers and a static \n",
    "method subtract_numbers() to subtract two numbers."
   ]
  },
  {
   "cell_type": "code",
   "execution_count": 45,
   "id": "5c17b9ff-41eb-4ae4-a42d-e3e770176c48",
   "metadata": {},
   "outputs": [
    {
     "name": "stdout",
     "output_type": "stream",
     "text": [
      "15\n",
      "5\n"
     ]
    }
   ],
   "source": [
    "#Here is a Python code snippet that defines a class MathOperations with a class method add_numbers() and a static method subtract_numbers():\n",
    "\n",
    "class MathOperations:\n",
    "    # Class method to add two numbers\n",
    "    @classmethod\n",
    "    def add_numbers(cls, num1, num2):\n",
    "        return num1 + num2\n",
    "\n",
    "    # Static method to subtract two numbers\n",
    "    @staticmethod\n",
    "    def subtract_numbers(num1, num2):\n",
    "        return num1 - num2\n",
    "\n",
    "# Example usage\n",
    "print(MathOperations.add_numbers(10, 5))  # Output: 15\n",
    "print(MathOperations.subtract_numbers(10, 5))  # Output: 5\n",
    "\n",
    "# In this code:\n",
    "# 1. We define a class MathOperations.\n",
    "# 2. We define a class method add_numbers() using the @classmethod decorator. This method takes two numbers as arguments and returns their sum.\n",
    "# 3. We define a static method subtract_numbers() using the @staticmethod decorator. This method takes two numbers as arguments and returns their difference.\n",
    "# 4. We demonstrate the usage of both methods by calling them on the MathOperations class.\n",
    "\n",
    "# Note the differences between class methods and static methods:\n",
    "# - Class methods are bound to the class and have access to the class attributes. They are typically used for alternative constructors or class-level operations.\n",
    "# - Static methods are not bound to the class or instance and do not have access to class or instance attributes. They are typically used for utility functions that do not depend on the class or instance state."
   ]
  },
  {
   "cell_type": "markdown",
   "id": "30e267e6-020a-4e39-b5f9-f11eed8bbde4",
   "metadata": {},
   "source": [
    "8. Implement a class Person with a class method to count the total number of persons created."
   ]
  },
  {
   "cell_type": "code",
   "execution_count": 64,
   "id": "166548f3-c998-4209-8f41-96744a9883a7",
   "metadata": {},
   "outputs": [
    {
     "name": "stdout",
     "output_type": "stream",
     "text": [
      "3\n"
     ]
    }
   ],
   "source": [
    "#Here is a Python code snippet that defines a class Person with a class method to count the total number of persons created:\n",
    "\n",
    "class Person:\n",
    "    # Initialize a class-level variable to keep track of the number of persons created\n",
    "    num_persons = 0\n",
    "\n",
    "    def __init__(self, name, age):\n",
    "        self.name = name\n",
    "        self.age = age\n",
    "        # Increment the class-level variable whenever a new person is created\n",
    "        Person.num_persons += 1\n",
    "\n",
    "    # Class method to get the total number of persons created\n",
    "    @classmethod\n",
    "    def get_num_persons(cls):\n",
    "        return cls.num_persons\n",
    "\n",
    "# Example usage\n",
    "person1 = Person(\"Sumit\", 30)\n",
    "person2 = Person(\"Prabhash\", 25)\n",
    "person3 = Person(\"Nishant\", 40)\n",
    "\n",
    "print(Person.get_num_persons())  # Output: 3\n",
    "\n",
    "# In this code:\n",
    "# 1. We define a class Person with an __init__ method that initializes the person's attributes (name and age) and increments the class-level variable num_persons to keep track of the number of persons created.\n",
    "# 2. We define a class method get_num_persons using the @classmethod decorator. This method returns the total number of persons created, which is stored in the class-level variable num_persons.\n",
    "# 3. We create three instances of the Person class and demonstrate the usage of the get_num_persons class method to retrieve the total number of persons created."
   ]
  },
  {
   "cell_type": "markdown",
   "id": "ee003880-e1e0-4907-b8bb-24bfc790cb32",
   "metadata": {},
   "source": [
    "9. Write a class Fraction with attributes numerator and denominator. Override the str method to display the \n",
    "fraction as \"numerator/denominator\"."
   ]
  },
  {
   "cell_type": "code",
   "execution_count": 49,
   "id": "333d287b-cc1e-4e82-8d61-0b3acfe3c4fe",
   "metadata": {},
   "outputs": [
    {
     "name": "stdout",
     "output_type": "stream",
     "text": [
      "3/4\n",
      "1/2\n",
      "Denominator cannot be zero.\n"
     ]
    }
   ],
   "source": [
    "#Here is a Python code snippet that defines a class Fraction with attributes numerator and denominator, and overrides the __str__ method to display the fraction as \"numerator/denominator\":\n",
    "class Fraction:\n",
    "    def __init__(self, numerator, denominator):\n",
    "        if denominator == 0:\n",
    "            raise ValueError(\"Denominator cannot be zero.\")\n",
    "        self.numerator = numerator\n",
    "        self.denominator = denominator\n",
    "\n",
    "    def __str__(self):\n",
    "        return f\"{self.numerator}/{self.denominator}\"\n",
    "\n",
    "# Example usage\n",
    "fraction1 = Fraction(3, 4)\n",
    "print(fraction1)  # Output: 3/4\n",
    "\n",
    "fraction2 = Fraction(1, 2)\n",
    "print(fraction2)  # Output: 1/2\n",
    "\n",
    "try:\n",
    "    fraction3 = Fraction(5, 0)\n",
    "except ValueError as e:\n",
    "    print(e)  # Output: Denominator cannot be zero.\n",
    "\n",
    "# In this code:\n",
    "# 1. We define a class Fraction with an __init__ method that initializes the fraction's attributes (numerator and denominator). We also include a check to ensure that the denominator is not zero.\n",
    "# 2. We override the __str__ method to provide a string representation of the fraction. This method returns a string in the format \"numerator/denominator\".\n",
    "# 3. We create instances of the Fraction class and demonstrate the usage of the overridden __str__ method to display the fractions.\n",
    "# 4. We also demonstrate error handling by attempting to create a fraction with a denominator of zero, which raises a ValueError."
   ]
  },
  {
   "cell_type": "markdown",
   "id": "8bfea326-fe0d-4d08-a949-c7a1c591ec87",
   "metadata": {},
   "source": [
    "10. Demonstrate operator overloading by creating a class Vector and overriding the add method to add two \n",
    "vectors."
   ]
  },
  {
   "cell_type": "code",
   "execution_count": 50,
   "id": "9a5c98a9-2a31-4f6a-8ded-7b6bb04e1a5d",
   "metadata": {},
   "outputs": [
    {
     "name": "stdout",
     "output_type": "stream",
     "text": [
      "Vector(6, 8)\n",
      "Unsupported operand type for +\n"
     ]
    }
   ],
   "source": [
    "#Here is a Python code snippet that demonstrates operator overloading by creating a class Vector and overriding the __add__ method to add two vectors:\n",
    "\n",
    "class Vector:\n",
    "    def __init__(self, x, y):\n",
    "        self.x = x\n",
    "        self.y = y\n",
    "\n",
    "    def __add__(self, other):\n",
    "        if isinstance(other, Vector):\n",
    "            return Vector(self.x + other.x, self.y + other.y)\n",
    "        else:\n",
    "            raise TypeError(\"Unsupported operand type for +\")\n",
    "\n",
    "    def __str__(self):\n",
    "        return f\"Vector({self.x}, {self.y})\"\n",
    "\n",
    "# Example usage\n",
    "vector1 = Vector(2, 3)\n",
    "vector2 = Vector(4, 5)\n",
    "\n",
    "vector_sum = vector1 + vector2\n",
    "print(vector_sum)  # Output: Vector(6, 8)\n",
    "\n",
    "try:\n",
    "    vector_sum = vector1 + 5\n",
    "except TypeError as e:\n",
    "    print(e)  # Output: Unsupported operand type for +\n",
    "\n",
    "#In this code:\n",
    "# 1. We define a class Vector with an __init__ method that initializes the vector's attributes (x and y).\n",
    "# 2. We override the __add__ method to provide a custom implementation for adding two vectors. This method returns a new Vector object representing the sum of the two input vectors.\n",
    "# 3. We also override the __str__ method to provide a string representation of the vector.\n",
    "# 4. We create instances of the Vector class and demonstrate the usage of the overridden __add__ method to add two vectors.\n",
    "# 5. We also demonstrate error handling by attempting to add a vector and an integer, which raises a TypeError."
   ]
  },
  {
   "cell_type": "markdown",
   "id": "6e016f27-ac1c-4da2-9cad-e737da0c9d50",
   "metadata": {},
   "source": [
    "11.  Create a class Person with attributes name and age. Add a method greet() that prints \"Hello, my name is \n",
    "{name} and I am {age} years old.\""
   ]
  },
  {
   "cell_type": "code",
   "execution_count": 62,
   "id": "6ae1eb32-a78e-4c4e-a479-e17709ef1bc7",
   "metadata": {},
   "outputs": [
    {
     "name": "stdout",
     "output_type": "stream",
     "text": [
      "Hello, my name is Prabhash and I am 28 years old.\n",
      "Hello, my name is Kashyap and I am 26 years old.\n"
     ]
    }
   ],
   "source": [
    "#Here is a Python code snippet that defines a class Person with attributes name and age, and a method greet():\n",
    "\n",
    "class Person:\n",
    "    def __init__(self, name, age):\n",
    "        self.name = name\n",
    "        self.age = age\n",
    "\n",
    "    def greet(self):\n",
    "        print(f\"Hello, my name is {self.name} and I am {self.age} years old.\")\n",
    "\n",
    "# Example usage\n",
    "person1 = Person(\"Prabhash\", 28)\n",
    "person1.greet()  # Output: Hello, my name is Prabhash and I am 30 years old.\n",
    "\n",
    "person2 = Person(\"Kashyap\", 26)\n",
    "person2.greet()  # Output: Hello, my name is Kashyap and I am 25 years old.\n",
    "\n",
    "\n",
    "#In this code:\n",
    "# 1. We define a class Person with an __init__ method that initializes the person's attributes (name and age).\n",
    "# 2. We define a method greet() that prints a greeting message with the person's name and age.\n",
    "# 3. We create instances of the Person class and demonstrate the usage of the greet() method.\n",
    "\n",
    "# Note that we use an f-string to format the greeting message with the person's name and age. This provides a concise and readable way to insert values into a string."
   ]
  },
  {
   "cell_type": "markdown",
   "id": "d13fc96d-796e-4b09-81da-59c49fb7f1ae",
   "metadata": {},
   "source": [
    "12. Implement a class Student with attributes name and grades. Create a method average_grade() to compute \n",
    "the average of the grades."
   ]
  },
  {
   "cell_type": "code",
   "execution_count": 61,
   "id": "04f0a5e0-f7d3-4529-9b44-9ade5beb3a55",
   "metadata": {},
   "outputs": [
    {
     "name": "stdout",
     "output_type": "stream",
     "text": [
      "Average grade for Prabhash: 84.33\n",
      "Average grade for Kashyap: 91.67\n"
     ]
    }
   ],
   "source": [
    "#Here is a Python code snippet that defines a class Student with attributes name and grades, and a method average_grade():\n",
    "\n",
    "class Student:\n",
    "    def __init__(self, name, grades=None):\n",
    "        self.name = name\n",
    "        self.grades = grades if grades else []\n",
    "\n",
    "    def add_grade(self, grade):\n",
    "        self.grades.append(grade)\n",
    "\n",
    "    def average_grade(self):\n",
    "        if not self.grades:\n",
    "            return 0\n",
    "        return sum(self.grades) / len(self.grades)\n",
    "\n",
    "# Example usage\n",
    "student1 = Student(\"Prabhash\")\n",
    "student1.add_grade(85)\n",
    "student1.add_grade(90)\n",
    "student1.add_grade(78)\n",
    "\n",
    "print(f\"Average grade for {student1.name}: {student1.average_grade():.2f}\")\n",
    "\n",
    "student2 = Student(\"Kashyap\", [92, 88, 95])\n",
    "print(f\"Average grade for {student2.name}: {student2.average_grade():.2f}\")\n",
    "\n",
    "# In this code:\n",
    "# 1. We define a class Student with an __init__ method that initializes the student's attributes (name and grades).\n",
    "# 2. We define a method add_grade() to add a new grade to the student's list of grades.\n",
    "# 3. We define a method average_grade() to compute the average of the student's grades. If the student has no grades, the method returns 0.\n",
    "# 4. We create instances of the Student class and demonstrate the usage of the add_grade() and average_grade() methods.\n",
    "\n",
    "# Note that we use the sum() function to calculate the sum of the grades and the len() function to get the number of grades. We also use an f-string to format the output with two decimal places."
   ]
  },
  {
   "cell_type": "markdown",
   "id": "9b946b8c-1b08-4a58-acb0-eec9da31db2d",
   "metadata": {},
   "source": [
    "13. Create a class Rectangle with methods set_dimensions() to set the dimensions and area() to calculate the \n",
    "area."
   ]
  },
  {
   "cell_type": "code",
   "execution_count": 57,
   "id": "760a8838-f06c-4b3d-a830-75d87b0a2427",
   "metadata": {},
   "outputs": [
    {
     "name": "stdout",
     "output_type": "stream",
     "text": [
      "Area of the rectangle: 15\n",
      "Length and width must be positive numbers.\n"
     ]
    }
   ],
   "source": [
    "#Here is a Python code snippet that defines a class Rectangle with methods set_dimensions() and area():\n",
    "\n",
    "class Rectangle:\n",
    "    def __init__(self):\n",
    "        self.length = 0\n",
    "        self.width = 0\n",
    "\n",
    "    def set_dimensions(self, length, width):\n",
    "        if length <= 0 or width <= 0:\n",
    "            raise ValueError(\"Length and width must be positive numbers.\")\n",
    "        self.length = length\n",
    "        self.width = width\n",
    "\n",
    "    def area(self):\n",
    "        return self.length * self.width\n",
    "\n",
    "# Example usage\n",
    "rectangle = Rectangle()\n",
    "rectangle.set_dimensions(5, 3)\n",
    "print(f\"Area of the rectangle: {rectangle.area()}\")\n",
    "\n",
    "try:\n",
    "    rectangle.set_dimensions(0, 4)\n",
    "except ValueError as e:\n",
    "    print(e)  # Output: Length and width must be positive numbers.\n",
    "\n",
    "\n",
    "#In this code:\n",
    "# 1. We define a class Rectangle with an __init__ method that initializes the rectangle's attributes (length and width).\n",
    "# 2. We define a method set_dimensions() to set the length and width of the rectangle. This method includes input validation to ensure that both dimensions are positive numbers.\n",
    "# 3. We define a method area() to calculate the area of the rectangle by multiplying the length and width.\n",
    "# 4. We create an instance of the Rectangle class and demonstrate the usage of the set_dimensions() and area() methods.\n",
    "\n",
    "# Note that we use a try-except block to catch and handle any ValueError exceptions raised when attempting to set invalid dimensions."
   ]
  },
  {
   "cell_type": "markdown",
   "id": "d6fe09d4-1d76-4ff3-b73a-cbb55ad66793",
   "metadata": {},
   "source": [
    "14. Create a class Employee with a method calculate_salary() that computes the salary based on hours worked \n",
    "and hourly rate. Create a derived class Manager that adds a bonus to the salary."
   ]
  },
  {
   "cell_type": "code",
   "execution_count": 60,
   "id": "3b96c398-4e5c-4b26-90cc-8ce3ec4678af",
   "metadata": {},
   "outputs": [
    {
     "name": "stdout",
     "output_type": "stream",
     "text": [
      "Employee salary: $2000.00\n",
      "Manager salary: $3400.00\n"
     ]
    }
   ],
   "source": [
    "#Here is a Python code snippet that defines a class Employee with a method calculate_salary() and a derived class Manager that adds a bonus to the salary:\n",
    "\n",
    "class Employee:\n",
    "    def __init__(self, name, hours_worked, hourly_rate):\n",
    "        self.name = name\n",
    "        self.hours_worked = hours_worked\n",
    "        self.hourly_rate = hourly_rate\n",
    "\n",
    "    def calculate_salary(self):\n",
    "        return self.hours_worked * self.hourly_rate\n",
    "\n",
    "class Manager(Employee):\n",
    "    def __init__(self, name, hours_worked, hourly_rate, bonus):\n",
    "        super().__init__(name, hours_worked, hourly_rate)\n",
    "        self.bonus = bonus\n",
    "\n",
    "    def calculate_salary(self):\n",
    "        return super().calculate_salary() + self.bonus\n",
    "\n",
    "# Example usage\n",
    "employee = Employee(\"Prabhash\", 40, 50)\n",
    "print(f\"Employee salary: ${employee.calculate_salary():.2f}\")\n",
    "\n",
    "manager = Manager(\"Kashyap\", 40, 60, 1000)\n",
    "print(f\"Manager salary: ${manager.calculate_salary():.2f}\")\n",
    "\n",
    "# In this code:\n",
    "# 1. We define a class Employee with an __init__ method that initializes the employee's attributes (name, hours_worked, and hourly_rate).\n",
    "# 2. We define a method calculate_salary() in the Employee class to compute the salary based on hours worked and hourly rate.\n",
    "# 3. We define a derived class Manager that inherits from the Employee class.\n",
    "# 4. In the Manager class, we override the calculate_salary() method to add a bonus to the salary.\n",
    "# 5. We create instances of both classes and demonstrate the usage of the calculate_salary() method.\n",
    "\n",
    "# Note that we use the super() function to call the parent class's calculate_salary() method from the Manager class. This allows us to build upon the parent class's implementation and add the bonus calculation."
   ]
  },
  {
   "cell_type": "markdown",
   "id": "b53cbdd4-9177-471b-ac4a-b26eedfe93ec",
   "metadata": {},
   "source": [
    "15. Create a class Product with attributes name, price, and quantity. Implement a method total_price() that \n",
    "calculates the total price of the product."
   ]
  },
  {
   "cell_type": "code",
   "execution_count": 67,
   "id": "b29a942e-aefd-4eaa-9941-10faae063cc1",
   "metadata": {},
   "outputs": [
    {
     "name": "stdout",
     "output_type": "stream",
     "text": [
      "Product: Laptop, Price: ₹92000.00, Quantity: 2\n",
      "Total Price: ₹184000.00\n",
      "Product: Smartphone, Price: ₹55000.00, Quantity: 3\n",
      "Total Price: ₹165000.00\n"
     ]
    }
   ],
   "source": [
    "#Here is a Python code snippet that defines a class Product with attributes name, price, and quantity, and implements a method total_price() to calculate the total price of the product:\n",
    "\n",
    "class Product:\n",
    "    def __init__(self, name, price, quantity):\n",
    "        self.name = name\n",
    "        self.price = price\n",
    "        self.quantity = quantity\n",
    "\n",
    "    def total_price(self):\n",
    "        return self.price * self.quantity\n",
    "\n",
    "    def __str__(self):\n",
    "        return f\"Product: {self.name}, Price: ₹{self.price:.2f}, Quantity: {self.quantity}\"\n",
    "\n",
    "# Example usage\n",
    "product1 = Product(\"Laptop\", 92000, 2)\n",
    "print(product1)\n",
    "print(f\"Total Price: ₹{product1.total_price():.2f}\")\n",
    "\n",
    "product2 = Product(\"Smartphone\", 55000, 3)\n",
    "print(product2)\n",
    "print(f\"Total Price: ₹{product2.total_price():.2f}\")\n",
    "\n",
    "# In this code:\n",
    "# 1. We define a class Product with an __init__ method that initializes the product's attributes (name, price, and quantity).\n",
    "# 2. We implement a method total_price() to calculate the total price of the product by multiplying the price and quantity.\n",
    "# 3. We define a __str__ method to provide a string representation of the product.\n",
    "# 4. We create instances of the Product class and demonstrate the usage of the total_price() method.\n",
    "\n",
    "# Note that we use f-strings to format the output with two decimal places for the price."
   ]
  },
  {
   "cell_type": "markdown",
   "id": "e747a188-5a03-48d3-8051-5fef6f591a72",
   "metadata": {},
   "source": [
    "16. Create a class Animal with an abstract method sound(). Create two derived classes Cow and Sheep that \n",
    "implement the sound() method."
   ]
  },
  {
   "cell_type": "code",
   "execution_count": 68,
   "id": "2f1d34e5-220c-439e-aac2-73eef3fc5f6a",
   "metadata": {},
   "outputs": [
    {
     "name": "stdout",
     "output_type": "stream",
     "text": [
      "Cow says: Moo\n",
      "Sheep says: Baa\n",
      "Can't instantiate abstract class Animal without an implementation for abstract method 'sound'\n"
     ]
    }
   ],
   "source": [
    "#Here is a Python code snippet that defines a class Animal with an abstract method sound(), and two derived classes Cow and Sheep that implement the sound() method:\n",
    "\n",
    "from abc import ABC, abstractmethod\n",
    "\n",
    "class Animal(ABC):\n",
    "    @abstractmethod\n",
    "    def sound(self):\n",
    "        pass\n",
    "\n",
    "class Cow(Animal):\n",
    "    def sound(self):\n",
    "        return \"Moo\"\n",
    "\n",
    "class Sheep(Animal):\n",
    "    def sound(self):\n",
    "        return \"Baa\"\n",
    "\n",
    "# Example usage\n",
    "cow = Cow()\n",
    "print(f\"Cow says: {cow.sound()}\")\n",
    "\n",
    "sheep = Sheep()\n",
    "print(f\"Sheep says: {sheep.sound()}\")\n",
    "\n",
    "# Attempting to instantiate the abstract class Animal will raise an error\n",
    "try:\n",
    "    animal = Animal()\n",
    "except TypeError as e:\n",
    "    print(e)\n",
    "\n",
    "# In this code:\n",
    "# 1. We import the ABC (Abstract Base Class) and abstractmethod from the abc module.\n",
    "# 2. We define a class Animal that inherits from ABC and declares an abstract method sound() using the @abstractmethod decorator.\n",
    "# 3. We define two derived classes Cow and Sheep that inherit from Animal and implement the sound() method.\n",
    "# 4. We create instances of the Cow and Sheep classes and demonstrate the usage of the sound() method.\n",
    "# 5. We attempt to instantiate the abstract class Animal, which raises a TypeError.\n",
    "\n",
    "# Note that the ABC and abstractmethod are used to define abstract classes and methods, which cannot be instantiated directly and must be implemented by derived classes."
   ]
  },
  {
   "cell_type": "markdown",
   "id": "47180936-754f-42b8-8e28-0b0a46dc8cbe",
   "metadata": {},
   "source": [
    "17. Create a class Book with attributes title, author, and year_published. Add a method get_book_info() that \n",
    "returns a formatted string with the book's details."
   ]
  },
  {
   "cell_type": "code",
   "execution_count": 69,
   "id": "ec8a14f1-64e5-48d5-9046-ea6bd633f7e6",
   "metadata": {},
   "outputs": [
    {
     "name": "stdout",
     "output_type": "stream",
     "text": [
      "'To Kill a Mockingbird' by Harper Lee, published in 1960\n",
      "'1984' by George Orwell, published in 1949\n"
     ]
    }
   ],
   "source": [
    "#Here is a Python code snippet that defines a class Book with attributes title, author, and year_published, and a method get_book_info() that returns a formatted string with the book's details:\n",
    "\n",
    "class Book:\n",
    "    def __init__(self, title, author, year_published):\n",
    "        self.title = title\n",
    "        self.author = author\n",
    "        self.year_published = year_published\n",
    "\n",
    "    def get_book_info(self):\n",
    "        return f\"'{self.title}' by {self.author}, published in {self.year_published}\"\n",
    "\n",
    "# Example usage\n",
    "book1 = Book(\"To Kill a Mockingbird\", \"Harper Lee\", 1960)\n",
    "print(book1.get_book_info())\n",
    "\n",
    "book2 = Book(\"1984\", \"George Orwell\", 1949)\n",
    "print(book2.get_book_info())\n",
    "\n",
    "# In this code:\n",
    "# 1. We define a class Book with an __init__ method that initializes the book's attributes (title, author, and year_published).\n",
    "# 2. We define a method get_book_info() that returns a formatted string with the book's details.\n",
    "# 3. We create instances of the Book class and demonstrate the usage of the get_book_info() method.\n",
    "\n",
    "# Note that we use f-strings to format the output string with the book's details."
   ]
  },
  {
   "cell_type": "markdown",
   "id": "f0d0e89d-954f-4811-bc44-a0f729e46dd8",
   "metadata": {},
   "source": [
    "18. Create a class House with attributes address and price. Create a derived class Mansion that adds an \n",
    "attribute number_of_rooms."
   ]
  },
  {
   "cell_type": "code",
   "execution_count": 70,
   "id": "f88c7e97-39b9-46d0-9012-c8a7dec4106b",
   "metadata": {},
   "outputs": [
    {
     "name": "stdout",
     "output_type": "stream",
     "text": [
      "Address: 123 Main St, Price: $500000.00\n",
      "Address: 456 Luxury Dr, Price: $2000000.00, Number of Rooms: 10\n"
     ]
    }
   ],
   "source": [
    "#Here is a Python code snippet that defines a class House with attributes address and price, and a derived class Mansion that adds an attribute number_of_rooms:\n",
    "\n",
    "class House:\n",
    "    def __init__(self, address, price):\n",
    "        self.address = address\n",
    "        self.price = price\n",
    "\n",
    "    def __str__(self):\n",
    "        return f\"Address: {self.address}, Price: ${self.price:.2f}\"\n",
    "\n",
    "class Mansion(House):\n",
    "    def __init__(self, address, price, number_of_rooms):\n",
    "        super().__init__(address, price)\n",
    "        self.number_of_rooms = number_of_rooms\n",
    "\n",
    "    def __str__(self):\n",
    "        return super().__str__() + f\", Number of Rooms: {self.number_of_rooms}\"\n",
    "\n",
    "# Example usage\n",
    "house = House(\"123 Main St\", 500000)\n",
    "print(house)\n",
    "\n",
    "mansion = Mansion(\"456 Luxury Dr\", 2000000, 10)\n",
    "print(mansion)\n",
    "\n",
    "# In this code:\n",
    "# 1. We define a class House with an __init__ method that initializes the house's attributes (address and price).\n",
    "# 2. We define a __str__ method in the House class to provide a string representation of the house.\n",
    "# 3. We define a derived class Mansion that inherits from the House class.\n",
    "# 4. In the Mansion class, we define an __init__ method that initializes the mansion's attributes, including the number_of_rooms attribute.\n",
    "# 5. We override the __str__ method in the Mansion class to include the number_of_rooms attribute in the string representation.\n",
    "# 6. We create instances of both classes and demonstrate their usage.\n",
    "\n",
    "# Note that we use the super() function to call the parent class's __init__ and __str__ methods from the Mansion class. This allows us to build upon the parent class's implementation and add the additional attribute and functionality."
   ]
  },
  {
   "cell_type": "code",
   "execution_count": null,
   "id": "61d2dd8c-e18b-4b83-9c8b-786a1af062e3",
   "metadata": {},
   "outputs": [],
   "source": [
    "# The End"
   ]
  }
 ],
 "metadata": {
  "kernelspec": {
   "display_name": "Python 3 (ipykernel)",
   "language": "python",
   "name": "python3"
  },
  "language_info": {
   "codemirror_mode": {
    "name": "ipython",
    "version": 3
   },
   "file_extension": ".py",
   "mimetype": "text/x-python",
   "name": "python",
   "nbconvert_exporter": "python",
   "pygments_lexer": "ipython3",
   "version": "3.12.7"
  }
 },
 "nbformat": 4,
 "nbformat_minor": 5
}
