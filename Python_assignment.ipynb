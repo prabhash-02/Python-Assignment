{
 "cells": [
  {
   "cell_type": "code",
   "execution_count": 5,
   "id": "34b8d31d-905e-4b2b-86dd-039cb0abeb3d",
   "metadata": {},
   "outputs": [],
   "source": [
    "#Python Basics Questions\n"
   ]
  },
  {
   "cell_type": "raw",
   "id": "b1091c20-9da9-4f43-8046-b97c3aec71fe",
   "metadata": {},
   "source": [
    "1. What is Python, and why is it popular?\n",
    "Ans:- Python is a high-level, interpreted programming language and one of the most accessible programming languages, Simple syntex,Readability, Versatility, Large and Active Community, Extensive Standard Library and so on.\n",
    "\n",
    "2. What is an interpreter in Python?\n",
    "Ans:- A Python interpreter is a program that reads and executes Python code line by line. It acts as a bridge between your human-readable code and the machine's low-level language.\n",
    "\n",
    "3. What are pre-defined keywords in Python?\n",
    "Ans:- List of Python keywords are: False, await, else, import, pass, None, break, except, in, raise, True, class, finally, is, return, and, continue, for, lambda, try, as, def, from, nonlocal, while, assert, del, global, not, with, async, elif, if, or, yield\n",
    "\n",
    "4. Can keywords be used as variable names?\n",
    "Ans:- No, Keywords are reserved words that have specific meanings in Python's syntax. Using them as variable names will lead to a syntax error.\n",
    "\n",
    "5. What is mutability in Python?\n",
    "Ans:- In Python, mutability refers to the ability of an object to change its value or state after it's been created.\n",
    "\n",
    "6. Why are lists mutable, but tuples are immutable?\n",
    "Ans:- In Python, lists are mutable because they are designed to be dynamic collections of items that can be modified, added, or removed. Lists are implemented as dynamic arrays, which means they can resize themselves as elements are added or removed.\n",
    "On the other hand, tuples are immutable because they are designed to be static, unchangeable collections of items. Tuples are implemented as static arrays, which means their size is fixed at creation time.\n",
    "\n",
    "7. What is the difference between “==” and “is” operators in Python?\n",
    "Ans:- In Python, == and is are two distinct operators that serve different purposes:\n",
    "== (Equality Operator)\n",
    "- Checks whether the values of two variables are equal.\n",
    "- Compares the contents of the variables.\n",
    "- Returns True if the values are equal, and False otherwise.\n",
    "\n",
    "is (Identity Operator)\n",
    "- Checks whether two variables refer to the same object in memory.\n",
    "- Compares the memory addresses of the variables.\n",
    "- Returns True if both variables point to the same object, and False otherwise.\n",
    "\n",
    "8. What are logical operators in Python?\n",
    "Ans:- Logical operators in Python are used to combine conditional statements and make decisions based on multiple conditions. Here are the logical operators available in Python:\n",
    "    Logical Operators\n",
    "    1. and (Logical AND)\n",
    "        - Returns True if both conditions are true.\n",
    "        - Example: a > 5 and a < 10\n",
    "    2. or (Logical OR)\n",
    "        - Returns True if either condition is true.\n",
    "        - Example: a > 5 or a < 10\n",
    "    3. not (Logical NOT)\n",
    "        - Returns True if the condition is false, and vice versa.\n",
    "        - Example: not a > 5\n",
    "\n",
    "9. What is type casting in Python?\n",
    "Ans:- Type casting in Python is the process of converting a variable or a value from one data type to another. This is also known as type conversion. There are two types of type casting in Python:\n",
    "        a) Implicit Type Casting: This is done automatically by Python. For example, when you add an integer and a float, Python automatically converts the integer to a float.\n",
    "        b) Explicit Type Casting: This is done manually by the programmer using functions like int(), float(), str(), etc.\n",
    "\n",
    "10. What is the difference between implicit and explicit type casting?\n",
    "Ans:- Implicit and explicit type casting are two ways to convert a value from one data type to another in programming.\n",
    "        Implicit Type Casting:- Implicit type casting is done automatically by the programming language. It occurs when you assign a value of one data type to a variable of another data type.\n",
    "        Explicit Type Casting:- Explicit type casting is done manually by the programmer using casting operators or functions. It is used when you want to convert a value of one data type to another data type explicitly.\n",
    "        Key Differences:\n",
    "        Here are the key differences between implicit and explicit type casting:\n",
    "        - Automatic vs. Manual: Implicit type casting is done automatically by the programming language, while explicit type casting is done manually by the programmer.\n",
    "        - Control and Flexibility: Explicit type casting provides more control and flexibility, as you can specify the exact data type you want to convert to.\n",
    "        - Readability and Maintainability: Explicit type casting can make your code more readable and maintainable, as it clearly indicates the data type conversion.\n",
    "        - Error Handling: Explicit type casting can help catch type-related errors at compile-time, rather than runtime.\n",
    "\n",
    "11. What is the purpose of conditional statements in Python?\n",
    "Ans:- Conditional statements in Python are used to execute specific blocks of code based on certain conditions or decisions. The purpose of conditional statements is to:\n",
    "              Control the Flow of a Program\n",
    "              Execute Different Blocks of Code\n",
    "              Handle Errors and Exceptions\n",
    "              Improve Code Readability and Maintainability\n",
    "\n",
    "12. How does the elif statement work?\n",
    "Ans:- The elif statement in Python is a combination of the words \"else\" and \"if\". It's used to check another condition if the initial if statement condition is false.\n",
    "         Here's how the elif statement works:\n",
    "            1. The program checks the initial if statement condition (condition1).\n",
    "            2. If condition1 is true, the program executes the code inside the if block and skips the elif and else blocks.\n",
    "            3. If condition1 is false, the program checks the elif statement condition (condition2).\n",
    "            4. If condition2 is true, the program executes the code inside the elif block and skips the else block.\n",
    "            5. If both condition1 and condition2 are false, the program executes the code inside the else block.\n",
    "\n",
    "13. What is the difference between for and while loops?\n",
    "Ans:- For loops are used to iterate over a sequence (such as a list, tuple, or string) or other iterable objects. They allow you to execute a block of code for each item in the sequence.\n",
    "      While loops, on the other hand, are used to execute a block of code as long as a certain condition is true. They are often used when the number of iterations is unknown or depends on some condition.\n",
    "        The main differences between for and while loops are:\n",
    "            1. Iteration: For loops iterate over a sequence or iterable, while while loops iterate based on a condition.\n",
    "            2. Number of Iterations: For loops know the exact number of iterations (the length of the sequence), while while loops do not know the number of iterations in advance.\n",
    "            3. Loop Control: For loops automatically move to the next item in the sequence, while while loops require manual control using conditional statements and increments/decrements.\n",
    "\n",
    "14. Describe a scenario where a while loop is more suitable than a for loop.\n",
    "Ans:- Here's a scenario where a while loop is more suitable than a for loop:\n",
    "      for example Simulating a Bank Account Balance\n",
    "Suppose you want to write a program that simulates a bank account balance. The program should allow the user to deposit or withdraw money until they choose to exit. The program should also check if the account balance is sufficient for withdrawals.\n",
    " In this scenario, a while loop is more suitable than a for loop for the following reasons:\n",
    "\n",
    "            1. Unknown number of iterations: The program doesn't know in advance how many times the user will deposit or withdraw money. A while loop allows the program to continue executing until the user chooses to exit.\n",
    "            2. Conditional looping: The program needs to check the account balance before allowing a withdrawal. A while loop enables the program to repeat the withdrawal process only if the balance is sufficient.\n",
    "            3. User interaction: The program requires user input to determine the next action (deposit, withdraw, or exit). A while loop allows the program to repeatedly prompt the user for input until they choose to exit.   \n"
   ]
  },
  {
   "cell_type": "code",
   "execution_count": 6,
   "id": "220e11d2-3f88-41e4-8bba-a5d79109ea68",
   "metadata": {},
   "outputs": [],
   "source": [
    "#Practical Questions\n"
   ]
  },
  {
   "cell_type": "markdown",
   "id": "d4d49ff4-0973-45c5-be73-b0c2c39a5989",
   "metadata": {},
   "source": [
    "1. Write a Python program to print \"Hello, World!"
   ]
  },
  {
   "cell_type": "code",
   "execution_count": 7,
   "id": "567b7d4d-3641-400f-b6a8-882042e3d255",
   "metadata": {},
   "outputs": [
    {
     "name": "stdout",
     "output_type": "stream",
     "text": [
      "Hello, World!\n"
     ]
    }
   ],
   "source": [
    "print(\"Hello, World!\")"
   ]
  },
  {
   "cell_type": "markdown",
   "id": "d0d01748-9d53-44fd-bfe3-fea2fb2e358c",
   "metadata": {},
   "source": [
    "2. Write a Python program that displays your name and age"
   ]
  },
  {
   "cell_type": "code",
   "execution_count": 8,
   "id": "a23666b6-a9a5-4a9a-bd2c-4fce76e40d6d",
   "metadata": {},
   "outputs": [
    {
     "name": "stdout",
     "output_type": "stream",
     "text": [
      "Prabhash Kashyap\n",
      "Age:26\n"
     ]
    }
   ],
   "source": [
    "print(\"Prabhash Kashyap\\nAge:26\")"
   ]
  },
  {
   "cell_type": "markdown",
   "id": "6a00f52a-4582-4526-8ad6-feb6adfe98a8",
   "metadata": {},
   "source": [
    "3. Write code to print all the pre-defined keywords in Python using the keyword library"
   ]
  },
  {
   "cell_type": "code",
   "execution_count": 34,
   "id": "b2d733a0-2dd5-4c06-969d-9d2a7f0c3493",
   "metadata": {},
   "outputs": [
    {
     "name": "stdout",
     "output_type": "stream",
     "text": [
      "Here is the keywor list:\n",
      "['False', 'None', 'True', 'and', 'as', 'assert', 'async', 'await', 'break', 'class', 'continue', 'def', 'del', 'elif', 'else', 'except', 'finally', 'for', 'from', 'global', 'if', 'import', 'in', 'is', 'lambda', 'nonlocal', 'not', 'or', 'pass', 'raise', 'return', 'try', 'while', 'with', 'yield']\n"
     ]
    }
   ],
   "source": [
    "import keyword\n",
    "print(\"Here is the keywor list:\")\n",
    "print(keyword.kwlist)"
   ]
  },
  {
   "cell_type": "markdown",
   "id": "a49f5f6c-da45-4c5a-b1be-0d8733eef313",
   "metadata": {},
   "source": [
    "4. Write a program that checks if a given word is a Python keyword"
   ]
  },
  {
   "cell_type": "code",
   "execution_count": 35,
   "id": "9ee08f8e-1c53-40f8-849e-6510d07e2514",
   "metadata": {},
   "outputs": [
    {
     "name": "stdin",
     "output_type": "stream",
     "text": [
      "Enter a word to check if it is a Python keyword:  import\n"
     ]
    },
    {
     "name": "stdout",
     "output_type": "stream",
     "text": [
      "'import' is a Python keyword.\n"
     ]
    }
   ],
   "source": [
    "import keyword\n",
    "\n",
    "def check_keyword(word):\n",
    "    if keyword.iskeyword(word):\n",
    "        print(f\"'{word}' is a Python keyword.\")\n",
    "    else:\n",
    "        print(f\"'{word}' is not a Python keyword.\")\n",
    "\n",
    "# Input word\n",
    "word = input(\"Enter a word to check if it is a Python keyword: \")\n",
    "check_keyword(word)"
   ]
  },
  {
   "cell_type": "markdown",
   "id": "abe28c76-3214-49ff-a01a-44d0c63be97f",
   "metadata": {},
   "source": [
    "5. Create a list and tuple in Python, and demonstrate how attempting to change an element works differently for each"
   ]
  },
  {
   "cell_type": "code",
   "execution_count": 36,
   "id": "74ce12f0-7414-4c29-8b41-bb2b487bba11",
   "metadata": {},
   "outputs": [
    {
     "name": "stdout",
     "output_type": "stream",
     "text": [
      "List after modification: [1, 99, 3, 4]\n",
      "Error trying to modify tuple: 'tuple' object does not support item assignment\n"
     ]
    }
   ],
   "source": [
    "# Creating a list and a tuple\n",
    "my_list = [1, 2, 3, 4]\n",
    "my_tuple = (1, 2, 3, 4)\n",
    "\n",
    "# Attempting to change an element in the list\n",
    "try:\n",
    "    my_list[1] = 99  # Changing the second element in the list\n",
    "    print(\"List after modification:\", my_list)\n",
    "except TypeError as e:\n",
    "    print(\"Error trying to modify list:\", e)\n",
    "\n",
    "# Attempting to change an element in the tuple\n",
    "try:\n",
    "    my_tuple[1] = 99  # Changing the second element in the tuple\n",
    "    print(\"Tuple after modification:\", my_tuple)\n",
    "except TypeError as e:\n",
    "    print(\"Error trying to modify tuple:\", e)"
   ]
  },
  {
   "cell_type": "markdown",
   "id": "70c04c5a-c6c6-48bd-b6e1-75c290dc53c0",
   "metadata": {},
   "source": [
    "6. Write a function to demonstrate the behavior of mutable and immutable arguments\n"
   ]
  },
  {
   "cell_type": "code",
   "execution_count": 9,
   "id": "8e9771f8-0d9a-4f4f-a6f6-4e430d944c32",
   "metadata": {},
   "outputs": [
    {
     "name": "stdout",
     "output_type": "stream",
     "text": [
      "Before modifying immutable argument:\n",
      "x = 5\n",
      "Inside modify_immutable function:\n",
      "Original value of x: 5\n",
      "Modified value of x (new object): 15\n",
      "After modifying immutable argument:\n",
      "x = 5\n",
      "\n",
      "Before modifying mutable argument:\n",
      "y = [1, 2, 3]\n",
      "\n",
      "Inside modify_mutable function:\n",
      "Original list y: [1, 2, 3]\n",
      "Modified list y: [1, 2, 3, 4]\n",
      "After modifying mutable argument:\n",
      "y = [1, 2, 3, 4]\n",
      "\n"
     ]
    }
   ],
   "source": [
    "def demonstrate_mutable_immutable():\n",
    "    # Immutable argument (integer)\n",
    "    x = 5\n",
    "    \n",
    "    def modify_immutable(arg):\n",
    "        print(\"Inside modify_immutable function:\")\n",
    "        print(f\"Original value of x: {arg}\")\n",
    "        arg = arg + 10  # This will create a new integer object\n",
    "        print(f\"Modified value of x (new object): {arg}\")\n",
    "    \n",
    "    # Mutable argument (list)\n",
    "    y = [1, 2, 3]\n",
    "    \n",
    "    def modify_mutable(arg):\n",
    "        print(\"\\nInside modify_mutable function:\")\n",
    "        print(f\"Original list y: {arg}\")\n",
    "        arg.append(4)  # This modifies the original list in place\n",
    "        print(f\"Modified list y: {arg}\")\n",
    "    \n",
    "    # Call functions\n",
    "    print(\"Before modifying immutable argument:\")\n",
    "    print(f\"x = {x}\")\n",
    "    modify_immutable(x)\n",
    "    print(f\"After modifying immutable argument:\")\n",
    "    print(f\"x = {x}\\n\")  # The value of x remains unchanged outside the function\n",
    "    \n",
    "    print(\"Before modifying mutable argument:\")\n",
    "    print(f\"y = {y}\")\n",
    "    modify_mutable(y)\n",
    "    print(f\"After modifying mutable argument:\")\n",
    "    print(f\"y = {y}\\n\")  # The list y is modified in place\n",
    "\n",
    "# Call the demonstration function\n",
    "demonstrate_mutable_immutable()"
   ]
  },
  {
   "cell_type": "markdown",
   "id": "744e2088-6289-490d-baf1-c5ea116d120c",
   "metadata": {},
   "source": [
    "8. Write a program to demonstrate the use of logical operators"
   ]
  },
  {
   "cell_type": "code",
   "execution_count": 14,
   "id": "1ac87929-fca0-4d46-bddd-2ad4a7d6956a",
   "metadata": {},
   "outputs": [
    {
     "name": "stdout",
     "output_type": "stream",
     "text": [
      "You are eligible to enter the event (must be 18+ and have an ID card).\n",
      "You can get a discount (either you are a student or your income is low).\n",
      "You are not a student.\n",
      "You are eligible for the student or regular program.\n"
     ]
    }
   ],
   "source": [
    "# Define some variables to demonstrate logical operators\n",
    "age = 25\n",
    "is_student = False\n",
    "has_id_card = True\n",
    "income = 30000\n",
    "\n",
    "# Using 'and' operator\n",
    "if age >= 18 and has_id_card:\n",
    "    print(\"You are eligible to enter the event (must be 18+ and have an ID card).\")\n",
    "else:\n",
    "    print(\"You are not eligible to enter the event.\")\n",
    "\n",
    "# Using 'or' operator\n",
    "if is_student or income < 50000:\n",
    "    print(\"You can get a discount (either you are a student or your income is low).\")\n",
    "else:\n",
    "    print(\"You are not eligible for a discount.\")\n",
    "\n",
    "# Using 'not' operator\n",
    "if not is_student:\n",
    "    print(\"You are not a student.\")\n",
    "else:\n",
    "    print(\"You are a student.\")\n",
    "\n",
    "# Combining multiple logical operators\n",
    "if (age >= 18 and has_id_card) or is_student:\n",
    "    print(\"You are eligible for the student or regular program.\")\n",
    "else:\n",
    "    print(\"You are not eligible for the program.\")"
   ]
  },
  {
   "cell_type": "markdown",
   "id": "b939aa57-2c8f-4741-a5a0-cbdb4c5e5b61",
   "metadata": {},
   "source": [
    "9. Write a Python program to convert user input from string to integer, float, and boolean types"
   ]
  },
  {
   "cell_type": "code",
   "execution_count": 17,
   "id": "eeaf0fce-06b8-4653-ae29-5bd051a192ef",
   "metadata": {},
   "outputs": [
    {
     "name": "stdin",
     "output_type": "stream",
     "text": [
      "Enter a value:  11\n"
     ]
    },
    {
     "name": "stdout",
     "output_type": "stream",
     "text": [
      "Converted to Integer: 11\n",
      "Converted to Float: 11.0\n",
      "Converted to Boolean: True\n"
     ]
    }
   ],
   "source": [
    "# Get user input as a string\n",
    "user_input = input(\"Enter a value: \")\n",
    "\n",
    "# Convert to Integer\n",
    "try:\n",
    "    int_value = int(user_input)\n",
    "    print(f\"Converted to Integer: {int_value}\")\n",
    "except ValueError:\n",
    "    print(\"Error: The input cannot be converted to an integer.\")\n",
    "\n",
    "# Convert to Float\n",
    "try:\n",
    "    float_value = float(user_input)\n",
    "    print(f\"Converted to Float: {float_value}\")\n",
    "except ValueError:\n",
    "    print(\"Error: The input cannot be converted to a float.\")\n",
    "\n",
    "# Convert to Boolean\n",
    "# Empty string is False, anything else is True\n",
    "boolean_value = bool(user_input)\n",
    "print(f\"Converted to Boolean: {boolean_value}\")\n"
   ]
  },
  {
   "cell_type": "markdown",
   "id": "6f68620c-77a8-42d9-adb5-04276e73b985",
   "metadata": {},
   "source": [
    "10. Write code to demonstrate type casting with list elements"
   ]
  },
  {
   "cell_type": "code",
   "execution_count": 18,
   "id": "d993eae4-1b6c-402a-a80e-98f36597258b",
   "metadata": {},
   "outputs": [
    {
     "name": "stdout",
     "output_type": "stream",
     "text": [
      "Original List:\n",
      "['10', '20.5', '30', '40.75', 'True', 'False']\n",
      "\n",
      "List with Integer Type Casting:\n",
      "[10, 20, 30, 40, 0, 0]\n",
      "\n",
      "List with Float Type Casting:\n",
      "[10.0, 20.5, 30.0, 40.75, 0.0, 0.0]\n",
      "\n",
      "List with Boolean Type Casting:\n",
      "[True, True, True, True, True, True]\n",
      "\n",
      "List with String Type Casting:\n",
      "['10', '20.5', '30', '40.75', 'True', 'False']\n"
     ]
    }
   ],
   "source": [
    "# List of mixed data types (strings and floats)\n",
    "mixed_list = [\"10\", \"20.5\", \"30\", \"40.75\", \"True\", \"False\"]\n",
    "\n",
    "print(\"Original List:\")\n",
    "print(mixed_list)\n",
    "\n",
    "# Type Casting: Converting all elements in the list to integers\n",
    "int_list = [int(float(item)) if item.replace('.', '', 1).isdigit() else 0 for item in mixed_list]\n",
    "print(\"\\nList with Integer Type Casting:\")\n",
    "print(int_list)\n",
    "\n",
    "# Type Casting: Converting all elements to floats\n",
    "float_list = [float(item) if item.replace('.', '', 1).isdigit() else 0.0 for item in mixed_list]\n",
    "print(\"\\nList with Float Type Casting:\")\n",
    "print(float_list)\n",
    "\n",
    "# Type Casting: Converting all elements to booleans\n",
    "bool_list = [bool(item) for item in mixed_list]\n",
    "print(\"\\nList with Boolean Type Casting:\")\n",
    "print(bool_list)\n",
    "\n",
    "# Type Casting: Converting all elements to strings\n",
    "str_list = [str(item) for item in mixed_list]\n",
    "print(\"\\nList with String Type Casting:\")\n",
    "print(str_list)"
   ]
  },
  {
   "cell_type": "markdown",
   "id": "5a0dfcfa-feb7-40fe-b00c-a3a27e23dd93",
   "metadata": {},
   "source": [
    "11. Write a program that checks if a number is positive, negative, or zero"
   ]
  },
  {
   "cell_type": "code",
   "execution_count": 22,
   "id": "12e2ac9f-1949-49d3-a362-0e39b69c4125",
   "metadata": {},
   "outputs": [
    {
     "name": "stdin",
     "output_type": "stream",
     "text": [
      "Enter a number:  -1\n"
     ]
    },
    {
     "name": "stdout",
     "output_type": "stream",
     "text": [
      "The number -1.0 is negative.\n"
     ]
    }
   ],
   "source": [
    "# Get user input\n",
    "number = float(input(\"Enter a number: \"))\n",
    "\n",
    "# Check if the number is positive, negative, or zero\n",
    "if number > 0:\n",
    "    print(f\"The number {number} is positive.\")\n",
    "elif number < 0:\n",
    "    print(f\"The number {number} is negative.\")\n",
    "else:\n",
    "    print(f\"The number {number} is zero.\")"
   ]
  },
  {
   "cell_type": "markdown",
   "id": "365e504e-26c6-4833-9049-df58caea4c1f",
   "metadata": {},
   "source": [
    "12. Write a for loop to print numbers from 1 to 10"
   ]
  },
  {
   "cell_type": "code",
   "execution_count": 26,
   "id": "368095aa-435d-46af-a7c2-0aada5fdbdb0",
   "metadata": {},
   "outputs": [
    {
     "name": "stdout",
     "output_type": "stream",
     "text": [
      "1\n",
      "2\n",
      "3\n",
      "4\n",
      "5\n",
      "6\n",
      "7\n",
      "8\n",
      "9\n",
      "10\n"
     ]
    }
   ],
   "source": [
    "# Using a for loop to print numbers from 1 to 10\n",
    "for i in range(1, 11):\n",
    "    print(i)"
   ]
  },
  {
   "cell_type": "markdown",
   "id": "8fbf17b4-2f98-45a9-b60c-6a5954fe40e0",
   "metadata": {},
   "source": [
    "13. Write a Python program to find the sum of all even numbers between 1 and 50 "
   ]
  },
  {
   "cell_type": "code",
   "execution_count": 27,
   "id": "cd7ae05e-292b-4a56-943f-b3ec9e0a2912",
   "metadata": {},
   "outputs": [
    {
     "name": "stdout",
     "output_type": "stream",
     "text": [
      "Sum of all even numbers between 1 and 50 is: 650\n"
     ]
    }
   ],
   "source": [
    "# Initialize the sum to 0\n",
    "sum_even_numbers = 0\n",
    "\n",
    "# Loop through numbers from 1 to 50\n",
    "for num in range(1, 51):\n",
    "    # Check if the number is even\n",
    "    if num % 2 == 0:\n",
    "        sum_even_numbers += num  # Add the even number to the sum\n",
    "\n",
    "# Print the result\n",
    "print(\"Sum of all even numbers between 1 and 50 is:\", sum_even_numbers)"
   ]
  },
  {
   "cell_type": "markdown",
   "id": "3817bd27-d01e-46a4-a22b-6e5f2567bbdc",
   "metadata": {},
   "source": [
    "14. Write a program to reverse a string using a while loop"
   ]
  },
  {
   "cell_type": "code",
   "execution_count": 30,
   "id": "0cffb0fb-6371-49bc-873d-cdaf02ca927b",
   "metadata": {},
   "outputs": [
    {
     "name": "stdin",
     "output_type": "stream",
     "text": [
      "Enter a string: PRABHASH\n"
     ]
    },
    {
     "name": "stdout",
     "output_type": "stream",
     "text": [
      "Reversed string: HSAHBARP\n"
     ]
    }
   ],
   "source": [
    "# Take user input for the string\n",
    "input_string = input(\"Enter a string:\")\n",
    "\n",
    "# Initialize an empty string to store the reversed string\n",
    "reversed_string = \"\"\n",
    "\n",
    "# Set a variable to keep track of the index (starting from the last character)\n",
    "index = len(input_string) - 1\n",
    "\n",
    "# Use a while loop to reverse the string\n",
    "while index >= 0:\n",
    "    reversed_string += input_string[index]  # Add the current character to the reversed string\n",
    "    index -= 1  # Move to the previous character\n",
    "\n",
    "# Print the reversed string\n",
    "print(\"Reversed string:\", reversed_string)\n"
   ]
  },
  {
   "cell_type": "markdown",
   "id": "0ed317f8-603d-43e3-b7b0-3375b787899d",
   "metadata": {},
   "source": [
    "15. Write a Python program to calculate the factorial of a number provided by the user using a while loop."
   ]
  },
  {
   "cell_type": "code",
   "execution_count": 31,
   "id": "893b970d-7c4b-4dc0-9557-9445fdb25814",
   "metadata": {},
   "outputs": [
    {
     "name": "stdin",
     "output_type": "stream",
     "text": [
      "Enter a number:  4\n"
     ]
    },
    {
     "name": "stdout",
     "output_type": "stream",
     "text": [
      "The factorial is: 24\n"
     ]
    }
   ],
   "source": [
    "# Take user input for the number\n",
    "num = int(input(\"Enter a number: \"))\n",
    "\n",
    "# Initialize factorial result to 1 (since factorial of 0 or 1 is 1)\n",
    "factorial = 1\n",
    "\n",
    "# Check if the number is negative, as factorial is not defined for negative numbers\n",
    "if num < 0:\n",
    "    print(\"Factorial does not exist for negative numbers.\")\n",
    "else:\n",
    "    # Calculate factorial using a while loop\n",
    "    while num > 1:\n",
    "        factorial *= num  # Multiply the current factorial by the current number\n",
    "        num -= 1  # Decrement the number\n",
    "    \n",
    "    # Print the result\n",
    "    print(\"The factorial is:\", factorial)\n"
   ]
  },
  {
   "cell_type": "code",
   "execution_count": 32,
   "id": "77675f96-f295-4e52-808b-3fd204aeec7f",
   "metadata": {},
   "outputs": [],
   "source": [
    "#THE END\n"
   ]
  }
 ],
 "metadata": {
  "kernelspec": {
   "display_name": "Python 3 (ipykernel)",
   "language": "python",
   "name": "python3"
  },
  "language_info": {
   "codemirror_mode": {
    "name": "ipython",
    "version": 3
   },
   "file_extension": ".py",
   "mimetype": "text/x-python",
   "name": "python",
   "nbconvert_exporter": "python",
   "pygments_lexer": "ipython3",
   "version": "3.12.7"
  }
 },
 "nbformat": 4,
 "nbformat_minor": 5
}
