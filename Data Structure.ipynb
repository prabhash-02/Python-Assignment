{
 "cells": [
  {
   "cell_type": "markdown",
   "id": "c21d98ec-4cfa-4b2a-9820-831af559c94c",
   "metadata": {},
   "source": [
    "# Theoretical Questions"
   ]
  },
  {
   "cell_type": "markdown",
   "id": "de1b2555-67e6-4eaf-bce9-5139d5928f31",
   "metadata": {},
   "source": [
    "1. What are data structures, and why are they important"
   ]
  },
  {
   "cell_type": "markdown",
   "id": "e4ca85d9-4e03-4c90-ab21-408b92133219",
   "metadata": {},
   "source": [
    "Data structures are a fundamental concept in computer science that refer to the way data is organized, stored, and manipulated in a computer. They provide a way to efficiently store and retrieve data, making it possible to perform various operations on the data.\n",
    "\n",
    "Why are data structures important?\n",
    "1. Efficient Data Storage: Data structures help store data in a way that minimizes storage requirements and optimizes data retrieval.\n",
    "2. Fast Data Retrieval: Data structures enable fast data retrieval by providing a systematic way to locate and access specific data elements.\n",
    "3. Scalability: Data structures can handle large amounts of data and scale to meet the needs of growing applications.\n",
    "4. Improved Code Quality: Using data structures can simplify code, reduce errors, and improve code readability.\n",
    "5. Problem-Solving: Data structures provide a way to model real-world problems and solve them efficiently.\n",
    "Common Types of Data Structures\n",
    "6. Arrays: A collection of elements of the same data type stored in contiguous memory locations.\n",
    "7. Linked Lists: A dynamic collection of elements, where each element points to the next element.\n",
    "8. Stacks: A Last-In-First-Out (LIFO) data structure that follows the principle of last element inserted is the first one to be removed.\n",
    "9. Queues: A First-In-First-Out (FIFO) data structure that follows the principle of first element inserted is the first one to be removed.\n",
    "10. Trees: A hierarchical data structure composed of nodes, where each node has a value and zero or more child nodes.\n",
    "11. Graphs: A non-linear data structure consisting of nodes or vertices connected by edges.\n",
    "12. Hash Tables: A data structure that maps keys to values using a hash function.\n",
    "Real-World Applications of Data Structures\n",
    "13. Database Management: Data structures are used to store and retrieve data in databases.\n",
    "14. File Systems: Data structures are used to manage files and directories on a computer.\n",
    "15. Web Search Engines: Data structures are used to index and retrieve web pages.\n",
    "16. Social Media Platforms: Data structures are used to store and retrieve user data, such as friends, followers, and posts.\n",
    "17. Gaming: Data structures are used to store game state, such as player positions, scores, and game objects\n"
   ]
  },
  {
   "cell_type": "markdown",
   "id": "b24077e8-481b-4808-8600-9a7f707b9a2b",
   "metadata": {},
   "source": [
    "2. Explain the difference between mutable and immutable data types with examples."
   ]
  },
  {
   "cell_type": "code",
   "execution_count": 4,
   "id": "a310fc18-fdd5-4fde-8a18-fff66e0ec890",
   "metadata": {},
   "outputs": [
    {
     "name": "stdout",
     "output_type": "stream",
     "text": [
      "[1, 2, 3, 4]\n",
      "[1, 2, 2.5, 4]\n",
      "{'name': 'John', 'age': 30}\n",
      "{'name': 'John', 'age': 31}\n",
      "5\n",
      "6\n",
      "hello\n",
      "hello world\n",
      "(1, 2, 3)\n",
      "Tuples are immutable!\n"
     ]
    }
   ],
   "source": [
    "'''\n",
    "In programming, data types can be classified into two main categories: mutable and immutable.\n",
    "\n",
    "#Mutable Data Types\n",
    "\n",
    "Mutable data types are those that can be modified or changed after they are created. In other words, their state can be altered.\n",
    "\n",
    "Examples of mutable data types:\n",
    "\n",
    "1. Lists: Lists are ordered collections of items that can be modified.\n",
    "2. Dictionaries: Dictionaries are unordered collections of key-value pairs that can be modified.\n",
    "3. Sets: Sets are unordered collections of unique items that can be modified.\n",
    "\n",
    "Example code:\n",
    "'''\n",
    "#Create a mutable list\n",
    "my_list = [1, 2, 3, 4]\n",
    "print(my_list)  \n",
    "\n",
    "#Modify the list\n",
    "my_list[2] = 2.5\n",
    "print(my_list) \n",
    "\n",
    "#Create a mutable dictionary\n",
    "my_dict = {\"name\": \"John\", \"age\": 30}\n",
    "print(my_dict)  \n",
    "\n",
    "#Modify the dictionary\n",
    "my_dict[\"age\"] = 31\n",
    "print(my_dict)  \n",
    "\n",
    "'''\n",
    "Immutable Data Types\n",
    "\n",
    "Immutable data types are those that cannot be modified or changed after they are created. In other words, their state cannot be altered.\n",
    "\n",
    "#Examples of immutable data types:\n",
    "\n",
    "1. Integers: Integers are whole numbers that cannot be modified.\n",
    "2. Floats: Floats are decimal numbers that cannot be modified.\n",
    "3. Strings: Strings are sequences of characters that cannot be modified.\n",
    "4. Tuples: Tuples are ordered, immutable collections of items.\n",
    "\n",
    "Example code:\n",
    "'''\n",
    "#Create an immutable integer\n",
    "my_int = 5\n",
    "print(my_int) \n",
    "\n",
    "#Try to modify the integer (this will create a new integer)\n",
    "my_int = 6\n",
    "print(my_int) \n",
    "\n",
    "#Create an immutable string\n",
    "my_str = \"hello\"\n",
    "print(my_str)  \n",
    "\n",
    "#Try to modify the string (this will create a new string)\n",
    "my_str = \"hello world\"\n",
    "print(my_str)  \n",
    "\n",
    "#Create an immutable tuple\n",
    "my_tuple = (1, 2, 3)\n",
    "print(my_tuple)  \n",
    "\n",
    "#Try to modify the tuple (this will raise an error)\n",
    "try:\n",
    "    my_tuple[0] = 4\n",
    "except TypeError:\n",
    "    print(\"Tuples are immutable!\")\n",
    "\n"
   ]
  },
  {
   "cell_type": "markdown",
   "id": "8113e74e-9930-4b44-b78e-63d1cdcfc081",
   "metadata": {},
   "source": [
    "3. What are the main differences between lists and tuples in Python"
   ]
  },
  {
   "cell_type": "markdown",
   "id": "0a143186-5a2f-4b9b-b7ab-8b7009f76726",
   "metadata": {},
   "source": [
    "In Python, lists and tuples are two types of data structures that can store multiple values. While they share some similarities, there are key differences between them:\n",
    "\n",
    "#Immutability\n",
    "\n",
    "- Tuples: Tuples are immutable, meaning their contents cannot be modified after creation.\n",
    "- Lists: Lists are mutable, meaning their contents can be modified after creation.\n",
    "\n",
    "#Syntax\n",
    "\n",
    "- Tuples: Tuples are defined using parentheses () and elements are separated by commas.\n",
    "- Lists: Lists are defined using square brackets [] and elements are separated by commas.\n",
    "\n",
    "#Performance\n",
    "\n",
    "- Tuples: Tuples are faster and more memory-efficient than lists because they are immutable.\n",
    "- Lists: Lists are slower and less memory-efficient than tuples because they are mutable.\n",
    "\n",
    "#Use Cases\n",
    "\n",
    "- Tuples: Tuples are suitable for storing data that should not be changed, such as a record of student grades or a collection of constants.\n",
    "- Lists: Lists are suitable for storing data that needs to be modified, such as a to-do list or a collection of user input.\n",
    "\n",
    "#Methods and Operations\n",
    "\n",
    "- Tuples: Tuples support only a few methods, such as index() and count().\n",
    "- Lists: Lists support many methods, such as append(), insert(), remove(), and sort().\n",
    "\n",
    "Here's an example code snippet that demonstrates the differences between lists and tuples:"
   ]
  },
  {
   "cell_type": "markdown",
   "id": "babb36e6-8096-48e6-b707-049f142afd60",
   "metadata": {},
   "source": [
    "4. Describe how dictionaries store data"
   ]
  },
  {
   "cell_type": "markdown",
   "id": "a00b968a-cc0b-4377-93f1-8cdbc971f16b",
   "metadata": {},
   "source": [
    "In Python, dictionaries (also known as associative arrays or hash tables) store data as a collection of key-value pairs. Here's a breakdown of how dictionaries store data:\n",
    "\n",
    "Keys\n",
    "- Keys are unique strings or immutable objects that identify a specific value in the dictionary.\n",
    "- Keys are used to access and modify the corresponding values.\n",
    "Values\n",
    "- Values are the data associated with each key.\n",
    "- Values can be any type of object, including strings, integers, floats, lists, dictionaries, and more.\n",
    "Key-Value Pairs\n",
    "- Each key-value pair is stored as an entry in the dictionary.\n",
    "- The key is used to hash the entry, allowing for efficient lookup and retrieval of the associated value.\n",
    "Hash Table\n",
    "- Dictionaries use a hash table to store the key-value pairs.\n",
    "- The hash table maps each key to a specific index, allowing for fast lookup and retrieval of the associated value.\n",
    "Collision Resolution\n",
    "- When two keys hash to the same index, a collision occurs.\n",
    "- Python dictionaries use a technique called open addressing to resolve collisions, where the colliding key-value pair is stored in a nearby slot.\n",
    "\n",
    "Here's an example of how a dictionary might store data:\n",
    "\n",
    "my_dict = {\"name\": \"John\", \"age\": 30, \"city\": \"New York\"}\n",
    "\n",
    "In this example, the dictionary my_dict stores three key-value pairs:\n",
    "\n",
    "- Key \"name\" maps to value \"John\"\n",
    "- Key \"age\" maps to value 30\n",
    "- Key \"city\" maps to value \"New York\"\n",
    "\n",
    "When you access a value in the dictionary using its key, Python uses the hash table to quickly locate the corresponding value.\n"
   ]
  },
  {
   "cell_type": "markdown",
   "id": "3ee484a4-d6c2-45de-8c85-b905019f9be1",
   "metadata": {},
   "source": [
    "5. Why might you use a set instead of a list in Python?"
   ]
  },
  {
   "cell_type": "code",
   "execution_count": 10,
   "id": "6ea2e34e-e827-4b21-bfbd-08cd7ba19b8f",
   "metadata": {},
   "outputs": [
    {
     "name": "stdout",
     "output_type": "stream",
     "text": [
      "{1, 2, 3, 4, 5}\n",
      "True\n",
      "False\n",
      "{1, 2, 3, 4, 5, 6, 7}\n"
     ]
    }
   ],
   "source": [
    "''' In Python, you might prefer to use a set instead of a list in the following situations:\n",
    "\n",
    "Uniqueness of Elements\n",
    "\n",
    "- Sets automatically eliminate duplicate elements, whereas lists allow duplicates.\n",
    "- Use a set when you need to ensure that all elements are unique.\n",
    "\n",
    "Fast Membership Testing\n",
    "\n",
    "- Sets provide fast membership testing using the in operator, with an average time complexity of O(1).\n",
    "- Lists, on the other hand, have a time complexity of O(n) for membership testing.\n",
    "- Use a set when you frequently need to check if an element is present in the collection.\n",
    "\n",
    "Efficient Union, Intersection, and Difference Operations\n",
    "\n",
    "- Sets provide efficient union, intersection, and difference operations using the union, intersection, and difference methods.\n",
    "- Lists do not have built-in support for these operations.\n",
    "- Use a set when you need to perform these operations on your data.\n",
    "\n",
    "Example Use Case\n",
    "\n",
    "Here's an example where using a set is more suitable than using a list:\n",
    "'''\n",
    "\n",
    "\n",
    "# Create a list of numbers with duplicates\n",
    "numbers_list = [1, 2, 2, 3, 4, 4, 5]\n",
    "\n",
    "# Convert the list to a set to eliminate duplicates\n",
    "numbers_set = set(numbers_list)\n",
    "print(numbers_set)  \n",
    "\n",
    "# Perform fast membership testing\n",
    "print(3 in numbers_set)  \n",
    "print(6 in numbers_set)  \n",
    "\n",
    "# Perform efficient union operation\n",
    "other_numbers_set = {4, 5, 6, 7}\n",
    "union_set = numbers_set.union(other_numbers_set)\n",
    "print(union_set)  \n"
   ]
  },
  {
   "cell_type": "markdown",
   "id": "a003719f-6409-41f6-a2a5-02850ef38d8f",
   "metadata": {},
   "source": [
    "6. What is a string in Python, and how is it different from a list"
   ]
  },
  {
   "cell_type": "markdown",
   "id": "093220cf-54ff-402c-b8c4-ae673dbaf6ac",
   "metadata": {},
   "source": [
    "In Python, a string is a sequence of characters, such as letters, numbers, or symbols. Strings are immutable, meaning their contents cannot be modified after creation.\n",
    "\n",
    "Here are some key characteristics of strings in Python:\n",
    "\n",
    "- Immutable: Strings cannot be changed after creation.\n",
    "- Ordered: Strings have a specific order of characters.\n",
    "- Indexable: Characters in a string can be accessed using their index (position).\n",
    "- Slicable: Strings can be sliced to extract a subset of characters.\n",
    "\n",
    "On the other hand, a list in Python is a mutable, ordered collection of items that can be of any data type, including strings, integers, floats, and other lists.\n",
    "\n",
    "Here are some key differences between strings and lists:\n",
    "\n",
    "- Immutability: Strings are immutable, while lists are mutable.\n",
    "- Data Type: Strings are a sequence of characters, while lists are a collection of items of any data type.\n",
    "- Indexing: Both strings and lists support indexing, but strings are limited to character indexing, while lists support indexing of any data type.\n",
    "- Slicing: Both strings and lists support slicing, but strings are limited to slicing characters, while lists support slicing of any data type.\n"
   ]
  },
  {
   "cell_type": "markdown",
   "id": "c34732f5-24b0-45dc-b4d7-7f10a34c03a4",
   "metadata": {},
   "source": [
    "7.  How do tuples ensure data integrity in Python"
   ]
  },
  {
   "cell_type": "code",
   "execution_count": 33,
   "id": "3149ae98-7a1a-4739-b740-46f3b3a3c0ff",
   "metadata": {},
   "outputs": [
    {
     "name": "stdout",
     "output_type": "stream",
     "text": [
      "Tuples are immutable!\n",
      "[90, 85, 95]\n"
     ]
    }
   ],
   "source": [
    "''' Tuples in Python are immutable data structures that can ensure data integrity in several ways:\n",
    "\n",
    "Immutable by Design\n",
    "Tuples are designed to be immutable, meaning their contents cannot be modified after creation. This ensures that once a tuple is created, its data remains consistent and unchanged.\n",
    "\n",
    "Protection from Accidental Modification\n",
    "Since tuples are immutable, they protect against accidental modification of data. This prevents unintended changes to critical data, reducing the risk of errors and bugs.\n",
    "\n",
    "Thread Safety\n",
    "Tuples are thread-safe, meaning they can be safely accessed and shared across multiple threads without fear of data corruption or modification.\n",
    "\n",
    "Hashable\n",
    "Tuples are hashable, meaning they can be used as keys in dictionaries. This ensures that tuples can be reliably used to identify and store data.\n",
    "\n",
    "Data Validation\n",
    "Tuples can be used to enforce data validation by ensuring that data conforms to a specific structure or format.\n",
    "\n",
    "Example Use Case\n",
    "Here's an example of using tuples to ensure data integrity in Python:\n",
    "'''\n",
    "# Create a tuple to represent a student's record\n",
    "student_record = (\"John Doe\", 20, \"Computer Science\")\n",
    "\n",
    "# Try to modify the tuple (this will raise an error)\n",
    "try:\n",
    "    student_record[0] = \"Jane Doe\"\n",
    "except TypeError:\n",
    "    print(\"Tuples are immutable!\")\n",
    "\n",
    "# Use the tuple as a key in a dictionary\n",
    "student_grades = {student_record: [90, 85, 95]}\n",
    "\n",
    "# Access the student's grades using the tuple key\n",
    "print(student_grades[student_record]) \n",
    "\n",
    "#In this example, the student_record tuple ensures data integrity by preventing accidental modification of the student's record. The tuple is also used as a key in a dictionary to store the student's grades, demonstrating its hashable nature."
   ]
  },
  {
   "cell_type": "markdown",
   "id": "9d00be1b-a74b-4ca7-8c4c-59ed20f710db",
   "metadata": {},
   "source": [
    "8. What is a hash table, and how does it relate to dictionaries in Python"
   ]
  },
  {
   "cell_type": "markdown",
   "id": "62fc86c6-09a1-4419-9738-904f0ca3719f",
   "metadata": {},
   "source": [
    "A hash table, also known as a hash map, is a data structure that stores key-value pairs in an array using a hash function to map keys to indices of the array.\n",
    "\n",
    "Here's how it works:\n",
    "\n",
    "1. Key: You provide a key, which is a unique identifier for the data you want to store.\n",
    "2. Hash Function: The key is passed through a hash function, which generates a hash code, an integer that represents the key.\n",
    "3. Index: The hash code is used to determine the index at which the corresponding value should be stored in the array.\n",
    "4. Value: The value associated with the key is stored at the calculated index in the array.\n",
    "\n",
    "Hash tables have several benefits, including:\n",
    "\n",
    "- Fast lookups: Hash tables allow for fast lookups, with an average time complexity of O(1).\n",
    "- Efficient storage: Hash tables can store a large number of key-value pairs in a relatively small amount of memory.\n",
    "\n",
    "Now, let's talk about dictionaries in Python. In Python, dictionaries are implemented as hash tables. When you create a dictionary, Python creates a hash table in the background to store the key-value pairs.\n",
    "\n",
    "Here's an example:\n",
    "\n",
    "my_dict = {\"name\": \"John\", \"age\": 30}\n",
    "\n",
    "In this example, the dictionary my_dict is implemented as a hash table. The keys \"name\" and \"age\" are hashed using a hash function, and the corresponding values \"John\" and 30 are stored at the calculated indices in the array.\n",
    "\n",
    "Dictionaries in Python provide many benefits, including:\n",
    "\n",
    "- Fast lookups: Dictionaries allow for fast lookups, with an average time complexity of O(1).\n",
    "- Flexible data structure: Dictionaries can store a wide range of data types, including strings, integers, floats, and other dictionaries.\n",
    "\n",
    "In summary, hash tables are a fundamental data structure that provides fast lookups and efficient storage. In Python, dictionaries are implemented as hash tables, providing a flexible and efficient way to store and retrieve data."
   ]
  },
  {
   "cell_type": "markdown",
   "id": "0ce882fb-15a6-4f6c-9a6f-d97e6c0143b6",
   "metadata": {},
   "source": [
    "9. Can lists contain different data types in Python"
   ]
  },
  {
   "cell_type": "code",
   "execution_count": 21,
   "id": "0dde8f7e-775e-4008-9765-0f638255334f",
   "metadata": {},
   "outputs": [
    {
     "name": "stdout",
     "output_type": "stream",
     "text": [
      "[1, 'hello', 3.14, True, [1, 2, 3], ('a', 'b'), {'name': 'John'}]\n",
      "1\n",
      "hello\n",
      "3\n"
     ]
    }
   ],
   "source": [
    "''' Yes, lists in Python can contain different data types. This is one of the key features of Python lists. You can store a mix of data types, such as:\n",
    "\n",
    "- Integers\n",
    "- Floats\n",
    "- Strings\n",
    "- Boolean values\n",
    "- Lists (nested lists)\n",
    "- Tuples\n",
    "- Dictionaries\n",
    "- Objects\n",
    "\n",
    "Here's an example of a list containing different data types:\n",
    "'''\n",
    "my_list = [1, \"hello\", 3.14, True, [1, 2, 3], (\"a\", \"b\"), {\"name\": \"John\"}]\n",
    "print(my_list)\n",
    "\n",
    "#As you can see, the list contains a mix of integers, strings, floats, boolean values, lists, tuples, and dictionaries.\n",
    "\n",
    "#You can also access and manipulate the elements of the list using their index, regardless of their data type. For example:\n",
    "\n",
    "\n",
    "print(my_list[0])  \n",
    "print(my_list[1])  \n",
    "print(my_list[4][2])  \n"
   ]
  },
  {
   "cell_type": "markdown",
   "id": "e70abeda-c754-487b-8943-e997dbaddb22",
   "metadata": {},
   "source": [
    "10. Explain why strings are immutable in Python"
   ]
  },
  {
   "cell_type": "markdown",
   "id": "831bdbd0-08d7-435b-95d3-c5b26faaac01",
   "metadata": {},
   "source": [
    "Here are the key reasons why strings are immutable in Python:\n",
    "\n",
    "1. Security: Immutable strings prevent unintended changes to sensitive data, reducing the risk of security vulnerabilities.\n",
    "2. Thread Safety: Immutable strings are thread-safe, meaning multiple threads can access the same string without fear of one thread modifying it and affecting the others.\n",
    "3. Hashing: Immutable strings can be safely used as keys in dictionaries because their hash value remains constant. If strings were mutable, their hash value could change, leading to incorrect dictionary lookups.\n",
    "4. Performance: Immutable strings allow for efficient memory management. When a string is created, Python can allocate a fixed block of memory for it. If strings were mutable, Python would need to dynamically allocate and reallocate memory as the string changes, leading to performance overhead.\n",
    "5. Code Predictability: Immutable strings make code more predictable and easier to reason about. When a string is passed to a function, you can be sure that the function won't modify the original string.\n",
    "6. Interning: Python uses a technique called interning to store multiple copies of the same string in memory. This means that if you create multiple strings with the same value, Python will store only one copy of the string in memory, and all variables will reference that same copy. Immutable strings make interning possible.\n",
    "7. String Operations: Immutable strings make it easier to implement string operations like concatenation, slicing, and substring searching. These operations can be implemented more efficiently and safely when the underlying string is immutable."
   ]
  },
  {
   "cell_type": "markdown",
   "id": "41ac39b1-f5ba-4e09-8093-73cf01bada57",
   "metadata": {},
   "source": [
    "11. What advantages do dictionaries offer over lists for certain tasks"
   ]
  },
  {
   "cell_type": "code",
   "execution_count": 23,
   "id": "4c97272d-fb4c-457e-88e3-d98a1bacd3d8",
   "metadata": {},
   "outputs": [
    {
     "name": "stdout",
     "output_type": "stream",
     "text": [
      "85\n",
      "88\n"
     ]
    }
   ],
   "source": [
    "''' Dictionaries offer several advantages over lists for certain tasks:\n",
    "\n",
    "1. Fast lookups: Dictionaries allow for fast lookups, with an average time complexity of O(1), making them ideal for tasks that require frequent lookups.\n",
    "2. Efficient data storage: Dictionaries can store a large amount of data in a compact form, making them suitable for tasks that require storing and retrieving large amounts of data.\n",
    "3. Flexible data structure: Dictionaries can store a variety of data types, including strings, integers, floats, and other dictionaries.\n",
    "4. Easy data manipulation: Dictionaries provide several methods for manipulating data, such as adding, removing, and updating key-value pairs.\n",
    "5. Improved code readability: Dictionaries can make code more readable by providing a clear and concise way to store and retrieve data.\n",
    "\n",
    "Some specific tasks where dictionaries are more suitable than lists include:\n",
    "\n",
    "1. Caching: Dictionaries can be used to implement caches, where data is stored and retrieved using a unique key.\n",
    "2. Configuration files: Dictionaries can be used to store configuration data, where each key-value pair represents a configuration option.\n",
    "3. Data validation: Dictionaries can be used to validate data, where each key-value pair represents a validation rule.\n",
    "4. Graph algorithms: Dictionaries can be used to represent graphs, where each key-value pair represents a node and its neighbors.\n",
    "\n",
    "Here's an example of using a dictionary to store student grades:\n",
    "'''\n",
    "student_grades = {\"John\": 85, \"Jane\": 90, \"Bob\": 78}\n",
    "\n",
    "print(student_grades[\"John\"])  \n",
    "student_grades[\"John\"] = 88\n",
    "print(student_grades[\"John\"])  \n",
    "\n",
    "#In this example, the dictionary student_grades stores the grades of each student, where each key is the student's name and each value is the grade. The dictionary provides fast lookups and easy data manipulation, making it an ideal data structure for this task."
   ]
  },
  {
   "cell_type": "markdown",
   "id": "769c8d9f-9e9e-4fbf-8b8e-1134d0b88d98",
   "metadata": {},
   "source": [
    "12. Describe a scenario where using a tuple would be preferable over a list."
   ]
  },
  {
   "cell_type": "code",
   "execution_count": 25,
   "id": "32009ec7-5919-41b7-a301-4cf3568cc2aa",
   "metadata": {},
   "outputs": [
    {
     "name": "stdout",
     "output_type": "stream",
     "text": [
      "Monjolika\n",
      "20\n",
      "Bhoot\n",
      "Tuples are immutable!\n"
     ]
    }
   ],
   "source": [
    "''' Here's a scenario where using a tuple would be preferable over a list:\n",
    "\n",
    "Scenario: Representing a Record with Immutable Data\n",
    "\n",
    "Suppose you're working on a program that deals with student records. Each record consists of a student's name, age, and grade level. The data in each record is immutable, meaning it shouldn't be changed once the record is created.\n",
    "\n",
    "In this scenario, using a tuple to represent each record would be preferable over a list for several reasons:\n",
    "\n",
    "1. Immutability: Tuples are immutable, which ensures that the data in each record remains consistent and unchanged. Lists, on the other hand, are mutable, which could lead to unintended changes to the data.\n",
    "2. Performance: Tuples are generally faster and more memory-efficient than lists, especially for small amounts of data. This is because tuples are stored in a single block of memory, whereas lists are stored as a collection of pointers to individual elements.\n",
    "3. Code Readability: Using tuples to represent records makes the code more readable and self-explanatory. It clearly conveys that the data in each record is immutable and should not be changed.\n",
    "\n",
    "Here's an example of how you could use tuples to represent student records:\n",
    "'''\n",
    "# Create a tuple to represent a student record\n",
    "student_record = (\"Monjolika\", 20, \"Bhoot\")\n",
    "\n",
    "# Access the elements of the tuple\n",
    "print(student_record[0])  \n",
    "print(student_record[1])  \n",
    "print(student_record[2])  \n",
    "\n",
    "# Try to modify the tuple (this will raise an error)\n",
    "try:\n",
    "    student_record[0] = \"Jane Doe\"\n",
    "except TypeError:\n",
    "    print(\"Tuples are immutable!\")"
   ]
  },
  {
   "cell_type": "markdown",
   "id": "bdbc7d9e-b4f7-45d7-afdb-8dc4ca3b9d12",
   "metadata": {},
   "source": [
    "13. How do sets handle duplicate values in Python"
   ]
  },
  {
   "cell_type": "code",
   "execution_count": 29,
   "id": "b757ae2f-f340-4fd2-8159-8a1826d6af16",
   "metadata": {},
   "outputs": [
    {
     "name": "stdout",
     "output_type": "stream",
     "text": [
      "{1, 2, 3, 4, 5}\n"
     ]
    }
   ],
   "source": [
    "''' In Python, sets automatically eliminate duplicate values. When you add a value to a set that already exists in the set, the set remains unchanged.\n",
    "Here's a breakdown of how sets handle duplicate values:\n",
    "Uniqueness: Sets enforce uniqueness among their elements. When you create a set or add elements to it, Python automatically checks for duplicates.\n",
    "Ignoring Duplicates: If you attempt to add an element that is already present in the set, the set remains unchanged. No error is raised, but the duplicate value is not added.\n",
    "Example:\n",
    "'''\n",
    "my_set = {1, 2, 2, 3, 3, 3, 4, 5, 5, 5, 5, 5,}\n",
    "print(my_set)  \n",
    "\n",
    "#In this example, even though we tried to add the values 2 and 3 multiple times, the set only stores them once.\n",
    "\n",
    "#Sets provide an efficient way to ensure that you have a collection of unique elements. If you need to remove duplicates from a list or any other iterable, converting it to a set is a concise and effective approach."
   ]
  },
  {
   "cell_type": "markdown",
   "id": "fd7ee84c-4f40-45ed-a858-89278a02acff",
   "metadata": {},
   "source": [
    "14. How does the “in” keyword work differently for lists and dictionaries"
   ]
  },
  {
   "cell_type": "code",
   "execution_count": 30,
   "id": "254d0458-2500-49cd-881c-776aff650537",
   "metadata": {},
   "outputs": [
    {
     "name": "stdout",
     "output_type": "stream",
     "text": [
      "True\n",
      "False\n",
      "True\n",
      "False\n",
      "False\n",
      "True\n"
     ]
    }
   ],
   "source": [
    "''' The in keyword in Python works differently for lists and dictionaries:\n",
    "\n",
    "Lists:\n",
    "\n",
    "When you use the in keyword with a list, it checks if the specified value exists as an element in the list. It returns True if the value is found, and False otherwise.\n",
    "\n",
    "Here's an example:\n",
    "'''\n",
    "my_list = [1, 2, 3, 4, 5]\n",
    "print(3 in my_list)  # Output: True\n",
    "print(6 in my_list)  # Output: False\n",
    "\n",
    "''' Dictionaries:\n",
    "\n",
    "When you use the in keyword with a dictionary, it checks if the specified key exists in the dictionary. It returns True if the key is found, and False otherwise.\n",
    "\n",
    "Note that the in keyword does not check for the existence of a value in a dictionary, only the existence of a key.\n",
    "\n",
    "Here's an example:\n",
    "'''\n",
    "my_dict = {\"name\": \"John\", \"age\": 30}\n",
    "print(\"name\" in my_dict)  \n",
    "print(\"city\" in my_dict)  \n",
    "print(\"John\" in my_dict)  \n",
    "\n",
    "\n",
    "#To check if a value exists in a dictionary, you can use the .values() method, which returns a view object that displays a list of all values in the dictionary. Then, you can use the in keyword to check if the value exists in the list.\n",
    "\n",
    "#Here's an example:\n",
    "my_dict = {\"name\": \"John\", \"age\": 30}\n",
    "print(\"John\" in my_dict.values())  # Output: True\n"
   ]
  },
  {
   "cell_type": "markdown",
   "id": "3c112110-4c70-4fa9-b99c-12fa11a0c6a9",
   "metadata": {},
   "source": [
    "15. Can you modify the elements of a tuple? Explain why or why not."
   ]
  },
  {
   "cell_type": "code",
   "execution_count": 36,
   "id": "0345e595-0467-4e33-ba1e-29b72ce5b7d8",
   "metadata": {},
   "outputs": [
    {
     "name": "stdout",
     "output_type": "stream",
     "text": [
      "(1, 2, 3)\n",
      "Tuples are immutable!\n",
      "(10, 2, 3)\n"
     ]
    }
   ],
   "source": [
    "''' No, you cannot modify the elements of a tuple in Python.\n",
    "\n",
    "Tuples are immutable data structures, meaning their contents cannot be changed after creation. This is a core design principle of tuples and distinguishes them from lists, which are mutable.\n",
    "\n",
    "Here's why tuples are immutable:\n",
    "\n",
    "Data Integrity: Immutability ensures that the data within a tuple remains constant throughout its lifecycle. This is crucial in situations where you need to guarantee that data is not accidentally modified, such as when passing data to functions or using tuples as keys in dictionaries.\n",
    "Performance: Immutability can lead to performance benefits in some cases. Since the size and contents of a tuple are fixed, Python can make certain optimizations.\n",
    "Hashing: Tuples can be used as keys in dictionaries because they are immutable and therefore hashable. If tuples were mutable, their hash values could change, making them unsuitable as dictionary keys.\n",
    "If you attempt to modify a tuple, you will encounter a TypeError. '''\n",
    "\n",
    "#Example:\n",
    "\n",
    "my_tuple = (1, 2, 3)\n",
    "print(my_tuple)\n",
    "\n",
    "try:\n",
    "    my_tuple[0] = 5\n",
    "except TypeError:\n",
    "    print(\"Tuples are immutable!\")\n",
    "\n",
    "#If you need a data structure that supports modification, you should use a list instead. You can easily convert between tuples and lists using the tuple() and list() constructors.\n",
    "#Example:\n",
    "\n",
    "my_tuple = (1, 2, 3)\n",
    "my_list = list(my_tuple)  # Convert tuple to list\n",
    "my_list[0] = 10          # Modify the list\n",
    "my_tuple = tuple(my_list)  # Convert list back to tuple\n",
    "print(my_tuple)           # Output: (10, 2, 3)\n",
    "#In summary, tuples are immutable for reasons of data integrity, potential performance benefits, and their suitability as dictionary keys. If you need to modify a sequence of elements, use a list instead."
   ]
  },
  {
   "cell_type": "markdown",
   "id": "0e02f47e-12ba-4513-8722-9c295ee5f95a",
   "metadata": {},
   "source": [
    "16. What is a nested dictionary, and give an example of its use case?"
   ]
  },
  {
   "cell_type": "code",
   "execution_count": 37,
   "id": "adbde65f-2c00-479c-bcae-dfcaa89e22a5",
   "metadata": {},
   "outputs": [
    {
     "name": "stdout",
     "output_type": "stream",
     "text": [
      "85\n",
      "95\n",
      "90\n"
     ]
    }
   ],
   "source": [
    "#A nested dictionary is a dictionary that contains another dictionary as its value. This allows you to store complex, hierarchical data structures in a single dictionary.\n",
    "\n",
    "#Here's an example of a nested dictionary:\n",
    "\n",
    "\n",
    "student_grades = {\"John\": {\"Math\": 85,\"Science\": 90,\"English\": 78},\"Jane\": {\"Math\": 92,\"Science\": 88,\"English\": 95},\"Bob\": {\"Math\": 78,\"Science\": 85,\"English\": 90}}\n",
    "\n",
    "#In this example, the outer dictionary has student names as keys, and the values are dictionaries that contain the student's grades for different subjects.\n",
    "''' Use cases for nested dictionaries include:\n",
    "\n",
    "1. Student information systems: Store student information, such as grades, attendance, and contact details, in a nested dictionary.\n",
    "2. E-commerce platforms: Store product information, such as prices, descriptions, and reviews, in a nested dictionary.\n",
    "3. Configuration files: Store configuration data, such as user settings and application preferences, in a nested dictionary.\n",
    "4. Data analysis: Store data from different sources, such as surveys or experiments, in a nested dictionary for easy analysis and visualization.\n",
    "'''\n",
    "#Accessing values in a nested dictionary is straightforward:\n",
    "\n",
    "print(student_grades[\"John\"][\"Math\"])  # Output: 85\n",
    "print(student_grades[\"Jane\"][\"English\"])  # Output: 95\n",
    "\n",
    "#You can also update values in a nested dictionary:\n",
    "\n",
    "student_grades[\"John\"][\"Math\"] = 90\n",
    "print(student_grades[\"John\"][\"Math\"])  # Output: 90\n"
   ]
  },
  {
   "cell_type": "markdown",
   "id": "b243ee9b-4ed0-49ce-8a28-75148ac31053",
   "metadata": {},
   "source": [
    "17. Describe the time complexity of accessing elements in a dictionary."
   ]
  },
  {
   "cell_type": "code",
   "execution_count": 38,
   "id": "7eb829c4-28dc-489c-92ef-7f1113036a24",
   "metadata": {},
   "outputs": [
    {
     "name": "stdout",
     "output_type": "stream",
     "text": [
      "John\n",
      "30\n"
     ]
    }
   ],
   "source": [
    "''' The time complexity of accessing elements in a dictionary (also known as a hash table) is O(1), which means that the time it takes to access an element is constant and does not depend on the size of the dictionary.\n",
    "This is because dictionaries use a hash function to map keys to indices of a backing array. When you access an element in a dictionary, the hash function is used to compute the index of the element, and then the element is retrieved from the backing array.\n",
    "In the average case, the time complexity of accessing an element in a dictionary is O(1) because the hash function distributes the keys evenly across the backing array. However, in the worst-case scenario, the time complexity can be O(n), where n is the number of elements in the dictionary. This occurs when all keys hash to the same index, causing a collision.\n",
    "To mitigate collisions, dictionaries use various techniques such as:\n",
    "\n",
    "1. Hashing: Using a good hash function that distributes keys evenly across the backing array.\n",
    "2. Chaining: Storing multiple elements that hash to the same index in a linked list.\n",
    "3. Open addressing: Probing other indices in the backing array when a collision occurs.\n",
    "\n",
    "Overall, the time complexity of accessing elements in a dictionary is O(1) on average, making dictionaries an efficient data structure for fast lookups.\n",
    "\n",
    "Here's a simple example of accessing elements in a dictionary: '''\n",
    "\n",
    "my_dict = {\"name\": \"John\", \"age\": 30}\n",
    "\n",
    "print(my_dict[\"name\"])  # Output: John\n",
    "print(my_dict[\"age\"])   # Output: 30\n",
    "\n",
    "#In this example, accessing the elements in the dictionary takes constant time, regardless of the size of the dictionary."
   ]
  },
  {
   "cell_type": "markdown",
   "id": "3dd28cca-544a-4c56-a882-eaf782cf9289",
   "metadata": {},
   "source": [
    "18. In what situations are lists preferred over dictionaries"
   ]
  },
  {
   "cell_type": "markdown",
   "id": "abef2ab9-d8be-40da-9d04-ed3ed170a795",
   "metadata": {},
   "source": [
    "Lists are preferred over dictionaries in the following situations:\n",
    "\n",
    "1. Ordered data: When the order of the data matters, lists are a better choice. Dictionaries are inherently unordered (although Python 3.7+ preserves insertion order).\n",
    "2. Indexed access: When you need to access elements by their index, lists are more suitable. Dictionaries require accessing elements by their key.\n",
    "3. Sequential processing: When you need to process data sequentially, lists are a better fit. You can iterate over lists using indexes or iterators.\n",
    "4. Homogeneous data: When working with homogeneous data (i.e., data of the same type), lists are often preferred. Dictionaries are more suitable for heterogeneous data (i.e., data of different types).\n",
    "5. Insertion and deletion: When you need to frequently insert or delete elements, lists are more efficient. Dictionaries can become slow when inserting or deleting many elements.\n",
    "6. Stack or queue operations: When implementing stack or queue operations, lists are a natural choice. Dictionaries are not well-suited for these operations.\n",
    "7. Matrix or array operations: When working with matrices or arrays, lists are often used to represent the data structure. Dictionaries are not typically used for these operations.\n",
    "\n",
    "Some examples of situations where lists might be preferred over dictionaries:\n",
    "\n",
    "- Representing a collection of numbers or strings\n",
    "- Implementing a stack or queue data structure\n",
    "- Processing a sequence of data (e.g., image processing)\n",
    "- Working with matrices or arrays\n",
    "- Creating a simple database query result set\n",
    "\n",
    "In summary, lists are preferred over dictionaries when working with ordered data, indexed access, sequential processing, homogeneous data, insertion and deletion operations, stack or queue operations, or matrix/array operations."
   ]
  },
  {
   "cell_type": "markdown",
   "id": "bfbf761f-8adb-4078-a7d9-b9685eda0e3d",
   "metadata": {},
   "source": [
    "19. Why are dictionaries considered unordered, and how does that affect data retrieval?"
   ]
  },
  {
   "cell_type": "markdown",
   "id": "f40371fc-25e0-4f02-9f3e-4b219cbcec5e",
   "metadata": {},
   "source": [
    "Dictionaries are considered unordered because the order in which key-value pairs are stored is not guaranteed to be the same as the order in which they were inserted. This is because dictionaries use a hash table to store their data, which means that the order of the key-value pairs is determined by the hash function used to map keys to indices in the table.\n",
    "\n",
    "In Python versions prior to 3.7, dictionaries were truly unordered, meaning that the order of iteration over the key-value pairs was arbitrary and could change between different runs of the program.\n",
    "\n",
    "Starting from Python 3.7, dictionaries maintain their insertion order, which means that the order of iteration over the key-value pairs is the same as the order in which they were inserted. However, this does not mean that dictionaries are now ordered data structures, but rather that they maintain a consistent order of iteration.\n",
    "\n",
    "The unordered nature of dictionaries affects data retrieval in the following ways:\n",
    "\n",
    "1. Iteration order: When iterating over a dictionary, the order of the key-value pairs is not guaranteed to be the same as the order in which they were inserted.\n",
    "2. Key lookup: Looking up a key in a dictionary is a constant-time operation, regardless of the order of the key-value pairs.\n",
    "3. Value retrieval: Retrieving a value from a dictionary using its key is a constant-time operation, regardless of the order of the key-value pairs.\n",
    "\n",
    "To retrieve data from a dictionary in a specific order, you can use the following approaches:\n",
    "\n",
    "1. Sort the keys: Sort the keys of the dictionary using the sorted() function and then iterate over the sorted keys to retrieve the corresponding values.\n",
    "2. Use an OrderedDict: Use an OrderedDict from the collections module, which maintains the insertion order of the key-value pairs.\n",
    "3. Use a list of tuples: Store the data as a list of tuples, where each tuple contains a key-value pair. This allows you to maintain a specific order of the data.\n",
    "\n",
    "In summary, dictionaries are considered unordered because the order of the key-value pairs is not guaranteed to be the same as the order in which they were inserted. However, starting from Python 3.7, dictionaries maintain their insertion order, which can be useful in certain situations. To retrieve data from a dictionary in a specific order, you can use sorting, OrderedDict, or a list of tuples."
   ]
  },
  {
   "cell_type": "markdown",
   "id": "4049718d-e0c3-4709-9d81-2bb208ba1c1d",
   "metadata": {},
   "source": [
    "20. Explain the difference between a list and a dictionary in terms of data retrieval"
   ]
  },
  {
   "cell_type": "code",
   "execution_count": 39,
   "id": "23ce4742-1870-4dbc-8f80-b2e86a760463",
   "metadata": {},
   "outputs": [
    {
     "name": "stdout",
     "output_type": "stream",
     "text": [
      "85\n",
      "85\n"
     ]
    }
   ],
   "source": [
    "''' Here's a comparison of lists and dictionaries in terms of data retrieval:\n",
    "\n",
    "Lists\n",
    "\n",
    "1. Index-based retrieval: In lists, data is retrieved using its index (position) in the list.\n",
    "2. Sequential access: Lists are designed for sequential access, meaning you can iterate over the elements in the order they were inserted.\n",
    "3. Slow search: Searching for a specific element in a list can be slow, especially for large lists, since you need to iterate over the elements until you find the one you're looking for.\n",
    "\n",
    "Dictionaries\n",
    "\n",
    "1. Key-based retrieval: In dictionaries, data is retrieved using its key (a unique identifier).\n",
    "2. Fast lookup: Dictionaries provide fast lookup times, with an average time complexity of O(1), making them ideal for applications where fast data retrieval is crucial.\n",
    "3. Random access: Dictionaries allow for random access, meaning you can access any element directly using its key, without having to iterate over the other elements.\n",
    "'''\n",
    "#Example: Suppose we have a list of students and their corresponding grades:-\n",
    "\n",
    "students = [(\"John\", 85), (\"Jane\", 90), (\"Bob\", 78)]\n",
    "\n",
    "#To retrieve John's grade, we would need to iterate over the list:\n",
    "\n",
    "for student, grade in students:\n",
    "    if student == \"John\":\n",
    "        print(grade)  # Output: 85\n",
    "\n",
    "#Now, let's use a dictionary to store the same data:\n",
    "\n",
    "students = {\"John\": 85, \"Jane\": 90, \"Bob\": 78}\n",
    "\n",
    "#To retrieve John's grade, we can simply use his name as the key:\n",
    "print(students[\"John\"])  # Output: 85\n"
   ]
  },
  {
   "cell_type": "markdown",
   "id": "02670d17-b4bc-40da-8691-3af4e9f02248",
   "metadata": {},
   "source": [
    "# Practical Questions"
   ]
  },
  {
   "cell_type": "markdown",
   "id": "91b93cac-1e81-4569-ae9b-d2ad10178d07",
   "metadata": {},
   "source": [
    "1. Write a code to create a string with your name and print it"
   ]
  },
  {
   "cell_type": "code",
   "execution_count": 41,
   "id": "fcc8a7fc-7e05-4c7a-91b5-9354f7bfc121",
   "metadata": {},
   "outputs": [
    {
     "name": "stdout",
     "output_type": "stream",
     "text": [
      "Prabhash\n"
     ]
    }
   ],
   "source": [
    "# Creating a string with my name\n",
    "My_name = \"Prabhash\"\n",
    "\n",
    "# Printing the string\n",
    "print(My_name)\n"
   ]
  },
  {
   "cell_type": "markdown",
   "id": "1a0c1cb7-79c0-4bb5-b1b6-d1c41e7198ab",
   "metadata": {},
   "source": [
    "2. Write a code to find the length of the string \"Hello World\""
   ]
  },
  {
   "cell_type": "code",
   "execution_count": 44,
   "id": "0b16e44e-e338-4cfa-8e83-8cb80c4619c9",
   "metadata": {},
   "outputs": [
    {
     "name": "stdout",
     "output_type": "stream",
     "text": [
      "11\n"
     ]
    }
   ],
   "source": [
    "#String to find the length of\n",
    "my_string = \"Hello World\"\n",
    "\n",
    "length = len(my_string) #Finding the length of the string\n",
    "print(length) #Printing the length\n"
   ]
  },
  {
   "cell_type": "markdown",
   "id": "864b0f3c-1a59-4443-9cc9-b38267902c73",
   "metadata": {},
   "source": [
    "3. Write a code to slice the first 3 characters from the string \"Python Programming\""
   ]
  },
  {
   "cell_type": "code",
   "execution_count": 45,
   "id": "e8720754-6ae3-4027-b36c-30ae1c9c1f28",
   "metadata": {},
   "outputs": [
    {
     "name": "stdout",
     "output_type": "stream",
     "text": [
      "Pyt\n"
     ]
    }
   ],
   "source": [
    "#String to slice\n",
    "my_string = \"Python Programming\"\n",
    "\n",
    "sliced_string = my_string[:3] #Slicing the first 3 characters\n",
    "print(sliced_string) #Printing the sliced string\n"
   ]
  },
  {
   "cell_type": "markdown",
   "id": "f84159c1-8a84-48a5-afc9-2aa939272668",
   "metadata": {},
   "source": [
    "4. Write a code to convert the string \"hello\" to uppercase"
   ]
  },
  {
   "cell_type": "code",
   "execution_count": 46,
   "id": "9cc50c21-4225-4cc9-8760-013214c72ceb",
   "metadata": {},
   "outputs": [
    {
     "name": "stdout",
     "output_type": "stream",
     "text": [
      "HELLO\n"
     ]
    }
   ],
   "source": [
    "# String to convert to uppercase\n",
    "my_string = \"hello\"\n",
    "\n",
    "uppercase_string = my_string.upper() #Converting the string to uppercase\n",
    "print(uppercase_string) #Printing the uppercase string\n"
   ]
  },
  {
   "cell_type": "markdown",
   "id": "e31e0679-ac85-49f6-a8c9-6e743fb11925",
   "metadata": {},
   "source": [
    "5. Write a code to replace the word \"apple\" with \"orange\" in the string \"I like apple\""
   ]
  },
  {
   "cell_type": "code",
   "execution_count": 47,
   "id": "ef0e0651-c203-4f73-9f00-bf14f0803c91",
   "metadata": {},
   "outputs": [
    {
     "name": "stdout",
     "output_type": "stream",
     "text": [
      "I like orange\n"
     ]
    }
   ],
   "source": [
    "# Original string\n",
    "my_string = \"I like apple\"\n",
    "\n",
    "modified_string = my_string.replace(\"apple\", \"orange\") #Replacing 'apple' with 'orange'\n",
    "print(modified_string) # Printing the modified string\n"
   ]
  },
  {
   "cell_type": "markdown",
   "id": "a27351d2-f33f-4619-89fe-b97b71ad1eb1",
   "metadata": {},
   "source": [
    "6. Write a code to create a list with numbers 1 to 5 and print it"
   ]
  },
  {
   "cell_type": "code",
   "execution_count": 48,
   "id": "d62e4378-b3db-4fcc-828f-1fe6884a7f37",
   "metadata": {},
   "outputs": [
    {
     "name": "stdout",
     "output_type": "stream",
     "text": [
      "[1, 2, 3, 4, 5]\n"
     ]
    }
   ],
   "source": [
    "# Creating a list with numbers 1 to 5\n",
    "my_list = [1, 2, 3, 4, 5]\n",
    "\n",
    "print(my_list) # Printing the list\n"
   ]
  },
  {
   "cell_type": "markdown",
   "id": "8cc7e816-3b35-4109-b458-4a334bbca1fe",
   "metadata": {},
   "source": [
    "7. Write a code to append the number 10 to the list [1, 2, 3, 4]"
   ]
  },
  {
   "cell_type": "code",
   "execution_count": 50,
   "id": "79817c49-51e7-407b-9a04-f46db5fab3d5",
   "metadata": {},
   "outputs": [
    {
     "name": "stdout",
     "output_type": "stream",
     "text": [
      "[1, 2, 3, 4, 10]\n"
     ]
    }
   ],
   "source": [
    "# Original list\n",
    "my_list = [1, 2, 3, 4]\n",
    "\n",
    "my_list.append(10) # Appending the number 10 to the list\n",
    "print(my_list) # Printing the modified list"
   ]
  },
  {
   "cell_type": "markdown",
   "id": "64499843-efc2-41c5-90bc-3b81f922ad39",
   "metadata": {},
   "source": [
    "8. Write a code to remove the number 3 from the list [1, 2, 3, 4, 5]"
   ]
  },
  {
   "cell_type": "code",
   "execution_count": 51,
   "id": "c965fe91-166f-4c94-9db0-46d749582832",
   "metadata": {},
   "outputs": [
    {
     "name": "stdout",
     "output_type": "stream",
     "text": [
      "[1, 2, 4, 5]\n"
     ]
    }
   ],
   "source": [
    "# Original list\n",
    "my_list = [1, 2, 3, 4, 5]\n",
    "\n",
    "my_list.remove(3) # Removing the number 3 from the list\n",
    "print(my_list) # Printing the modified list\n"
   ]
  },
  {
   "cell_type": "markdown",
   "id": "d8f46fa7-6399-44cd-bccc-8c1df2be0afc",
   "metadata": {},
   "source": [
    "9. Write a code to access the second element in the list ['a', 'b', 'c', 'd']"
   ]
  },
  {
   "cell_type": "code",
   "execution_count": 52,
   "id": "36b73156-1fe7-4ec6-badd-8dd60d6601bd",
   "metadata": {},
   "outputs": [
    {
     "name": "stdout",
     "output_type": "stream",
     "text": [
      "b\n"
     ]
    }
   ],
   "source": [
    "# List\n",
    "my_list = ['a', 'b', 'c', 'd']\n",
    "\n",
    "second_element = my_list[1] # Accessing the second element\n",
    "print(second_element) # Printing the second element"
   ]
  },
  {
   "cell_type": "markdown",
   "id": "5d4912cb-7a07-4c3e-b594-39ad6a4c0ca4",
   "metadata": {},
   "source": [
    "10. Write a code to reverse the list [10, 20, 30, 40, 50]"
   ]
  },
  {
   "cell_type": "code",
   "execution_count": 53,
   "id": "9d2ffe1d-8f7b-4b1d-aca2-da9237e6219b",
   "metadata": {},
   "outputs": [
    {
     "name": "stdout",
     "output_type": "stream",
     "text": [
      "[50, 40, 30, 20, 10]\n"
     ]
    }
   ],
   "source": [
    "# Original list\n",
    "my_list = [10, 20, 30, 40, 50]\n",
    "\n",
    "my_list.reverse() #Reversing the list using reverse() method\n",
    "print(my_list) # Printing the reversed list\n"
   ]
  },
  {
   "cell_type": "markdown",
   "id": "b622db8f-8c21-4c07-bd7c-edbe7975a916",
   "metadata": {},
   "source": [
    "11. Write a code to create a tuple with the elements 10, 20, 30 and print it."
   ]
  },
  {
   "cell_type": "code",
   "execution_count": 54,
   "id": "6863d14a-6238-47ba-88d0-c2c445fe0d6b",
   "metadata": {},
   "outputs": [
    {
     "name": "stdout",
     "output_type": "stream",
     "text": [
      "(10, 20, 30)\n"
     ]
    }
   ],
   "source": [
    "# Creating a tuple with elements 10, 20, and 30\n",
    "my_tuple = (10, 20, 30)\n",
    "\n",
    "print(my_tuple) # Printing the tuple\n"
   ]
  },
  {
   "cell_type": "markdown",
   "id": "ec481e6a-0072-44d2-a425-a9845ad7bb08",
   "metadata": {},
   "source": [
    "12. Write a code to access the first element of the tuple ('apple', 'banana', 'cherry')."
   ]
  },
  {
   "cell_type": "code",
   "execution_count": 55,
   "id": "6b090341-db07-4bab-8421-09d5e8a8e86a",
   "metadata": {},
   "outputs": [
    {
     "name": "stdout",
     "output_type": "stream",
     "text": [
      "apple\n"
     ]
    }
   ],
   "source": [
    "# Tuple\n",
    "my_tuple = ('apple', 'banana', 'cherry')\n",
    "\n",
    "first_element = my_tuple[0] # Accessing the first element\n",
    "print(first_element) # Printing the first element\n"
   ]
  },
  {
   "cell_type": "markdown",
   "id": "4d6d192f-d796-409c-b08a-73ad1f7c0a2f",
   "metadata": {},
   "source": [
    "13. Write a code to count how many times the number 2 appears in the tuple (1, 2, 3, 2, 4, 2)"
   ]
  },
  {
   "cell_type": "code",
   "execution_count": 56,
   "id": "c3f8c234-aec1-4287-807e-bccdc3212261",
   "metadata": {},
   "outputs": [
    {
     "name": "stdout",
     "output_type": "stream",
     "text": [
      "3\n"
     ]
    }
   ],
   "source": [
    "# Tuple\n",
    "my_tuple = (1, 2, 3, 2, 4, 2)\n",
    "\n",
    "count_2 = my_tuple.count(2) # Counting the occurrences of the number 2\n",
    "print(count_2) # Printing the count\n"
   ]
  },
  {
   "cell_type": "markdown",
   "id": "0383b616-fabc-473b-9cb1-02b2d20fbba9",
   "metadata": {},
   "source": [
    "14. Write a code to find the index of the element \"cat\" in the tuple ('dog', 'cat', 'rabbit')."
   ]
  },
  {
   "cell_type": "code",
   "execution_count": 60,
   "id": "36a5f2b9-c6f9-4e3f-a20f-4c2aff416aee",
   "metadata": {},
   "outputs": [
    {
     "name": "stdout",
     "output_type": "stream",
     "text": [
      "1\n"
     ]
    }
   ],
   "source": [
    "# Tuple\n",
    "my_tuple = ('dog', 'cat', 'rabbit')\n",
    "\n",
    "index_of_cat = my_tuple.index('cat') # Finding the index of the element \"cat\"\n",
    "\n",
    "print(index_of_cat) # Printing the index\n"
   ]
  },
  {
   "cell_type": "markdown",
   "id": "13d84665-ef97-427e-81be-ae6c6d7c0df2",
   "metadata": {},
   "source": [
    "15. Write a code to check if the element \"banana\" is in the tuple ('apple', 'orange', 'banana')"
   ]
  },
  {
   "cell_type": "code",
   "execution_count": 61,
   "id": "cf0a2c62-53ca-4e97-b34b-c4677eee413b",
   "metadata": {},
   "outputs": [
    {
     "name": "stdout",
     "output_type": "stream",
     "text": [
      "Yes, 'banana' is in the tuple.\n"
     ]
    }
   ],
   "source": [
    "# Tuple\n",
    "my_tuple = ('apple', 'orange', 'banana')\n",
    "\n",
    "# Checking if \"banana\" is in the tuple\n",
    "if 'banana' in my_tuple:\n",
    "    print(\"Yes, 'banana' is in the tuple.\")\n",
    "else:\n",
    "    print(\"No, 'banana' is not in the tuple.\")"
   ]
  },
  {
   "cell_type": "markdown",
   "id": "56351c54-c2a7-4c13-ae6d-4a68b000cc3e",
   "metadata": {},
   "source": [
    "16. Write a code to create a set with the elements 1, 2, 3, 4, 5 and print it."
   ]
  },
  {
   "cell_type": "code",
   "execution_count": 62,
   "id": "83d431d0-c4a0-49e0-bd95-b046e2aaa7ac",
   "metadata": {},
   "outputs": [
    {
     "name": "stdout",
     "output_type": "stream",
     "text": [
      "{1, 2, 3, 4, 5}\n"
     ]
    }
   ],
   "source": [
    "# Creating a set with elements 1, 2, 3, 4, and 5\n",
    "my_set = {1, 2, 3, 4, 5}\n",
    "\n",
    "print(my_set) # Printing the set\n"
   ]
  },
  {
   "cell_type": "markdown",
   "id": "47176e33-1e36-4df9-b721-1d022a927649",
   "metadata": {},
   "source": [
    "17. Write a code to add the element 6 to the set {1, 2, 3, 4}"
   ]
  },
  {
   "cell_type": "code",
   "execution_count": 63,
   "id": "f523e4be-d5d1-4aaf-86af-500cf9ef47c9",
   "metadata": {},
   "outputs": [
    {
     "name": "stdout",
     "output_type": "stream",
     "text": [
      "{1, 2, 3, 4, 6}\n"
     ]
    }
   ],
   "source": [
    "# Original set\n",
    "my_set = {1, 2, 3, 4}\n",
    "\n",
    "my_set.add(6) # Adding the element 6 to the set\n",
    "print(my_set) # Printing the modified set\n"
   ]
  },
  {
   "cell_type": "markdown",
   "id": "02da8a9d-0d3d-4fde-81dc-1c1bb3a558a7",
   "metadata": {},
   "source": [
    "18. Write a code to create a tuple with the elements 10, 20, 30 and print it"
   ]
  },
  {
   "cell_type": "code",
   "execution_count": 64,
   "id": "d4d131e9-16fe-4145-beef-61e7a4184704",
   "metadata": {},
   "outputs": [
    {
     "name": "stdout",
     "output_type": "stream",
     "text": [
      "(10, 20, 30)\n"
     ]
    }
   ],
   "source": [
    "# Creating a tuple with elements 10, 20, and 30\n",
    "my_tuple = (10, 20, 30)\n",
    "\n",
    "print(my_tuple) # Printing the tuple\n"
   ]
  },
  {
   "cell_type": "markdown",
   "id": "cc08078b-d2d9-43a5-973c-91db44223200",
   "metadata": {},
   "source": [
    "19. Write a code to access the first element of the tuple ('apple', 'banana', 'cherry')"
   ]
  },
  {
   "cell_type": "code",
   "execution_count": 65,
   "id": "1e85f528-ec21-4b6e-b4b9-d2df5b778c4e",
   "metadata": {},
   "outputs": [
    {
     "name": "stdout",
     "output_type": "stream",
     "text": [
      "apple\n"
     ]
    }
   ],
   "source": [
    "# Tuple\n",
    "my_tuple = ('apple', 'banana', 'cherry')\n",
    "\n",
    "first_element = my_tuple[0] # Accessing the first element\n",
    "print(first_element) # Printing the first element"
   ]
  },
  {
   "cell_type": "markdown",
   "id": "415ac2f9-20ad-4eed-a688-800debdf4982",
   "metadata": {},
   "source": [
    "20. Write a code to count how many times the number 2 appears in the tuple (1, 2, 3, 2, 4, 2)"
   ]
  },
  {
   "cell_type": "code",
   "execution_count": 66,
   "id": "83a8d8ad-aee2-4553-ab45-b9e947ec6fcd",
   "metadata": {},
   "outputs": [
    {
     "name": "stdout",
     "output_type": "stream",
     "text": [
      "3\n"
     ]
    }
   ],
   "source": [
    "# Tuple\n",
    "my_tuple = (1, 2, 3, 2, 4, 2)\n",
    "\n",
    "count_of_2 = my_tuple.count(2) # Counting the occurrences of the number 2\n",
    "print(count_of_2) # Printing the count"
   ]
  },
  {
   "cell_type": "markdown",
   "id": "69e24c9c-8714-43fd-9bd9-f32611bf7d35",
   "metadata": {},
   "source": [
    "21. Write a code to find the index of the element \"cat\" in the tuple ('dog', 'cat', 'rabbit')"
   ]
  },
  {
   "cell_type": "code",
   "execution_count": 67,
   "id": "782600b7-d835-4b4d-8095-e1ce54f851b8",
   "metadata": {},
   "outputs": [
    {
     "name": "stdout",
     "output_type": "stream",
     "text": [
      "1\n"
     ]
    }
   ],
   "source": [
    "# Tuple\n",
    "my_tuple = ('dog', 'cat', 'rabbit')\n",
    "\n",
    "index_of_cat = my_tuple.index('cat') # Finding the index of the element \"cat\"\n",
    "print(index_of_cat) # Printing the index"
   ]
  },
  {
   "cell_type": "markdown",
   "id": "c27fdd3a-a8bd-4b1e-b74d-814f306a1b20",
   "metadata": {},
   "source": [
    "22. Write a code to check if the element \"banana\" is in the tuple ('apple', 'orange', 'banana')."
   ]
  },
  {
   "cell_type": "code",
   "execution_count": 68,
   "id": "acdb1b17-5b1d-41db-ab5e-eb4cd877eee7",
   "metadata": {},
   "outputs": [
    {
     "name": "stdout",
     "output_type": "stream",
     "text": [
      "Yes, 'banana' is in the tuple.\n"
     ]
    }
   ],
   "source": [
    "# Tuple\n",
    "my_tuple = ('apple', 'orange', 'banana')\n",
    "\n",
    "# Checking if \"banana\" is in the tuple\n",
    "if 'banana' in my_tuple:\n",
    "    print(\"Yes, 'banana' is in the tuple.\")\n",
    "else:\n",
    "    print(\"No, 'banana' is not in the tuple.\")"
   ]
  },
  {
   "cell_type": "markdown",
   "id": "559bb88b-e2b0-4953-b60e-fff947027fe5",
   "metadata": {},
   "source": [
    "23. Write a code to create a set with the elements 1, 2, 3, 4, 5 and print it."
   ]
  },
  {
   "cell_type": "code",
   "execution_count": 70,
   "id": "58f6bf99-5465-4303-92b8-936e56ec137d",
   "metadata": {},
   "outputs": [
    {
     "name": "stdout",
     "output_type": "stream",
     "text": [
      "{1, 2, 3, 4, 5}\n"
     ]
    }
   ],
   "source": [
    "# Creating a set with elements 1, 2, 3, 4, and 5\n",
    "my_set = {1, 2, 3, 4, 5}\n",
    "\n",
    "print(my_set) # Printing the set"
   ]
  },
  {
   "cell_type": "markdown",
   "id": "8f16b481-b367-4537-8d1d-a500e80e0e66",
   "metadata": {},
   "source": [
    "24. Write a code to add the element 6 to the set {1, 2, 3, 4}"
   ]
  },
  {
   "cell_type": "code",
   "execution_count": 71,
   "id": "25539d1b-55c4-41f7-b759-c1ab705853fc",
   "metadata": {},
   "outputs": [
    {
     "name": "stdout",
     "output_type": "stream",
     "text": [
      "{1, 2, 3, 4, 6}\n"
     ]
    }
   ],
   "source": [
    "# Original set\n",
    "my_set = {1, 2, 3, 4}\n",
    "\n",
    "my_set.add(6) # Adding the element 6 to the set\n",
    "print(my_set) # Printing the modified set"
   ]
  },
  {
   "cell_type": "markdown",
   "id": "0f9d45a8-89c6-461d-a935-482e877092b0",
   "metadata": {},
   "source": [
    "# The End"
   ]
  },
  {
   "cell_type": "code",
   "execution_count": null,
   "id": "5e823132-154d-4757-b683-3736708caafb",
   "metadata": {},
   "outputs": [],
   "source": []
  }
 ],
 "metadata": {
  "kernelspec": {
   "display_name": "Python 3 (ipykernel)",
   "language": "python",
   "name": "python3"
  },
  "language_info": {
   "codemirror_mode": {
    "name": "ipython",
    "version": 3
   },
   "file_extension": ".py",
   "mimetype": "text/x-python",
   "name": "python",
   "nbconvert_exporter": "python",
   "pygments_lexer": "ipython3",
   "version": "3.12.7"
  }
 },
 "nbformat": 4,
 "nbformat_minor": 5
}
